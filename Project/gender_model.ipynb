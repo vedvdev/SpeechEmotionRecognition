{
 "cells": [
  {
   "cell_type": "markdown",
   "metadata": {},
   "source": [
    "Feature Extraction and Testing and Training set Creation."
   ]
  },
  {
   "cell_type": "code",
   "execution_count": 1,
   "metadata": {},
   "outputs": [],
   "source": [
    "import numpy as np \n",
    "import pandas as pd \n",
    "import librosa \n",
    "import os\n",
    "from sklearn.model_selection import train_test_split\n",
    "import sklearn\n",
    "import librosa.display\n",
    "import matplotlib.pyplot as plt\n",
    "from sklearn.preprocessing import StandardScaler\n",
    "from sklearn.preprocessing import LabelEncoder\n",
    "import tensorflow as tf\n",
    "from tensorflow import keras\n",
    "from sklearn.model_selection import train_test_split\n",
    "from sklearn.preprocessing import StandardScaler\n",
    "from keras.callbacks import CSVLogger\n",
    "from sklearn.preprocessing import OneHotEncoder\n",
    "#from keras.callbacks import CSVLogger\n",
    "\n",
    "#from keras.callbacks import CSVLogger"
   ]
  },
  {
   "cell_type": "markdown",
   "metadata": {},
   "source": [
    "We will traverse through all the files and create a data frame containg Actor,Gender, Emotion and File Path for each audio files. Then we will use this dataframe to go through all the file path and get the mean mfccs values for each audio file. This mfcc value extracted for each audio file is used to train the model based on emotion associated with each audio file. "
   ]
  },
  {
   "cell_type": "code",
   "execution_count": 4,
   "metadata": {
    "tags": []
   },
   "outputs": [
    {
     "output_type": "stream",
     "name": "stdout",
     "text": [
      "      gender   emotion  actor                                       path\n0       male   neutral      1  ./Audio/Actor_01/03-01-01-01-01-01-01.wav\n1       male   neutral      1  ./Audio/Actor_01/03-01-01-01-01-02-01.wav\n2       male   neutral      1  ./Audio/Actor_01/03-01-01-01-02-01-01.wav\n3       male   neutral      1  ./Audio/Actor_01/03-01-01-01-02-02-01.wav\n4       male      calm      1  ./Audio/Actor_01/03-01-02-01-01-01-01.wav\n...      ...       ...    ...                                        ...\n1435  female  surprise     24  ./Audio/Actor_24/03-01-08-01-02-02-24.wav\n1436  female  surprise     24  ./Audio/Actor_24/03-01-08-02-01-01-24.wav\n1437  female  surprise     24  ./Audio/Actor_24/03-01-08-02-01-02-24.wav\n1438  female  surprise     24  ./Audio/Actor_24/03-01-08-02-02-01-24.wav\n1439  female  surprise     24  ./Audio/Actor_24/03-01-08-02-02-02-24.wav\n\n[1440 rows x 4 columns]\n"
     ]
    }
   ],
   "source": [
    "emotion=[]\n",
    "gender=[]\n",
    "actor=[]\n",
    "file_path=[]\n",
    "for i in os.listdir('./Audio'):\n",
    "    # print(i)\n",
    "    for j in os.listdir('./Audio/'+i):\n",
    "        # print(j)\n",
    "        # Splitting the File name\n",
    "        part = j.split('.')[0].split('-')\n",
    "        emotion.append(int(part[2]))\n",
    "        actor.append(int(part[6]))\n",
    "        if int(part[6])%2:\n",
    "            gender.append('male')\n",
    "        else:\n",
    "            gender.append(\"female\")\n",
    "        file_path.append('./Audio/' + i + '/' + j)\n",
    "\n",
    "# A dataframe containing all emotion, gender, actor, path\n",
    "new_df = pd.DataFrame(emotion)\n",
    "new_df = new_df.replace({1:'neutral', 2:'calm', 3:'happy', 4:'sad', 5:'angry', 6:'fear', 7:'disgust', 8:'surprise'})\n",
    "new_df = pd.concat([pd.DataFrame(gender), new_df,pd.DataFrame(actor)], axis=1)\n",
    "new_df.columns = ['gender','emotion','actor']\n",
    "new_df = pd.concat([new_df, pd.DataFrame(file_path, columns = ['path'])],axis=1)\n",
    "print(new_df)\n"
   ]
  },
  {
   "cell_type": "markdown",
   "metadata": {},
   "source": [
    "MFCC values for each audio file is extracted here. Generally, librosa.feature.mfcc returns us the mfcc of each audio file and is of shape 20 x 143 . So taking mean for each row using np.mean we get 20 mean mfcc values associated with each audio file. These 20 MFCC value will be used as training parameter."
   ]
  },
  {
   "cell_type": "code",
   "execution_count": 6,
   "metadata": {
    "tags": []
   },
   "outputs": [
    {
     "output_type": "execute_result",
     "data": {
      "text/plain": [
       "                                                MFCC\n",
       "0  [-666.3476, 65.67248, -0.28546765, 14.705958, ...\n",
       "1  [-657.2162, 67.10929, -2.6288135, 19.595482, 1...\n",
       "2  [-661.5828, 68.86064, -0.46880877, 16.265572, ...\n",
       "3  [-661.4031, 64.017494, 2.1174219, 14.93825, 7....\n",
       "4  [-680.4659, 75.32324, 0.0764176, 17.657768, 8...."
      ],
      "text/html": "<div>\n<style scoped>\n    .dataframe tbody tr th:only-of-type {\n        vertical-align: middle;\n    }\n\n    .dataframe tbody tr th {\n        vertical-align: top;\n    }\n\n    .dataframe thead th {\n        text-align: right;\n    }\n</style>\n<table border=\"1\" class=\"dataframe\">\n  <thead>\n    <tr style=\"text-align: right;\">\n      <th></th>\n      <th>MFCC</th>\n    </tr>\n  </thead>\n  <tbody>\n    <tr>\n      <th>0</th>\n      <td>[-666.3476, 65.67248, -0.28546765, 14.705958, ...</td>\n    </tr>\n    <tr>\n      <th>1</th>\n      <td>[-657.2162, 67.10929, -2.6288135, 19.595482, 1...</td>\n    </tr>\n    <tr>\n      <th>2</th>\n      <td>[-661.5828, 68.86064, -0.46880877, 16.265572, ...</td>\n    </tr>\n    <tr>\n      <th>3</th>\n      <td>[-661.4031, 64.017494, 2.1174219, 14.93825, 7....</td>\n    </tr>\n    <tr>\n      <th>4</th>\n      <td>[-680.4659, 75.32324, 0.0764176, 17.657768, 8....</td>\n    </tr>\n  </tbody>\n</table>\n</div>"
     },
     "metadata": {},
     "execution_count": 6
    }
   ],
   "source": [
    "# ITERATE OVER ALL AUDIO FILES AND EXTRACT MFCC\n",
    "# New df with column name 'MFCC'\n",
    "df = pd.DataFrame(columns=['MFCC'])\n",
    "count=0\n",
    "for path in new_df.path:\n",
    "    # Load audio and set the duration to 2.75sec so that we get MFCC array of same shape\n",
    "    X, sample_rate = librosa.load(path, duration=2.75)\n",
    "    # MFCC\n",
    "    # n_fcc is for number of properties in MFCC array\n",
    "    mfccs = librosa.feature.mfcc(X, sr = sample_rate, hop_length=512, n_mfcc=20)\n",
    "    # Get the mean of columns\n",
    "    mean = np.mean(mfccs.T, axis = 0)\n",
    "    df.loc[count] = [mean]\n",
    "\n",
    "    count = count+1\n",
    "df.head()"
   ]
  },
  {
   "cell_type": "code",
   "execution_count": 7,
   "metadata": {},
   "outputs": [
    {
     "output_type": "execute_result",
     "data": {
      "text/plain": [
       "((1440,), (20,))"
      ]
     },
     "metadata": {},
     "execution_count": 7
    }
   ],
   "source": [
    "df['MFCC'].shape, df['MFCC'][0].shape"
   ]
  },
  {
   "cell_type": "markdown",
   "metadata": {},
   "source": [
    "There are 1440 audio files so we get total ((1440,),(20,)) total as our dataset.  Now we combine this df with existing data frame containing other details of audio files. As we are training on mfccs values so that acts as X(input parameter) based on it's corresponding emotions values so this will act as Y(output parameter). We have divided train and test data in 0.7 : 0.3 ratio. "
   ]
  },
  {
   "cell_type": "code",
   "execution_count": 13,
   "metadata": {},
   "outputs": [
    {
     "output_type": "stream",
     "name": "stdout",
     "text": [
      "(1008, 20) (432, 20) (1008,) (432,)\n"
     ]
    }
   ],
   "source": [
    "# df contains MFCC column and audio_df which contains other labels\n",
    "combined_df = pd.concat([new_df, df], axis=1)\n",
    "combined_df.head()\n",
    "ddff = pd.concat([combined_df['gender'], combined_df['emotion']], axis=1)\n",
    "ddff = np.array(ddff)\n",
    "# Dividing dataset in training and testing set\n",
    "train_X, test_X, train_y, test_y = train_test_split(combined_df['MFCC'], combined_df['gender'], test_size=0.3, random_state=0)\n",
    "\n",
    "train_X=pd.DataFrame(train_X.values.tolist())\n",
    "test_X=pd.DataFrame(test_X.values.tolist())\n",
    "print(train_X.shape, test_X.shape, train_y.shape, test_y.shape)\n"
   ]
  },
  {
   "cell_type": "markdown",
   "metadata": {},
   "source": [
    "Data Preprocessing"
   ]
  },
  {
   "cell_type": "code",
   "execution_count": 14,
   "metadata": {},
   "outputs": [
    {
     "output_type": "stream",
     "name": "stdout",
     "text": [
      "(1008, 20) (432, 20) (1008,) (432,)\n(1008, 20) (432, 20) (1008, 2) (432, 2)\n(1008, 20) (432, 20) (1008, 2) (432, 2)\n"
     ]
    }
   ],
   "source": [
    "# Normalize Data\n",
    "mean = np.mean(train_X, axis=0)\n",
    "#print(mean.shape)\n",
    "std = np.std(train_X, axis=0)\n",
    "train_X = (train_X - mean)/std\n",
    "test_X = (test_X - mean)/std\n",
    "\n",
    "#np array\n",
    "train_X = np.array(train_X)\n",
    "train_y = np.array(train_y)\n",
    "test_X = np.array(test_X)\n",
    "test_y = np.array(test_y)\n",
    "print(train_X.shape,test_X.shape,train_y.shape,test_y.shape)\n",
    "\n",
    "#one_hot encode\n",
    "encoder = OneHotEncoder()\n",
    "train_y = np.array(train_y).reshape(-1,1)\n",
    "test_y = np.array(test_y).reshape(-1,1)\n",
    "train_y= encoder.fit_transform(train_y).toarray()\n",
    "test_y = encoder.fit_transform(test_y).toarray()\n",
    "print(train_X.shape,test_X.shape,train_y.shape,test_y.shape)\n",
    "\n",
    "#scaler fit\n",
    "scaler = StandardScaler()\n",
    "train_X = scaler.fit_transform(train_X)\n",
    "test_X = scaler.transform(test_X)\n",
    "print(train_X.shape,test_X.shape,train_y.shape,test_y.shape)\n"
   ]
  },
  {
   "cell_type": "code",
   "execution_count": 15,
   "metadata": {},
   "outputs": [],
   "source": [
    "#to plot\n",
    "\n",
    "def plot_history(history):\n",
    "  # function to plot accuracy vs epoch\n",
    "  plt.plot(history.history['accuracy'], label='accuracy')\n",
    "  plt.plot(history.history['val_accuracy'], label = 'val_accuracy')\n",
    "  plt.xlabel('Epoch')\n",
    "  plt.ylabel('Accuracy')\n",
    "  plt.legend(loc='lower right')\n",
    "\n"
   ]
  },
  {
   "cell_type": "markdown",
   "metadata": {},
   "source": [
    "Now we will define a model, and then run the model on the test train set we have created"
   ]
  },
  {
   "cell_type": "code",
   "execution_count": 16,
   "metadata": {},
   "outputs": [],
   "source": [
    "def build_mlp_model(input_shape=(20,), num_class=8):\n",
    "    \n",
    "    \n",
    "    model=keras.models.Sequential([keras.layers.Dropout(0.1),\n",
    "                                    keras.layers.Dense(512,activation='relu',input_shape=(train_X.shape[1],)),\n",
    "                                    keras.layers.Dropout(0.1),\n",
    "                                    keras.layers.Dense(512,activation='relu'),\n",
    "                                    keras.layers.Dropout(0.1),\n",
    "                                    keras.layers.Dense(128,activation='relu'),\n",
    "                                    keras.layers.Dense(64,activation='relu'),\n",
    "                                    keras.layers.Dense(train_y.shape[1],activation='softmax')\n",
    "                                    ])\n",
    "\n",
    "    return model"
   ]
  },
  {
   "cell_type": "markdown",
   "metadata": {},
   "source": [
    "First we will train this MLP model on 'categorical_crossentropy'as loss function, and 'adam' as optimizer and check the accuracy."
   ]
  },
  {
   "cell_type": "code",
   "execution_count": 17,
   "metadata": {
    "tags": [
     "outputPrepend"
    ]
   },
   "outputs": [
    {
     "output_type": "stream",
     "name": "stdout",
     "text": [
      "77 - val_accuracy: 0.9815\n",
      "Epoch 872/1000\n",
      "4/4 [==============================] - 0s 25ms/step - loss: 0.0016 - accuracy: 1.0000 - val_loss: 0.0568 - val_accuracy: 0.9838\n",
      "Epoch 873/1000\n",
      "4/4 [==============================] - 0s 24ms/step - loss: 0.0058 - accuracy: 0.9970 - val_loss: 0.0521 - val_accuracy: 0.9861\n",
      "Epoch 874/1000\n",
      "4/4 [==============================] - 0s 26ms/step - loss: 0.0015 - accuracy: 1.0000 - val_loss: 0.0530 - val_accuracy: 0.9861\n",
      "Epoch 875/1000\n",
      "4/4 [==============================] - 0s 23ms/step - loss: 0.0103 - accuracy: 0.9960 - val_loss: 0.0662 - val_accuracy: 0.9838\n",
      "Epoch 876/1000\n",
      "4/4 [==============================] - 0s 23ms/step - loss: 0.0012 - accuracy: 1.0000 - val_loss: 0.0789 - val_accuracy: 0.9815\n",
      "Epoch 877/1000\n",
      "4/4 [==============================] - 0s 22ms/step - loss: 5.6581e-04 - accuracy: 1.0000 - val_loss: 0.0873 - val_accuracy: 0.9838\n",
      "Epoch 878/1000\n",
      "4/4 [==============================] - 0s 23ms/step - loss: 0.0016 - accuracy: 1.0000 - val_loss: 0.0831 - val_accuracy: 0.9861\n",
      "Epoch 879/1000\n",
      "4/4 [==============================] - 0s 21ms/step - loss: 0.0036 - accuracy: 0.9980 - val_loss: 0.0743 - val_accuracy: 0.9861\n",
      "Epoch 880/1000\n",
      "4/4 [==============================] - 0s 25ms/step - loss: 0.0047 - accuracy: 0.9990 - val_loss: 0.0578 - val_accuracy: 0.9884\n",
      "Epoch 881/1000\n",
      "4/4 [==============================] - 0s 24ms/step - loss: 0.0036 - accuracy: 0.9980 - val_loss: 0.0491 - val_accuracy: 0.9907\n",
      "Epoch 882/1000\n",
      "4/4 [==============================] - 0s 23ms/step - loss: 0.0020 - accuracy: 0.9990 - val_loss: 0.0485 - val_accuracy: 0.9907\n",
      "Epoch 883/1000\n",
      "4/4 [==============================] - 0s 21ms/step - loss: 0.0012 - accuracy: 1.0000 - val_loss: 0.0504 - val_accuracy: 0.9907\n",
      "Epoch 884/1000\n",
      "4/4 [==============================] - 0s 23ms/step - loss: 0.0015 - accuracy: 1.0000 - val_loss: 0.0535 - val_accuracy: 0.9907\n",
      "Epoch 885/1000\n",
      "4/4 [==============================] - 0s 21ms/step - loss: 0.0071 - accuracy: 0.9990 - val_loss: 0.0508 - val_accuracy: 0.9907\n",
      "Epoch 886/1000\n",
      "4/4 [==============================] - 0s 22ms/step - loss: 0.0050 - accuracy: 0.9980 - val_loss: 0.0514 - val_accuracy: 0.9907\n",
      "Epoch 887/1000\n",
      "4/4 [==============================] - 0s 24ms/step - loss: 0.0106 - accuracy: 0.9960 - val_loss: 0.0575 - val_accuracy: 0.9884\n",
      "Epoch 888/1000\n",
      "4/4 [==============================] - 0s 22ms/step - loss: 6.4746e-04 - accuracy: 1.0000 - val_loss: 0.0656 - val_accuracy: 0.9838\n",
      "Epoch 889/1000\n",
      "4/4 [==============================] - 0s 23ms/step - loss: 0.0013 - accuracy: 1.0000 - val_loss: 0.0711 - val_accuracy: 0.9838\n",
      "Epoch 890/1000\n",
      "4/4 [==============================] - 0s 22ms/step - loss: 8.3357e-04 - accuracy: 1.0000 - val_loss: 0.0778 - val_accuracy: 0.9838\n",
      "Epoch 891/1000\n",
      "4/4 [==============================] - 0s 22ms/step - loss: 0.0015 - accuracy: 1.0000 - val_loss: 0.0802 - val_accuracy: 0.9838\n",
      "Epoch 892/1000\n",
      "4/4 [==============================] - 0s 23ms/step - loss: 0.0015 - accuracy: 1.0000 - val_loss: 0.0798 - val_accuracy: 0.9861\n",
      "Epoch 893/1000\n",
      "4/4 [==============================] - 0s 25ms/step - loss: 7.9356e-04 - accuracy: 1.0000 - val_loss: 0.0794 - val_accuracy: 0.9861\n",
      "Epoch 894/1000\n",
      "4/4 [==============================] - 0s 25ms/step - loss: 0.0096 - accuracy: 0.9980 - val_loss: 0.0703 - val_accuracy: 0.9861\n",
      "Epoch 895/1000\n",
      "4/4 [==============================] - 0s 23ms/step - loss: 3.9117e-04 - accuracy: 1.0000 - val_loss: 0.0576 - val_accuracy: 0.9907\n",
      "Epoch 896/1000\n",
      "4/4 [==============================] - 0s 22ms/step - loss: 0.0028 - accuracy: 0.9980 - val_loss: 0.0540 - val_accuracy: 0.9931\n",
      "Epoch 897/1000\n",
      "4/4 [==============================] - 0s 24ms/step - loss: 0.0038 - accuracy: 0.9980 - val_loss: 0.0549 - val_accuracy: 0.9931\n",
      "Epoch 898/1000\n",
      "4/4 [==============================] - 0s 24ms/step - loss: 0.0028 - accuracy: 0.9980 - val_loss: 0.0594 - val_accuracy: 0.9907\n",
      "Epoch 899/1000\n",
      "4/4 [==============================] - 0s 22ms/step - loss: 0.0028 - accuracy: 0.9990 - val_loss: 0.0712 - val_accuracy: 0.9884\n",
      "Epoch 900/1000\n",
      "4/4 [==============================] - 0s 22ms/step - loss: 0.0080 - accuracy: 0.9970 - val_loss: 0.0790 - val_accuracy: 0.9838\n",
      "Epoch 901/1000\n",
      "4/4 [==============================] - 0s 23ms/step - loss: 0.0095 - accuracy: 0.9980 - val_loss: 0.0577 - val_accuracy: 0.9907\n",
      "Epoch 902/1000\n",
      "4/4 [==============================] - 0s 23ms/step - loss: 0.0016 - accuracy: 1.0000 - val_loss: 0.0519 - val_accuracy: 0.9931\n",
      "Epoch 903/1000\n",
      "4/4 [==============================] - 0s 21ms/step - loss: 0.0096 - accuracy: 0.9980 - val_loss: 0.0522 - val_accuracy: 0.9931\n",
      "Epoch 904/1000\n",
      "4/4 [==============================] - 0s 22ms/step - loss: 0.0055 - accuracy: 0.9970 - val_loss: 0.0525 - val_accuracy: 0.9931\n",
      "Epoch 905/1000\n",
      "4/4 [==============================] - 0s 23ms/step - loss: 9.0747e-04 - accuracy: 1.0000 - val_loss: 0.0529 - val_accuracy: 0.9907\n",
      "Epoch 906/1000\n",
      "4/4 [==============================] - 0s 25ms/step - loss: 0.0014 - accuracy: 0.9990 - val_loss: 0.0560 - val_accuracy: 0.9931\n",
      "Epoch 907/1000\n",
      "4/4 [==============================] - 0s 22ms/step - loss: 0.0017 - accuracy: 0.9990 - val_loss: 0.0625 - val_accuracy: 0.9884\n",
      "Epoch 908/1000\n",
      "4/4 [==============================] - 0s 23ms/step - loss: 0.0027 - accuracy: 0.9990 - val_loss: 0.0720 - val_accuracy: 0.9815\n",
      "Epoch 909/1000\n",
      "4/4 [==============================] - 0s 22ms/step - loss: 0.0016 - accuracy: 1.0000 - val_loss: 0.0812 - val_accuracy: 0.9792\n",
      "Epoch 910/1000\n",
      "4/4 [==============================] - 0s 31ms/step - loss: 0.0011 - accuracy: 0.9990 - val_loss: 0.0891 - val_accuracy: 0.9769\n",
      "Epoch 911/1000\n",
      "4/4 [==============================] - 0s 23ms/step - loss: 0.0035 - accuracy: 0.9980 - val_loss: 0.0990 - val_accuracy: 0.9769\n",
      "Epoch 912/1000\n",
      "4/4 [==============================] - 0s 22ms/step - loss: 0.0023 - accuracy: 0.9990 - val_loss: 0.1040 - val_accuracy: 0.9769\n",
      "Epoch 913/1000\n",
      "4/4 [==============================] - 0s 23ms/step - loss: 0.0099 - accuracy: 0.9970 - val_loss: 0.0957 - val_accuracy: 0.9792\n",
      "Epoch 914/1000\n",
      "4/4 [==============================] - 0s 21ms/step - loss: 0.0046 - accuracy: 0.9990 - val_loss: 0.0938 - val_accuracy: 0.9838\n",
      "Epoch 915/1000\n",
      "4/4 [==============================] - 0s 24ms/step - loss: 0.0035 - accuracy: 0.9990 - val_loss: 0.0909 - val_accuracy: 0.9838\n",
      "Epoch 916/1000\n",
      "4/4 [==============================] - 0s 23ms/step - loss: 0.0081 - accuracy: 0.9980 - val_loss: 0.0825 - val_accuracy: 0.9861\n",
      "Epoch 917/1000\n",
      "4/4 [==============================] - 0s 21ms/step - loss: 9.8082e-04 - accuracy: 1.0000 - val_loss: 0.0677 - val_accuracy: 0.9907\n",
      "Epoch 918/1000\n",
      "4/4 [==============================] - 0s 22ms/step - loss: 4.2407e-04 - accuracy: 1.0000 - val_loss: 0.0631 - val_accuracy: 0.9907\n",
      "Epoch 919/1000\n",
      "4/4 [==============================] - 0s 24ms/step - loss: 0.0099 - accuracy: 0.9970 - val_loss: 0.0659 - val_accuracy: 0.9907\n",
      "Epoch 920/1000\n",
      "4/4 [==============================] - 0s 22ms/step - loss: 4.0144e-04 - accuracy: 1.0000 - val_loss: 0.0705 - val_accuracy: 0.9861\n",
      "Epoch 921/1000\n",
      "4/4 [==============================] - 0s 23ms/step - loss: 0.0019 - accuracy: 0.9990 - val_loss: 0.0719 - val_accuracy: 0.9861\n",
      "Epoch 922/1000\n",
      "4/4 [==============================] - 0s 22ms/step - loss: 7.2174e-04 - accuracy: 1.0000 - val_loss: 0.0725 - val_accuracy: 0.9861\n",
      "Epoch 923/1000\n",
      "4/4 [==============================] - 0s 21ms/step - loss: 0.0050 - accuracy: 0.9980 - val_loss: 0.0721 - val_accuracy: 0.9884\n",
      "Epoch 924/1000\n",
      "4/4 [==============================] - 0s 25ms/step - loss: 0.0054 - accuracy: 0.9980 - val_loss: 0.0656 - val_accuracy: 0.9907\n",
      "Epoch 925/1000\n",
      "4/4 [==============================] - 0s 26ms/step - loss: 0.0067 - accuracy: 0.9970 - val_loss: 0.0619 - val_accuracy: 0.9907\n",
      "Epoch 926/1000\n",
      "4/4 [==============================] - 0s 24ms/step - loss: 0.0014 - accuracy: 1.0000 - val_loss: 0.0634 - val_accuracy: 0.9907\n",
      "Epoch 927/1000\n",
      "4/4 [==============================] - 0s 24ms/step - loss: 0.0029 - accuracy: 0.9980 - val_loss: 0.0653 - val_accuracy: 0.9907\n",
      "Epoch 928/1000\n",
      "4/4 [==============================] - 0s 21ms/step - loss: 0.0040 - accuracy: 0.9980 - val_loss: 0.0618 - val_accuracy: 0.9907\n",
      "Epoch 929/1000\n",
      "4/4 [==============================] - 0s 25ms/step - loss: 0.0050 - accuracy: 0.9990 - val_loss: 0.0583 - val_accuracy: 0.9907\n",
      "Epoch 930/1000\n",
      "4/4 [==============================] - 0s 23ms/step - loss: 0.0026 - accuracy: 0.9990 - val_loss: 0.0584 - val_accuracy: 0.9907\n",
      "Epoch 931/1000\n",
      "4/4 [==============================] - 0s 26ms/step - loss: 6.9905e-04 - accuracy: 1.0000 - val_loss: 0.0593 - val_accuracy: 0.9884\n",
      "Epoch 932/1000\n",
      "4/4 [==============================] - 0s 23ms/step - loss: 0.0027 - accuracy: 0.9980 - val_loss: 0.0602 - val_accuracy: 0.9884\n",
      "Epoch 933/1000\n",
      "4/4 [==============================] - 0s 22ms/step - loss: 5.7188e-04 - accuracy: 1.0000 - val_loss: 0.0611 - val_accuracy: 0.9884\n",
      "Epoch 934/1000\n",
      "4/4 [==============================] - 0s 21ms/step - loss: 0.0058 - accuracy: 0.9990 - val_loss: 0.0618 - val_accuracy: 0.9884\n",
      "Epoch 935/1000\n",
      "4/4 [==============================] - 0s 21ms/step - loss: 6.6393e-04 - accuracy: 1.0000 - val_loss: 0.0630 - val_accuracy: 0.9861\n",
      "Epoch 936/1000\n",
      "4/4 [==============================] - 0s 23ms/step - loss: 0.0068 - accuracy: 0.9970 - val_loss: 0.0635 - val_accuracy: 0.9884\n",
      "Epoch 937/1000\n",
      "4/4 [==============================] - 0s 22ms/step - loss: 0.0020 - accuracy: 1.0000 - val_loss: 0.0636 - val_accuracy: 0.9907\n",
      "Epoch 938/1000\n",
      "4/4 [==============================] - 0s 23ms/step - loss: 0.0012 - accuracy: 1.0000 - val_loss: 0.0663 - val_accuracy: 0.9884\n",
      "Epoch 939/1000\n",
      "4/4 [==============================] - 0s 22ms/step - loss: 0.0091 - accuracy: 0.9980 - val_loss: 0.0693 - val_accuracy: 0.9907\n",
      "Epoch 940/1000\n",
      "4/4 [==============================] - 0s 22ms/step - loss: 0.0041 - accuracy: 0.9980 - val_loss: 0.0730 - val_accuracy: 0.9907\n",
      "Epoch 941/1000\n",
      "4/4 [==============================] - 0s 22ms/step - loss: 0.0019 - accuracy: 0.9990 - val_loss: 0.0745 - val_accuracy: 0.9861\n",
      "Epoch 942/1000\n",
      "4/4 [==============================] - 0s 24ms/step - loss: 0.0039 - accuracy: 0.9990 - val_loss: 0.0735 - val_accuracy: 0.9861\n",
      "Epoch 943/1000\n",
      "4/4 [==============================] - 0s 25ms/step - loss: 0.0019 - accuracy: 1.0000 - val_loss: 0.0722 - val_accuracy: 0.9884\n",
      "Epoch 944/1000\n",
      "4/4 [==============================] - 0s 28ms/step - loss: 0.0025 - accuracy: 0.9990 - val_loss: 0.0702 - val_accuracy: 0.9884\n",
      "Epoch 945/1000\n",
      "4/4 [==============================] - 0s 29ms/step - loss: 0.0094 - accuracy: 0.9990 - val_loss: 0.0698 - val_accuracy: 0.9907\n",
      "Epoch 946/1000\n",
      "4/4 [==============================] - 0s 23ms/step - loss: 8.6834e-04 - accuracy: 1.0000 - val_loss: 0.0666 - val_accuracy: 0.9907\n",
      "Epoch 947/1000\n",
      "4/4 [==============================] - 0s 22ms/step - loss: 0.0014 - accuracy: 1.0000 - val_loss: 0.0653 - val_accuracy: 0.9884\n",
      "Epoch 948/1000\n",
      "4/4 [==============================] - 0s 25ms/step - loss: 0.0050 - accuracy: 0.9980 - val_loss: 0.0658 - val_accuracy: 0.9884\n",
      "Epoch 949/1000\n",
      "4/4 [==============================] - 0s 21ms/step - loss: 0.0011 - accuracy: 0.9990 - val_loss: 0.0663 - val_accuracy: 0.9884\n",
      "Epoch 950/1000\n",
      "4/4 [==============================] - 0s 22ms/step - loss: 0.0022 - accuracy: 0.9980 - val_loss: 0.0667 - val_accuracy: 0.9907\n",
      "Epoch 951/1000\n",
      "4/4 [==============================] - 0s 23ms/step - loss: 0.0013 - accuracy: 0.9990 - val_loss: 0.0661 - val_accuracy: 0.9907\n",
      "Epoch 952/1000\n",
      "4/4 [==============================] - 0s 23ms/step - loss: 0.0011 - accuracy: 1.0000 - val_loss: 0.0664 - val_accuracy: 0.9884\n",
      "Epoch 953/1000\n",
      "4/4 [==============================] - 0s 22ms/step - loss: 3.3749e-04 - accuracy: 1.0000 - val_loss: 0.0682 - val_accuracy: 0.9861\n",
      "Epoch 954/1000\n",
      "4/4 [==============================] - 0s 22ms/step - loss: 0.0088 - accuracy: 0.9990 - val_loss: 0.0697 - val_accuracy: 0.9884\n",
      "Epoch 955/1000\n",
      "4/4 [==============================] - 0s 22ms/step - loss: 3.3255e-04 - accuracy: 1.0000 - val_loss: 0.0714 - val_accuracy: 0.9884\n",
      "Epoch 956/1000\n",
      "4/4 [==============================] - 0s 22ms/step - loss: 0.0020 - accuracy: 0.9990 - val_loss: 0.0710 - val_accuracy: 0.9884\n",
      "Epoch 957/1000\n",
      "4/4 [==============================] - 0s 24ms/step - loss: 0.0011 - accuracy: 0.9990 - val_loss: 0.0674 - val_accuracy: 0.9884\n",
      "Epoch 958/1000\n",
      "4/4 [==============================] - 0s 23ms/step - loss: 0.0033 - accuracy: 0.9990 - val_loss: 0.0638 - val_accuracy: 0.9884\n",
      "Epoch 959/1000\n",
      "4/4 [==============================] - 0s 23ms/step - loss: 8.2083e-04 - accuracy: 1.0000 - val_loss: 0.0611 - val_accuracy: 0.9884\n",
      "Epoch 960/1000\n",
      "4/4 [==============================] - 0s 22ms/step - loss: 7.2327e-04 - accuracy: 1.0000 - val_loss: 0.0596 - val_accuracy: 0.9884\n",
      "Epoch 961/1000\n",
      "4/4 [==============================] - 0s 23ms/step - loss: 0.0022 - accuracy: 0.9990 - val_loss: 0.0599 - val_accuracy: 0.9884\n",
      "Epoch 962/1000\n",
      "4/4 [==============================] - 0s 22ms/step - loss: 0.0017 - accuracy: 0.9990 - val_loss: 0.0596 - val_accuracy: 0.9884\n",
      "Epoch 963/1000\n",
      "4/4 [==============================] - 0s 24ms/step - loss: 7.8487e-04 - accuracy: 1.0000 - val_loss: 0.0601 - val_accuracy: 0.9884\n",
      "Epoch 964/1000\n",
      "4/4 [==============================] - 0s 24ms/step - loss: 4.6073e-04 - accuracy: 1.0000 - val_loss: 0.0618 - val_accuracy: 0.9884\n",
      "Epoch 965/1000\n",
      "4/4 [==============================] - 0s 23ms/step - loss: 1.8046e-04 - accuracy: 1.0000 - val_loss: 0.0636 - val_accuracy: 0.9907\n",
      "Epoch 966/1000\n",
      "4/4 [==============================] - 0s 23ms/step - loss: 1.7096e-04 - accuracy: 1.0000 - val_loss: 0.0649 - val_accuracy: 0.9907\n",
      "Epoch 967/1000\n",
      "4/4 [==============================] - 0s 29ms/step - loss: 0.0010 - accuracy: 0.9990 - val_loss: 0.0668 - val_accuracy: 0.9884\n",
      "Epoch 968/1000\n",
      "4/4 [==============================] - 0s 22ms/step - loss: 0.0026 - accuracy: 0.9990 - val_loss: 0.0706 - val_accuracy: 0.9884\n",
      "Epoch 969/1000\n",
      "4/4 [==============================] - 0s 25ms/step - loss: 0.0052 - accuracy: 0.9980 - val_loss: 0.0672 - val_accuracy: 0.9907\n",
      "Epoch 970/1000\n",
      "4/4 [==============================] - 0s 23ms/step - loss: 3.5396e-04 - accuracy: 1.0000 - val_loss: 0.0661 - val_accuracy: 0.9907\n",
      "Epoch 971/1000\n",
      "4/4 [==============================] - 0s 22ms/step - loss: 0.0042 - accuracy: 0.9980 - val_loss: 0.0642 - val_accuracy: 0.9907\n",
      "Epoch 972/1000\n",
      "4/4 [==============================] - 0s 22ms/step - loss: 8.1146e-04 - accuracy: 1.0000 - val_loss: 0.0632 - val_accuracy: 0.9907\n",
      "Epoch 973/1000\n",
      "4/4 [==============================] - 0s 23ms/step - loss: 8.0776e-04 - accuracy: 1.0000 - val_loss: 0.0663 - val_accuracy: 0.9907\n",
      "Epoch 974/1000\n",
      "4/4 [==============================] - 0s 22ms/step - loss: 0.0061 - accuracy: 0.9990 - val_loss: 0.0749 - val_accuracy: 0.9861\n",
      "Epoch 975/1000\n",
      "4/4 [==============================] - 0s 22ms/step - loss: 0.0050 - accuracy: 0.9980 - val_loss: 0.0982 - val_accuracy: 0.9838\n",
      "Epoch 976/1000\n",
      "4/4 [==============================] - 0s 23ms/step - loss: 0.0061 - accuracy: 0.9990 - val_loss: 0.1174 - val_accuracy: 0.9815\n",
      "Epoch 977/1000\n",
      "4/4 [==============================] - 0s 24ms/step - loss: 0.0123 - accuracy: 0.9970 - val_loss: 0.1202 - val_accuracy: 0.9815\n",
      "Epoch 978/1000\n",
      "4/4 [==============================] - 0s 22ms/step - loss: 0.0026 - accuracy: 0.9990 - val_loss: 0.1016 - val_accuracy: 0.9815\n",
      "Epoch 979/1000\n",
      "4/4 [==============================] - 0s 24ms/step - loss: 8.5252e-04 - accuracy: 1.0000 - val_loss: 0.0878 - val_accuracy: 0.9838\n",
      "Epoch 980/1000\n",
      "4/4 [==============================] - 0s 22ms/step - loss: 0.0022 - accuracy: 0.9990 - val_loss: 0.0747 - val_accuracy: 0.9838\n",
      "Epoch 981/1000\n",
      "4/4 [==============================] - 0s 21ms/step - loss: 0.0052 - accuracy: 0.9990 - val_loss: 0.0702 - val_accuracy: 0.9838\n",
      "Epoch 982/1000\n",
      "4/4 [==============================] - 0s 22ms/step - loss: 0.0049 - accuracy: 0.9990 - val_loss: 0.0656 - val_accuracy: 0.9838\n",
      "Epoch 983/1000\n",
      "4/4 [==============================] - 0s 25ms/step - loss: 0.0112 - accuracy: 0.9970 - val_loss: 0.0605 - val_accuracy: 0.9861\n",
      "Epoch 984/1000\n",
      "4/4 [==============================] - 0s 22ms/step - loss: 0.0029 - accuracy: 0.9990 - val_loss: 0.0598 - val_accuracy: 0.9861\n",
      "Epoch 985/1000\n",
      "4/4 [==============================] - 0s 22ms/step - loss: 0.0138 - accuracy: 0.9960 - val_loss: 0.0671 - val_accuracy: 0.9815\n",
      "Epoch 986/1000\n",
      "4/4 [==============================] - 0s 22ms/step - loss: 0.0018 - accuracy: 0.9990 - val_loss: 0.0662 - val_accuracy: 0.9815\n",
      "Epoch 987/1000\n",
      "4/4 [==============================] - 0s 21ms/step - loss: 0.0011 - accuracy: 1.0000 - val_loss: 0.0631 - val_accuracy: 0.9838\n",
      "Epoch 988/1000\n",
      "4/4 [==============================] - 0s 21ms/step - loss: 8.2972e-04 - accuracy: 1.0000 - val_loss: 0.0615 - val_accuracy: 0.9838\n",
      "Epoch 989/1000\n",
      "4/4 [==============================] - 0s 23ms/step - loss: 0.0057 - accuracy: 0.9990 - val_loss: 0.0577 - val_accuracy: 0.9861\n",
      "Epoch 990/1000\n",
      "4/4 [==============================] - 0s 22ms/step - loss: 0.0121 - accuracy: 0.9970 - val_loss: 0.0454 - val_accuracy: 0.9907\n",
      "Epoch 991/1000\n",
      "4/4 [==============================] - 0s 23ms/step - loss: 0.0114 - accuracy: 0.9990 - val_loss: 0.0415 - val_accuracy: 0.9907\n",
      "Epoch 992/1000\n",
      "4/4 [==============================] - 0s 23ms/step - loss: 0.0135 - accuracy: 0.9980 - val_loss: 0.0385 - val_accuracy: 0.9907\n",
      "Epoch 993/1000\n",
      "4/4 [==============================] - 0s 22ms/step - loss: 0.0080 - accuracy: 0.9980 - val_loss: 0.0409 - val_accuracy: 0.9907\n",
      "Epoch 994/1000\n",
      "4/4 [==============================] - 0s 22ms/step - loss: 0.0032 - accuracy: 0.9990 - val_loss: 0.0431 - val_accuracy: 0.9907\n",
      "Epoch 995/1000\n",
      "4/4 [==============================] - 0s 23ms/step - loss: 0.0029 - accuracy: 1.0000 - val_loss: 0.0473 - val_accuracy: 0.9907\n",
      "Epoch 996/1000\n",
      "4/4 [==============================] - 0s 26ms/step - loss: 0.0048 - accuracy: 0.9980 - val_loss: 0.0495 - val_accuracy: 0.9907\n",
      "Epoch 997/1000\n",
      "4/4 [==============================] - 0s 23ms/step - loss: 0.0023 - accuracy: 0.9990 - val_loss: 0.0521 - val_accuracy: 0.9907\n",
      "Epoch 998/1000\n",
      "4/4 [==============================] - 0s 25ms/step - loss: 9.8487e-04 - accuracy: 1.0000 - val_loss: 0.0549 - val_accuracy: 0.9907\n",
      "Epoch 999/1000\n",
      "4/4 [==============================] - 0s 22ms/step - loss: 0.0024 - accuracy: 0.9990 - val_loss: 0.0551 - val_accuracy: 0.9907\n",
      "Epoch 1000/1000\n",
      "4/4 [==============================] - 0s 23ms/step - loss: 0.0080 - accuracy: 0.9960 - val_loss: 0.0451 - val_accuracy: 0.9907\n",
      "Model: \"sequential_1\"\n",
      "_________________________________________________________________\n",
      "Layer (type)                 Output Shape              Param #   \n",
      "=================================================================\n",
      "dropout_3 (Dropout)          (None, 20)                0         \n",
      "_________________________________________________________________\n",
      "dense_5 (Dense)              (None, 512)               10752     \n",
      "_________________________________________________________________\n",
      "dropout_4 (Dropout)          (None, 512)               0         \n",
      "_________________________________________________________________\n",
      "dense_6 (Dense)              (None, 512)               262656    \n",
      "_________________________________________________________________\n",
      "dropout_5 (Dropout)          (None, 512)               0         \n",
      "_________________________________________________________________\n",
      "dense_7 (Dense)              (None, 128)               65664     \n",
      "_________________________________________________________________\n",
      "dense_8 (Dense)              (None, 64)                8256      \n",
      "_________________________________________________________________\n",
      "dense_9 (Dense)              (None, 2)                 130       \n",
      "=================================================================\n",
      "Total params: 347,458\n",
      "Trainable params: 347,458\n",
      "Non-trainable params: 0\n",
      "_________________________________________________________________\n"
     ]
    }
   ],
   "source": [
    "print(train_X.shape,train_y.shape,test_X.shape,test_y.shape)\n",
    "model=build_mlp_model()\n",
    "model.compile(loss='categorical_crossentropy',optimizer='adam',metrics=['accuracy'])\n",
    "csv_logger = CSVLogger('model_history.log', separator=',', append=False)\n",
    "\n",
    "history=model.fit(train_X,train_y, epochs=1000, batch_size=256, validation_data=(test_X,test_y), callbacks=[csv_logger])\n",
    "model.summary()\n"
   ]
  },
  {
   "cell_type": "code",
   "execution_count": 18,
   "metadata": {},
   "outputs": [
    {
     "output_type": "stream",
     "name": "stdout",
     "text": [
      "14/14 [==============================] - 0s 2ms/step - loss: 0.0451 - accuracy: 0.9907\n"
     ]
    },
    {
     "output_type": "execute_result",
     "data": {
      "text/plain": [
       "[0.04512011259794235, 0.9907407164573669]"
      ]
     },
     "metadata": {},
     "execution_count": 18
    },
    {
     "output_type": "display_data",
     "data": {
      "text/plain": "<Figure size 432x288 with 1 Axes>",
      "image/svg+xml": "<?xml version=\"1.0\" encoding=\"utf-8\" standalone=\"no\"?>\r\n<!DOCTYPE svg PUBLIC \"-//W3C//DTD SVG 1.1//EN\"\r\n  \"http://www.w3.org/Graphics/SVG/1.1/DTD/svg11.dtd\">\r\n<svg height=\"262.19625pt\" version=\"1.1\" viewBox=\"0 0 392.14375 262.19625\" width=\"392.14375pt\" xmlns=\"http://www.w3.org/2000/svg\" xmlns:xlink=\"http://www.w3.org/1999/xlink\">\r\n <metadata>\r\n  <rdf:RDF xmlns:cc=\"http://creativecommons.org/ns#\" xmlns:dc=\"http://purl.org/dc/elements/1.1/\" xmlns:rdf=\"http://www.w3.org/1999/02/22-rdf-syntax-ns#\">\r\n   <cc:Work>\r\n    <dc:type rdf:resource=\"http://purl.org/dc/dcmitype/StillImage\"/>\r\n    <dc:date>2021-06-18T16:27:18.802665</dc:date>\r\n    <dc:format>image/svg+xml</dc:format>\r\n    <dc:creator>\r\n     <cc:Agent>\r\n      <dc:title>Matplotlib v3.4.2, https://matplotlib.org/</dc:title>\r\n     </cc:Agent>\r\n    </dc:creator>\r\n   </cc:Work>\r\n  </rdf:RDF>\r\n </metadata>\r\n <defs>\r\n  <style type=\"text/css\">*{stroke-linecap:butt;stroke-linejoin:round;}</style>\r\n </defs>\r\n <g id=\"figure_1\">\r\n  <g id=\"patch_1\">\r\n   <path d=\"M 0 262.19625 \r\nL 392.14375 262.19625 \r\nL 392.14375 0 \r\nL 0 0 \r\nz\r\n\" style=\"fill:none;\"/>\r\n  </g>\r\n  <g id=\"axes_1\">\r\n   <g id=\"patch_2\">\r\n    <path d=\"M 50.14375 224.64 \r\nL 384.94375 224.64 \r\nL 384.94375 7.2 \r\nL 50.14375 7.2 \r\nz\r\n\" style=\"fill:#ffffff;\"/>\r\n   </g>\r\n   <g id=\"matplotlib.axis_1\">\r\n    <g id=\"xtick_1\">\r\n     <g id=\"line2d_1\">\r\n      <defs>\r\n       <path d=\"M 0 0 \r\nL 0 3.5 \r\n\" id=\"mab321a0a01\" style=\"stroke:#000000;stroke-width:0.8;\"/>\r\n      </defs>\r\n      <g>\r\n       <use style=\"stroke:#000000;stroke-width:0.8;\" x=\"65.361932\" xlink:href=\"#mab321a0a01\" y=\"224.64\"/>\r\n      </g>\r\n     </g>\r\n     <g id=\"text_1\">\r\n      <!-- 0 -->\r\n      <g transform=\"translate(62.180682 239.238438)scale(0.1 -0.1)\">\r\n       <defs>\r\n        <path d=\"M 2034 4250 \r\nQ 1547 4250 1301 3770 \r\nQ 1056 3291 1056 2328 \r\nQ 1056 1369 1301 889 \r\nQ 1547 409 2034 409 \r\nQ 2525 409 2770 889 \r\nQ 3016 1369 3016 2328 \r\nQ 3016 3291 2770 3770 \r\nQ 2525 4250 2034 4250 \r\nz\r\nM 2034 4750 \r\nQ 2819 4750 3233 4129 \r\nQ 3647 3509 3647 2328 \r\nQ 3647 1150 3233 529 \r\nQ 2819 -91 2034 -91 \r\nQ 1250 -91 836 529 \r\nQ 422 1150 422 2328 \r\nQ 422 3509 836 4129 \r\nQ 1250 4750 2034 4750 \r\nz\r\n\" id=\"DejaVuSans-30\" transform=\"scale(0.015625)\"/>\r\n       </defs>\r\n       <use xlink:href=\"#DejaVuSans-30\"/>\r\n      </g>\r\n     </g>\r\n    </g>\r\n    <g id=\"xtick_2\">\r\n     <g id=\"line2d_2\">\r\n      <g>\r\n       <use style=\"stroke:#000000;stroke-width:0.8;\" x=\"126.295593\" xlink:href=\"#mab321a0a01\" y=\"224.64\"/>\r\n      </g>\r\n     </g>\r\n     <g id=\"text_2\">\r\n      <!-- 200 -->\r\n      <g transform=\"translate(116.751843 239.238438)scale(0.1 -0.1)\">\r\n       <defs>\r\n        <path d=\"M 1228 531 \r\nL 3431 531 \r\nL 3431 0 \r\nL 469 0 \r\nL 469 531 \r\nQ 828 903 1448 1529 \r\nQ 2069 2156 2228 2338 \r\nQ 2531 2678 2651 2914 \r\nQ 2772 3150 2772 3378 \r\nQ 2772 3750 2511 3984 \r\nQ 2250 4219 1831 4219 \r\nQ 1534 4219 1204 4116 \r\nQ 875 4013 500 3803 \r\nL 500 4441 \r\nQ 881 4594 1212 4672 \r\nQ 1544 4750 1819 4750 \r\nQ 2544 4750 2975 4387 \r\nQ 3406 4025 3406 3419 \r\nQ 3406 3131 3298 2873 \r\nQ 3191 2616 2906 2266 \r\nQ 2828 2175 2409 1742 \r\nQ 1991 1309 1228 531 \r\nz\r\n\" id=\"DejaVuSans-32\" transform=\"scale(0.015625)\"/>\r\n       </defs>\r\n       <use xlink:href=\"#DejaVuSans-32\"/>\r\n       <use x=\"63.623047\" xlink:href=\"#DejaVuSans-30\"/>\r\n       <use x=\"127.246094\" xlink:href=\"#DejaVuSans-30\"/>\r\n      </g>\r\n     </g>\r\n    </g>\r\n    <g id=\"xtick_3\">\r\n     <g id=\"line2d_3\">\r\n      <g>\r\n       <use style=\"stroke:#000000;stroke-width:0.8;\" x=\"187.229254\" xlink:href=\"#mab321a0a01\" y=\"224.64\"/>\r\n      </g>\r\n     </g>\r\n     <g id=\"text_3\">\r\n      <!-- 400 -->\r\n      <g transform=\"translate(177.685504 239.238438)scale(0.1 -0.1)\">\r\n       <defs>\r\n        <path d=\"M 2419 4116 \r\nL 825 1625 \r\nL 2419 1625 \r\nL 2419 4116 \r\nz\r\nM 2253 4666 \r\nL 3047 4666 \r\nL 3047 1625 \r\nL 3713 1625 \r\nL 3713 1100 \r\nL 3047 1100 \r\nL 3047 0 \r\nL 2419 0 \r\nL 2419 1100 \r\nL 313 1100 \r\nL 313 1709 \r\nL 2253 4666 \r\nz\r\n\" id=\"DejaVuSans-34\" transform=\"scale(0.015625)\"/>\r\n       </defs>\r\n       <use xlink:href=\"#DejaVuSans-34\"/>\r\n       <use x=\"63.623047\" xlink:href=\"#DejaVuSans-30\"/>\r\n       <use x=\"127.246094\" xlink:href=\"#DejaVuSans-30\"/>\r\n      </g>\r\n     </g>\r\n    </g>\r\n    <g id=\"xtick_4\">\r\n     <g id=\"line2d_4\">\r\n      <g>\r\n       <use style=\"stroke:#000000;stroke-width:0.8;\" x=\"248.162915\" xlink:href=\"#mab321a0a01\" y=\"224.64\"/>\r\n      </g>\r\n     </g>\r\n     <g id=\"text_4\">\r\n      <!-- 600 -->\r\n      <g transform=\"translate(238.619165 239.238438)scale(0.1 -0.1)\">\r\n       <defs>\r\n        <path d=\"M 2113 2584 \r\nQ 1688 2584 1439 2293 \r\nQ 1191 2003 1191 1497 \r\nQ 1191 994 1439 701 \r\nQ 1688 409 2113 409 \r\nQ 2538 409 2786 701 \r\nQ 3034 994 3034 1497 \r\nQ 3034 2003 2786 2293 \r\nQ 2538 2584 2113 2584 \r\nz\r\nM 3366 4563 \r\nL 3366 3988 \r\nQ 3128 4100 2886 4159 \r\nQ 2644 4219 2406 4219 \r\nQ 1781 4219 1451 3797 \r\nQ 1122 3375 1075 2522 \r\nQ 1259 2794 1537 2939 \r\nQ 1816 3084 2150 3084 \r\nQ 2853 3084 3261 2657 \r\nQ 3669 2231 3669 1497 \r\nQ 3669 778 3244 343 \r\nQ 2819 -91 2113 -91 \r\nQ 1303 -91 875 529 \r\nQ 447 1150 447 2328 \r\nQ 447 3434 972 4092 \r\nQ 1497 4750 2381 4750 \r\nQ 2619 4750 2861 4703 \r\nQ 3103 4656 3366 4563 \r\nz\r\n\" id=\"DejaVuSans-36\" transform=\"scale(0.015625)\"/>\r\n       </defs>\r\n       <use xlink:href=\"#DejaVuSans-36\"/>\r\n       <use x=\"63.623047\" xlink:href=\"#DejaVuSans-30\"/>\r\n       <use x=\"127.246094\" xlink:href=\"#DejaVuSans-30\"/>\r\n      </g>\r\n     </g>\r\n    </g>\r\n    <g id=\"xtick_5\">\r\n     <g id=\"line2d_5\">\r\n      <g>\r\n       <use style=\"stroke:#000000;stroke-width:0.8;\" x=\"309.096576\" xlink:href=\"#mab321a0a01\" y=\"224.64\"/>\r\n      </g>\r\n     </g>\r\n     <g id=\"text_5\">\r\n      <!-- 800 -->\r\n      <g transform=\"translate(299.552826 239.238438)scale(0.1 -0.1)\">\r\n       <defs>\r\n        <path d=\"M 2034 2216 \r\nQ 1584 2216 1326 1975 \r\nQ 1069 1734 1069 1313 \r\nQ 1069 891 1326 650 \r\nQ 1584 409 2034 409 \r\nQ 2484 409 2743 651 \r\nQ 3003 894 3003 1313 \r\nQ 3003 1734 2745 1975 \r\nQ 2488 2216 2034 2216 \r\nz\r\nM 1403 2484 \r\nQ 997 2584 770 2862 \r\nQ 544 3141 544 3541 \r\nQ 544 4100 942 4425 \r\nQ 1341 4750 2034 4750 \r\nQ 2731 4750 3128 4425 \r\nQ 3525 4100 3525 3541 \r\nQ 3525 3141 3298 2862 \r\nQ 3072 2584 2669 2484 \r\nQ 3125 2378 3379 2068 \r\nQ 3634 1759 3634 1313 \r\nQ 3634 634 3220 271 \r\nQ 2806 -91 2034 -91 \r\nQ 1263 -91 848 271 \r\nQ 434 634 434 1313 \r\nQ 434 1759 690 2068 \r\nQ 947 2378 1403 2484 \r\nz\r\nM 1172 3481 \r\nQ 1172 3119 1398 2916 \r\nQ 1625 2713 2034 2713 \r\nQ 2441 2713 2670 2916 \r\nQ 2900 3119 2900 3481 \r\nQ 2900 3844 2670 4047 \r\nQ 2441 4250 2034 4250 \r\nQ 1625 4250 1398 4047 \r\nQ 1172 3844 1172 3481 \r\nz\r\n\" id=\"DejaVuSans-38\" transform=\"scale(0.015625)\"/>\r\n       </defs>\r\n       <use xlink:href=\"#DejaVuSans-38\"/>\r\n       <use x=\"63.623047\" xlink:href=\"#DejaVuSans-30\"/>\r\n       <use x=\"127.246094\" xlink:href=\"#DejaVuSans-30\"/>\r\n      </g>\r\n     </g>\r\n    </g>\r\n    <g id=\"xtick_6\">\r\n     <g id=\"line2d_6\">\r\n      <g>\r\n       <use style=\"stroke:#000000;stroke-width:0.8;\" x=\"370.030236\" xlink:href=\"#mab321a0a01\" y=\"224.64\"/>\r\n      </g>\r\n     </g>\r\n     <g id=\"text_6\">\r\n      <!-- 1000 -->\r\n      <g transform=\"translate(357.305236 239.238438)scale(0.1 -0.1)\">\r\n       <defs>\r\n        <path d=\"M 794 531 \r\nL 1825 531 \r\nL 1825 4091 \r\nL 703 3866 \r\nL 703 4441 \r\nL 1819 4666 \r\nL 2450 4666 \r\nL 2450 531 \r\nL 3481 531 \r\nL 3481 0 \r\nL 794 0 \r\nL 794 531 \r\nz\r\n\" id=\"DejaVuSans-31\" transform=\"scale(0.015625)\"/>\r\n       </defs>\r\n       <use xlink:href=\"#DejaVuSans-31\"/>\r\n       <use x=\"63.623047\" xlink:href=\"#DejaVuSans-30\"/>\r\n       <use x=\"127.246094\" xlink:href=\"#DejaVuSans-30\"/>\r\n       <use x=\"190.869141\" xlink:href=\"#DejaVuSans-30\"/>\r\n      </g>\r\n     </g>\r\n    </g>\r\n    <g id=\"text_7\">\r\n     <!-- Epoch -->\r\n     <g transform=\"translate(202.232813 252.916563)scale(0.1 -0.1)\">\r\n      <defs>\r\n       <path d=\"M 628 4666 \r\nL 3578 4666 \r\nL 3578 4134 \r\nL 1259 4134 \r\nL 1259 2753 \r\nL 3481 2753 \r\nL 3481 2222 \r\nL 1259 2222 \r\nL 1259 531 \r\nL 3634 531 \r\nL 3634 0 \r\nL 628 0 \r\nL 628 4666 \r\nz\r\n\" id=\"DejaVuSans-45\" transform=\"scale(0.015625)\"/>\r\n       <path d=\"M 1159 525 \r\nL 1159 -1331 \r\nL 581 -1331 \r\nL 581 3500 \r\nL 1159 3500 \r\nL 1159 2969 \r\nQ 1341 3281 1617 3432 \r\nQ 1894 3584 2278 3584 \r\nQ 2916 3584 3314 3078 \r\nQ 3713 2572 3713 1747 \r\nQ 3713 922 3314 415 \r\nQ 2916 -91 2278 -91 \r\nQ 1894 -91 1617 61 \r\nQ 1341 213 1159 525 \r\nz\r\nM 3116 1747 \r\nQ 3116 2381 2855 2742 \r\nQ 2594 3103 2138 3103 \r\nQ 1681 3103 1420 2742 \r\nQ 1159 2381 1159 1747 \r\nQ 1159 1113 1420 752 \r\nQ 1681 391 2138 391 \r\nQ 2594 391 2855 752 \r\nQ 3116 1113 3116 1747 \r\nz\r\n\" id=\"DejaVuSans-70\" transform=\"scale(0.015625)\"/>\r\n       <path d=\"M 1959 3097 \r\nQ 1497 3097 1228 2736 \r\nQ 959 2375 959 1747 \r\nQ 959 1119 1226 758 \r\nQ 1494 397 1959 397 \r\nQ 2419 397 2687 759 \r\nQ 2956 1122 2956 1747 \r\nQ 2956 2369 2687 2733 \r\nQ 2419 3097 1959 3097 \r\nz\r\nM 1959 3584 \r\nQ 2709 3584 3137 3096 \r\nQ 3566 2609 3566 1747 \r\nQ 3566 888 3137 398 \r\nQ 2709 -91 1959 -91 \r\nQ 1206 -91 779 398 \r\nQ 353 888 353 1747 \r\nQ 353 2609 779 3096 \r\nQ 1206 3584 1959 3584 \r\nz\r\n\" id=\"DejaVuSans-6f\" transform=\"scale(0.015625)\"/>\r\n       <path d=\"M 3122 3366 \r\nL 3122 2828 \r\nQ 2878 2963 2633 3030 \r\nQ 2388 3097 2138 3097 \r\nQ 1578 3097 1268 2742 \r\nQ 959 2388 959 1747 \r\nQ 959 1106 1268 751 \r\nQ 1578 397 2138 397 \r\nQ 2388 397 2633 464 \r\nQ 2878 531 3122 666 \r\nL 3122 134 \r\nQ 2881 22 2623 -34 \r\nQ 2366 -91 2075 -91 \r\nQ 1284 -91 818 406 \r\nQ 353 903 353 1747 \r\nQ 353 2603 823 3093 \r\nQ 1294 3584 2113 3584 \r\nQ 2378 3584 2631 3529 \r\nQ 2884 3475 3122 3366 \r\nz\r\n\" id=\"DejaVuSans-63\" transform=\"scale(0.015625)\"/>\r\n       <path d=\"M 3513 2113 \r\nL 3513 0 \r\nL 2938 0 \r\nL 2938 2094 \r\nQ 2938 2591 2744 2837 \r\nQ 2550 3084 2163 3084 \r\nQ 1697 3084 1428 2787 \r\nQ 1159 2491 1159 1978 \r\nL 1159 0 \r\nL 581 0 \r\nL 581 4863 \r\nL 1159 4863 \r\nL 1159 2956 \r\nQ 1366 3272 1645 3428 \r\nQ 1925 3584 2291 3584 \r\nQ 2894 3584 3203 3211 \r\nQ 3513 2838 3513 2113 \r\nz\r\n\" id=\"DejaVuSans-68\" transform=\"scale(0.015625)\"/>\r\n      </defs>\r\n      <use xlink:href=\"#DejaVuSans-45\"/>\r\n      <use x=\"63.183594\" xlink:href=\"#DejaVuSans-70\"/>\r\n      <use x=\"126.660156\" xlink:href=\"#DejaVuSans-6f\"/>\r\n      <use x=\"187.841797\" xlink:href=\"#DejaVuSans-63\"/>\r\n      <use x=\"242.822266\" xlink:href=\"#DejaVuSans-68\"/>\r\n     </g>\r\n    </g>\r\n   </g>\r\n   <g id=\"matplotlib.axis_2\">\r\n    <g id=\"ytick_1\">\r\n     <g id=\"line2d_7\">\r\n      <defs>\r\n       <path d=\"M 0 0 \r\nL -3.5 0 \r\n\" id=\"m4e575f1dce\" style=\"stroke:#000000;stroke-width:0.8;\"/>\r\n      </defs>\r\n      <g>\r\n       <use style=\"stroke:#000000;stroke-width:0.8;\" x=\"50.14375\" xlink:href=\"#m4e575f1dce\" y=\"183.128737\"/>\r\n      </g>\r\n     </g>\r\n     <g id=\"text_8\">\r\n      <!-- 0.80 -->\r\n      <g transform=\"translate(20.878125 186.927956)scale(0.1 -0.1)\">\r\n       <defs>\r\n        <path d=\"M 684 794 \r\nL 1344 794 \r\nL 1344 0 \r\nL 684 0 \r\nL 684 794 \r\nz\r\n\" id=\"DejaVuSans-2e\" transform=\"scale(0.015625)\"/>\r\n       </defs>\r\n       <use xlink:href=\"#DejaVuSans-30\"/>\r\n       <use x=\"63.623047\" xlink:href=\"#DejaVuSans-2e\"/>\r\n       <use x=\"95.410156\" xlink:href=\"#DejaVuSans-38\"/>\r\n       <use x=\"159.033203\" xlink:href=\"#DejaVuSans-30\"/>\r\n      </g>\r\n     </g>\r\n    </g>\r\n    <g id=\"ytick_2\">\r\n     <g id=\"line2d_8\">\r\n      <g>\r\n       <use style=\"stroke:#000000;stroke-width:0.8;\" x=\"50.14375\" xlink:href=\"#m4e575f1dce\" y=\"141.617462\"/>\r\n      </g>\r\n     </g>\r\n     <g id=\"text_9\">\r\n      <!-- 0.85 -->\r\n      <g transform=\"translate(20.878125 145.416681)scale(0.1 -0.1)\">\r\n       <defs>\r\n        <path d=\"M 691 4666 \r\nL 3169 4666 \r\nL 3169 4134 \r\nL 1269 4134 \r\nL 1269 2991 \r\nQ 1406 3038 1543 3061 \r\nQ 1681 3084 1819 3084 \r\nQ 2600 3084 3056 2656 \r\nQ 3513 2228 3513 1497 \r\nQ 3513 744 3044 326 \r\nQ 2575 -91 1722 -91 \r\nQ 1428 -91 1123 -41 \r\nQ 819 9 494 109 \r\nL 494 744 \r\nQ 775 591 1075 516 \r\nQ 1375 441 1709 441 \r\nQ 2250 441 2565 725 \r\nQ 2881 1009 2881 1497 \r\nQ 2881 1984 2565 2268 \r\nQ 2250 2553 1709 2553 \r\nQ 1456 2553 1204 2497 \r\nQ 953 2441 691 2322 \r\nL 691 4666 \r\nz\r\n\" id=\"DejaVuSans-35\" transform=\"scale(0.015625)\"/>\r\n       </defs>\r\n       <use xlink:href=\"#DejaVuSans-30\"/>\r\n       <use x=\"63.623047\" xlink:href=\"#DejaVuSans-2e\"/>\r\n       <use x=\"95.410156\" xlink:href=\"#DejaVuSans-38\"/>\r\n       <use x=\"159.033203\" xlink:href=\"#DejaVuSans-35\"/>\r\n      </g>\r\n     </g>\r\n    </g>\r\n    <g id=\"ytick_3\">\r\n     <g id=\"line2d_9\">\r\n      <g>\r\n       <use style=\"stroke:#000000;stroke-width:0.8;\" x=\"50.14375\" xlink:href=\"#m4e575f1dce\" y=\"100.106187\"/>\r\n      </g>\r\n     </g>\r\n     <g id=\"text_10\">\r\n      <!-- 0.90 -->\r\n      <g transform=\"translate(20.878125 103.905406)scale(0.1 -0.1)\">\r\n       <defs>\r\n        <path d=\"M 703 97 \r\nL 703 672 \r\nQ 941 559 1184 500 \r\nQ 1428 441 1663 441 \r\nQ 2288 441 2617 861 \r\nQ 2947 1281 2994 2138 \r\nQ 2813 1869 2534 1725 \r\nQ 2256 1581 1919 1581 \r\nQ 1219 1581 811 2004 \r\nQ 403 2428 403 3163 \r\nQ 403 3881 828 4315 \r\nQ 1253 4750 1959 4750 \r\nQ 2769 4750 3195 4129 \r\nQ 3622 3509 3622 2328 \r\nQ 3622 1225 3098 567 \r\nQ 2575 -91 1691 -91 \r\nQ 1453 -91 1209 -44 \r\nQ 966 3 703 97 \r\nz\r\nM 1959 2075 \r\nQ 2384 2075 2632 2365 \r\nQ 2881 2656 2881 3163 \r\nQ 2881 3666 2632 3958 \r\nQ 2384 4250 1959 4250 \r\nQ 1534 4250 1286 3958 \r\nQ 1038 3666 1038 3163 \r\nQ 1038 2656 1286 2365 \r\nQ 1534 2075 1959 2075 \r\nz\r\n\" id=\"DejaVuSans-39\" transform=\"scale(0.015625)\"/>\r\n       </defs>\r\n       <use xlink:href=\"#DejaVuSans-30\"/>\r\n       <use x=\"63.623047\" xlink:href=\"#DejaVuSans-2e\"/>\r\n       <use x=\"95.410156\" xlink:href=\"#DejaVuSans-39\"/>\r\n       <use x=\"159.033203\" xlink:href=\"#DejaVuSans-30\"/>\r\n      </g>\r\n     </g>\r\n    </g>\r\n    <g id=\"ytick_4\">\r\n     <g id=\"line2d_10\">\r\n      <g>\r\n       <use style=\"stroke:#000000;stroke-width:0.8;\" x=\"50.14375\" xlink:href=\"#m4e575f1dce\" y=\"58.594912\"/>\r\n      </g>\r\n     </g>\r\n     <g id=\"text_11\">\r\n      <!-- 0.95 -->\r\n      <g transform=\"translate(20.878125 62.39413)scale(0.1 -0.1)\">\r\n       <use xlink:href=\"#DejaVuSans-30\"/>\r\n       <use x=\"63.623047\" xlink:href=\"#DejaVuSans-2e\"/>\r\n       <use x=\"95.410156\" xlink:href=\"#DejaVuSans-39\"/>\r\n       <use x=\"159.033203\" xlink:href=\"#DejaVuSans-35\"/>\r\n      </g>\r\n     </g>\r\n    </g>\r\n    <g id=\"ytick_5\">\r\n     <g id=\"line2d_11\">\r\n      <g>\r\n       <use style=\"stroke:#000000;stroke-width:0.8;\" x=\"50.14375\" xlink:href=\"#m4e575f1dce\" y=\"17.083636\"/>\r\n      </g>\r\n     </g>\r\n     <g id=\"text_12\">\r\n      <!-- 1.00 -->\r\n      <g transform=\"translate(20.878125 20.882855)scale(0.1 -0.1)\">\r\n       <use xlink:href=\"#DejaVuSans-31\"/>\r\n       <use x=\"63.623047\" xlink:href=\"#DejaVuSans-2e\"/>\r\n       <use x=\"95.410156\" xlink:href=\"#DejaVuSans-30\"/>\r\n       <use x=\"159.033203\" xlink:href=\"#DejaVuSans-30\"/>\r\n      </g>\r\n     </g>\r\n    </g>\r\n    <g id=\"text_13\">\r\n     <!-- Accuracy -->\r\n     <g transform=\"translate(14.798438 138.748125)rotate(-90)scale(0.1 -0.1)\">\r\n      <defs>\r\n       <path d=\"M 2188 4044 \r\nL 1331 1722 \r\nL 3047 1722 \r\nL 2188 4044 \r\nz\r\nM 1831 4666 \r\nL 2547 4666 \r\nL 4325 0 \r\nL 3669 0 \r\nL 3244 1197 \r\nL 1141 1197 \r\nL 716 0 \r\nL 50 0 \r\nL 1831 4666 \r\nz\r\n\" id=\"DejaVuSans-41\" transform=\"scale(0.015625)\"/>\r\n       <path d=\"M 544 1381 \r\nL 544 3500 \r\nL 1119 3500 \r\nL 1119 1403 \r\nQ 1119 906 1312 657 \r\nQ 1506 409 1894 409 \r\nQ 2359 409 2629 706 \r\nQ 2900 1003 2900 1516 \r\nL 2900 3500 \r\nL 3475 3500 \r\nL 3475 0 \r\nL 2900 0 \r\nL 2900 538 \r\nQ 2691 219 2414 64 \r\nQ 2138 -91 1772 -91 \r\nQ 1169 -91 856 284 \r\nQ 544 659 544 1381 \r\nz\r\nM 1991 3584 \r\nL 1991 3584 \r\nz\r\n\" id=\"DejaVuSans-75\" transform=\"scale(0.015625)\"/>\r\n       <path d=\"M 2631 2963 \r\nQ 2534 3019 2420 3045 \r\nQ 2306 3072 2169 3072 \r\nQ 1681 3072 1420 2755 \r\nQ 1159 2438 1159 1844 \r\nL 1159 0 \r\nL 581 0 \r\nL 581 3500 \r\nL 1159 3500 \r\nL 1159 2956 \r\nQ 1341 3275 1631 3429 \r\nQ 1922 3584 2338 3584 \r\nQ 2397 3584 2469 3576 \r\nQ 2541 3569 2628 3553 \r\nL 2631 2963 \r\nz\r\n\" id=\"DejaVuSans-72\" transform=\"scale(0.015625)\"/>\r\n       <path d=\"M 2194 1759 \r\nQ 1497 1759 1228 1600 \r\nQ 959 1441 959 1056 \r\nQ 959 750 1161 570 \r\nQ 1363 391 1709 391 \r\nQ 2188 391 2477 730 \r\nQ 2766 1069 2766 1631 \r\nL 2766 1759 \r\nL 2194 1759 \r\nz\r\nM 3341 1997 \r\nL 3341 0 \r\nL 2766 0 \r\nL 2766 531 \r\nQ 2569 213 2275 61 \r\nQ 1981 -91 1556 -91 \r\nQ 1019 -91 701 211 \r\nQ 384 513 384 1019 \r\nQ 384 1609 779 1909 \r\nQ 1175 2209 1959 2209 \r\nL 2766 2209 \r\nL 2766 2266 \r\nQ 2766 2663 2505 2880 \r\nQ 2244 3097 1772 3097 \r\nQ 1472 3097 1187 3025 \r\nQ 903 2953 641 2809 \r\nL 641 3341 \r\nQ 956 3463 1253 3523 \r\nQ 1550 3584 1831 3584 \r\nQ 2591 3584 2966 3190 \r\nQ 3341 2797 3341 1997 \r\nz\r\n\" id=\"DejaVuSans-61\" transform=\"scale(0.015625)\"/>\r\n       <path d=\"M 2059 -325 \r\nQ 1816 -950 1584 -1140 \r\nQ 1353 -1331 966 -1331 \r\nL 506 -1331 \r\nL 506 -850 \r\nL 844 -850 \r\nQ 1081 -850 1212 -737 \r\nQ 1344 -625 1503 -206 \r\nL 1606 56 \r\nL 191 3500 \r\nL 800 3500 \r\nL 1894 763 \r\nL 2988 3500 \r\nL 3597 3500 \r\nL 2059 -325 \r\nz\r\n\" id=\"DejaVuSans-79\" transform=\"scale(0.015625)\"/>\r\n      </defs>\r\n      <use xlink:href=\"#DejaVuSans-41\"/>\r\n      <use x=\"66.658203\" xlink:href=\"#DejaVuSans-63\"/>\r\n      <use x=\"121.638672\" xlink:href=\"#DejaVuSans-63\"/>\r\n      <use x=\"176.619141\" xlink:href=\"#DejaVuSans-75\"/>\r\n      <use x=\"239.998047\" xlink:href=\"#DejaVuSans-72\"/>\r\n      <use x=\"281.111328\" xlink:href=\"#DejaVuSans-61\"/>\r\n      <use x=\"342.390625\" xlink:href=\"#DejaVuSans-63\"/>\r\n      <use x=\"397.371094\" xlink:href=\"#DejaVuSans-79\"/>\r\n     </g>\r\n    </g>\r\n   </g>\r\n   <g id=\"line2d_12\">\r\n    <path clip-path=\"url(#p5edfa7c9f0)\" d=\"M 65.361932 214.756364 \r\nL 65.6666 73.91453 \r\nL 65.971268 49.205433 \r\nL 66.580605 35.203618 \r\nL 66.885273 34.379985 \r\nL 67.189942 32.732718 \r\nL 67.49461 35.203618 \r\nL 67.799278 29.438185 \r\nL 68.103947 31.085451 \r\nL 68.713283 31.085451 \r\nL 69.017951 30.261818 \r\nL 69.32262 24.496385 \r\nL 69.627288 28.614552 \r\nL 69.931956 26.967285 \r\nL 70.236625 29.438185 \r\nL 70.541293 25.320019 \r\nL 70.845961 28.614552 \r\nL 71.15063 23.672752 \r\nL 71.455298 22.849069 \r\nL 71.759966 24.496385 \r\nL 72.064635 23.672752 \r\nL 72.369303 26.967285 \r\nL 72.673971 22.025436 \r\nL 72.978639 25.320019 \r\nL 73.283308 25.320019 \r\nL 73.587976 22.849069 \r\nL 73.892644 26.143652 \r\nL 74.197313 27.790918 \r\nL 74.806649 24.496385 \r\nL 75.111318 22.025436 \r\nL 75.415986 22.849069 \r\nL 75.720654 21.201803 \r\nL 76.025322 22.849069 \r\nL 76.329991 22.849069 \r\nL 76.634659 25.320019 \r\nL 76.939327 17.90727 \r\nL 77.243996 19.554536 \r\nL 77.548664 18.730903 \r\nL 78.158001 22.025436 \r\nL 78.462669 19.554536 \r\nL 78.767337 24.496385 \r\nL 79.072006 26.143652 \r\nL 79.376674 21.201803 \r\nL 79.98601 22.849069 \r\nL 80.595347 22.849069 \r\nL 80.900015 24.496385 \r\nL 81.204684 21.201803 \r\nL 81.509352 28.614552 \r\nL 81.81402 18.730903 \r\nL 82.118689 24.496385 \r\nL 82.728025 21.201803 \r\nL 83.032693 20.378169 \r\nL 83.337362 20.378169 \r\nL 83.64203 18.730903 \r\nL 83.946698 21.201803 \r\nL 84.556035 22.849069 \r\nL 84.860703 18.730903 \r\nL 85.165372 24.496385 \r\nL 85.47004 17.90727 \r\nL 85.774708 21.201803 \r\nL 86.079377 22.025436 \r\nL 86.384045 19.554536 \r\nL 86.688713 22.849069 \r\nL 86.993381 23.672752 \r\nL 87.29805 18.730903 \r\nL 87.907386 22.849069 \r\nL 88.212055 19.554536 \r\nL 88.516723 18.730903 \r\nL 88.821391 21.201803 \r\nL 89.12606 25.320019 \r\nL 89.430728 22.849069 \r\nL 89.735396 18.730903 \r\nL 90.040064 18.730903 \r\nL 90.344733 17.90727 \r\nL 90.649401 21.201803 \r\nL 90.954069 20.378169 \r\nL 91.258738 22.849069 \r\nL 91.563406 17.90727 \r\nL 91.868074 17.90727 \r\nL 92.172743 22.025436 \r\nL 92.477411 21.201803 \r\nL 92.782079 24.496385 \r\nL 93.086748 24.496385 \r\nL 93.391416 19.554536 \r\nL 93.696084 22.025436 \r\nL 94.305421 18.730903 \r\nL 94.610089 20.378169 \r\nL 94.914757 20.378169 \r\nL 95.219426 19.554536 \r\nL 95.524094 20.378169 \r\nL 95.828762 19.554536 \r\nL 96.133431 22.025436 \r\nL 96.438099 22.025436 \r\nL 96.742767 21.201803 \r\nL 97.047436 21.201803 \r\nL 97.352104 19.554536 \r\nL 97.656772 20.378169 \r\nL 97.96144 22.025436 \r\nL 98.266109 20.378169 \r\nL 98.570777 22.849069 \r\nL 98.875445 23.672752 \r\nL 99.180114 20.378169 \r\nL 99.484782 19.554536 \r\nL 99.78945 19.554536 \r\nL 100.094119 21.201803 \r\nL 100.703455 19.554536 \r\nL 101.008123 19.554536 \r\nL 101.312792 21.201803 \r\nL 101.61746 22.025436 \r\nL 101.922128 22.025436 \r\nL 102.226797 20.378169 \r\nL 102.531465 22.025436 \r\nL 102.836133 21.201803 \r\nL 103.140802 23.672752 \r\nL 103.44547 21.201803 \r\nL 103.750138 22.849069 \r\nL 104.054807 23.672752 \r\nL 104.664143 18.730903 \r\nL 104.968811 22.025436 \r\nL 105.27348 22.025436 \r\nL 105.578148 19.554536 \r\nL 105.882816 22.849069 \r\nL 106.187485 18.730903 \r\nL 106.492153 19.554536 \r\nL 106.796821 18.730903 \r\nL 107.10149 18.730903 \r\nL 107.406158 20.378169 \r\nL 107.710826 18.730903 \r\nL 108.320163 20.378169 \r\nL 108.624831 18.730903 \r\nL 108.929499 17.90727 \r\nL 109.234168 17.90727 \r\nL 109.538836 21.201803 \r\nL 109.843504 22.025436 \r\nL 110.148173 20.378169 \r\nL 111.366846 20.378169 \r\nL 111.671514 19.554536 \r\nL 111.976182 17.90727 \r\nL 112.280851 17.90727 \r\nL 112.890187 22.849069 \r\nL 113.194856 22.025436 \r\nL 113.499524 20.378169 \r\nL 113.804192 17.083636 \r\nL 114.108861 21.201803 \r\nL 114.413529 22.025436 \r\nL 114.718197 23.672752 \r\nL 115.022865 22.025436 \r\nL 115.327534 18.730903 \r\nL 115.632202 19.554536 \r\nL 115.93687 22.025436 \r\nL 116.241539 18.730903 \r\nL 116.546207 20.378169 \r\nL 116.850875 17.90727 \r\nL 117.155544 19.554536 \r\nL 117.460212 19.554536 \r\nL 117.76488 18.730903 \r\nL 118.069549 21.201803 \r\nL 118.374217 17.90727 \r\nL 118.678885 21.201803 \r\nL 118.983553 21.201803 \r\nL 119.288222 22.025436 \r\nL 119.59289 19.554536 \r\nL 119.897558 20.378169 \r\nL 120.202227 17.90727 \r\nL 120.506895 20.378169 \r\nL 120.811563 20.378169 \r\nL 121.116232 23.672752 \r\nL 121.4209 17.90727 \r\nL 121.725568 21.201803 \r\nL 122.030236 22.025436 \r\nL 122.334905 18.730903 \r\nL 122.639573 21.201803 \r\nL 122.944241 19.554536 \r\nL 123.24891 21.201803 \r\nL 123.553578 17.90727 \r\nL 123.858246 17.90727 \r\nL 124.162915 17.083636 \r\nL 124.467583 21.201803 \r\nL 124.772251 18.730903 \r\nL 125.381588 17.083636 \r\nL 125.990924 21.201803 \r\nL 126.295593 19.554536 \r\nL 126.600261 19.554536 \r\nL 126.904929 18.730903 \r\nL 127.209598 20.378169 \r\nL 127.514266 18.730903 \r\nL 127.818934 18.730903 \r\nL 128.123603 19.554536 \r\nL 128.428271 22.025436 \r\nL 128.732939 18.730903 \r\nL 129.037607 19.554536 \r\nL 129.342276 18.730903 \r\nL 129.646944 20.378169 \r\nL 129.951612 22.849069 \r\nL 130.256281 19.554536 \r\nL 130.560949 21.201803 \r\nL 130.865617 19.554536 \r\nL 131.170286 22.025436 \r\nL 131.474954 20.378169 \r\nL 131.779622 20.378169 \r\nL 132.084291 18.730903 \r\nL 132.388959 19.554536 \r\nL 132.693627 18.730903 \r\nL 132.998295 18.730903 \r\nL 133.302964 20.378169 \r\nL 133.607632 18.730903 \r\nL 133.9123 17.90727 \r\nL 134.521637 19.554536 \r\nL 134.826305 18.730903 \r\nL 135.130974 20.378169 \r\nL 135.435642 21.201803 \r\nL 136.044979 17.90727 \r\nL 136.654315 19.554536 \r\nL 136.958983 17.083636 \r\nL 137.56832 20.378169 \r\nL 137.872988 19.554536 \r\nL 138.177657 20.378169 \r\nL 138.482325 20.378169 \r\nL 138.786993 17.90727 \r\nL 139.091662 19.554536 \r\nL 139.700998 17.90727 \r\nL 140.005666 20.378169 \r\nL 140.310335 18.730903 \r\nL 140.615003 20.378169 \r\nL 140.919671 18.730903 \r\nL 141.22434 18.730903 \r\nL 141.529008 17.083636 \r\nL 142.138345 17.083636 \r\nL 143.05235 19.554536 \r\nL 143.357018 19.554536 \r\nL 143.966354 17.90727 \r\nL 144.271023 19.554536 \r\nL 144.880359 19.554536 \r\nL 145.185028 20.378169 \r\nL 145.489696 17.90727 \r\nL 145.794364 18.730903 \r\nL 146.099033 18.730903 \r\nL 146.403701 20.378169 \r\nL 146.708369 17.90727 \r\nL 147.317706 21.201803 \r\nL 147.622374 20.378169 \r\nL 147.927042 22.849069 \r\nL 148.231711 20.378169 \r\nL 148.536379 22.849069 \r\nL 148.841047 18.730903 \r\nL 149.145716 18.730903 \r\nL 149.450384 20.378169 \r\nL 149.755052 17.90727 \r\nL 150.364389 19.554536 \r\nL 150.669057 19.554536 \r\nL 150.973725 21.201803 \r\nL 151.278394 21.201803 \r\nL 151.583062 18.730903 \r\nL 151.88773 17.90727 \r\nL 152.192399 17.90727 \r\nL 152.497067 18.730903 \r\nL 152.801735 17.90727 \r\nL 153.106404 19.554536 \r\nL 153.411072 18.730903 \r\nL 153.71574 20.378169 \r\nL 154.020408 19.554536 \r\nL 154.325077 20.378169 \r\nL 154.629745 17.083636 \r\nL 154.934413 19.554536 \r\nL 155.239082 19.554536 \r\nL 155.54375 20.378169 \r\nL 155.848418 18.730903 \r\nL 156.153087 17.90727 \r\nL 156.457755 20.378169 \r\nL 156.762423 18.730903 \r\nL 157.067092 21.201803 \r\nL 157.37176 18.730903 \r\nL 157.676428 20.378169 \r\nL 157.981096 18.730903 \r\nL 158.285765 19.554536 \r\nL 158.895101 17.90727 \r\nL 159.19977 20.378169 \r\nL 159.504438 18.730903 \r\nL 160.113775 17.083636 \r\nL 161.027779 19.554536 \r\nL 161.332448 18.730903 \r\nL 161.637116 21.201803 \r\nL 161.941784 18.730903 \r\nL 162.246453 17.90727 \r\nL 162.855789 21.201803 \r\nL 163.160458 20.378169 \r\nL 163.465126 18.730903 \r\nL 163.769794 20.378169 \r\nL 164.074463 19.554536 \r\nL 164.379131 17.90727 \r\nL 164.683799 19.554536 \r\nL 164.988467 17.90727 \r\nL 165.293136 19.554536 \r\nL 165.597804 18.730903 \r\nL 165.902472 17.083636 \r\nL 166.207141 17.90727 \r\nL 166.511809 19.554536 \r\nL 166.816477 17.90727 \r\nL 167.121146 19.554536 \r\nL 167.425814 17.90727 \r\nL 167.730482 17.083636 \r\nL 168.03515 19.554536 \r\nL 168.339819 17.90727 \r\nL 168.949155 19.554536 \r\nL 169.253824 17.083636 \r\nL 169.86316 21.201803 \r\nL 170.167829 19.554536 \r\nL 170.472497 21.201803 \r\nL 171.081834 19.554536 \r\nL 171.386502 22.025436 \r\nL 171.69117 19.554536 \r\nL 171.995838 18.730903 \r\nL 172.300507 19.554536 \r\nL 172.605175 18.730903 \r\nL 172.909843 17.083636 \r\nL 173.214512 17.083636 \r\nL 173.51918 18.730903 \r\nL 173.823848 17.90727 \r\nL 174.128517 18.730903 \r\nL 174.433185 17.083636 \r\nL 174.737853 19.554536 \r\nL 175.34719 17.90727 \r\nL 175.651858 20.378169 \r\nL 175.956526 17.90727 \r\nL 176.261195 18.730903 \r\nL 176.565863 20.378169 \r\nL 176.870531 17.90727 \r\nL 177.1752 22.025436 \r\nL 177.479868 22.849069 \r\nL 177.784536 17.90727 \r\nL 178.393873 21.201803 \r\nL 179.003209 17.083636 \r\nL 179.307878 19.554536 \r\nL 179.612546 17.90727 \r\nL 179.917214 18.730903 \r\nL 180.221883 18.730903 \r\nL 180.526551 21.201803 \r\nL 181.135888 17.90727 \r\nL 181.440556 18.730903 \r\nL 182.049893 18.730903 \r\nL 182.354561 19.554536 \r\nL 182.659229 18.730903 \r\nL 182.963897 17.083636 \r\nL 183.268566 20.378169 \r\nL 183.573234 21.201803 \r\nL 183.877902 17.083636 \r\nL 184.182571 18.730903 \r\nL 184.487239 22.849069 \r\nL 184.791907 19.554536 \r\nL 185.096576 17.90727 \r\nL 185.401244 20.378169 \r\nL 185.705912 19.554536 \r\nL 186.01058 20.378169 \r\nL 186.315249 17.90727 \r\nL 186.924585 17.90727 \r\nL 187.229254 20.378169 \r\nL 187.533922 17.083636 \r\nL 187.83859 17.90727 \r\nL 188.447927 17.90727 \r\nL 188.752595 17.083636 \r\nL 189.6666 19.554536 \r\nL 189.971268 17.083636 \r\nL 190.275937 19.554536 \r\nL 190.580605 17.083636 \r\nL 191.189942 17.083636 \r\nL 191.49461 18.730903 \r\nL 191.799278 17.083636 \r\nL 192.103947 17.90727 \r\nL 192.408615 17.90727 \r\nL 192.713283 20.378169 \r\nL 193.32262 18.730903 \r\nL 193.627288 17.083636 \r\nL 193.931956 19.554536 \r\nL 194.236625 17.90727 \r\nL 194.541293 18.730903 \r\nL 194.845961 18.730903 \r\nL 195.455298 17.083636 \r\nL 196.064635 17.083636 \r\nL 196.369303 18.730903 \r\nL 196.673971 19.554536 \r\nL 196.978639 17.90727 \r\nL 197.283308 17.083636 \r\nL 197.892644 20.378169 \r\nL 198.197313 17.90727 \r\nL 198.501981 18.730903 \r\nL 198.806649 17.90727 \r\nL 199.111318 19.554536 \r\nL 199.415986 17.90727 \r\nL 199.720654 17.90727 \r\nL 200.025322 17.083636 \r\nL 200.634659 18.730903 \r\nL 200.939327 18.730903 \r\nL 201.243996 19.554536 \r\nL 201.853332 17.90727 \r\nL 202.158001 18.730903 \r\nL 202.462669 18.730903 \r\nL 202.767337 17.083636 \r\nL 203.376674 18.730903 \r\nL 203.681342 17.90727 \r\nL 203.98601 19.554536 \r\nL 204.290679 17.90727 \r\nL 204.595347 22.025436 \r\nL 204.900015 18.730903 \r\nL 205.204684 18.730903 \r\nL 205.81402 22.025436 \r\nL 206.118689 17.083636 \r\nL 206.423357 17.90727 \r\nL 206.728025 17.90727 \r\nL 207.032693 20.378169 \r\nL 207.337362 17.90727 \r\nL 208.251367 17.90727 \r\nL 208.556035 19.554536 \r\nL 208.860703 17.90727 \r\nL 209.165372 20.378169 \r\nL 209.47004 18.730903 \r\nL 209.774708 19.554536 \r\nL 210.079377 18.730903 \r\nL 210.384045 17.083636 \r\nL 210.688713 17.90727 \r\nL 210.993381 20.378169 \r\nL 211.29805 18.730903 \r\nL 211.602718 20.378169 \r\nL 211.907386 19.554536 \r\nL 212.212055 17.90727 \r\nL 212.516723 19.554536 \r\nL 212.821391 17.90727 \r\nL 213.12606 19.554536 \r\nL 213.430728 17.90727 \r\nL 213.735396 17.90727 \r\nL 214.040064 17.083636 \r\nL 214.344733 20.378169 \r\nL 214.649401 17.90727 \r\nL 215.258738 19.554536 \r\nL 215.563406 17.083636 \r\nL 215.868074 19.554536 \r\nL 216.172743 18.730903 \r\nL 216.477411 18.730903 \r\nL 216.782079 19.554536 \r\nL 217.086748 19.554536 \r\nL 217.391416 17.90727 \r\nL 217.696084 17.90727 \r\nL 218.000752 18.730903 \r\nL 218.305421 17.90727 \r\nL 218.610089 19.554536 \r\nL 218.914757 17.083636 \r\nL 219.219426 20.378169 \r\nL 219.524094 19.554536 \r\nL 219.828762 17.083636 \r\nL 220.742767 19.554536 \r\nL 221.047436 19.554536 \r\nL 221.352104 18.730903 \r\nL 221.656772 17.083636 \r\nL 221.96144 17.083636 \r\nL 222.266109 19.554536 \r\nL 222.570777 20.378169 \r\nL 222.875445 18.730903 \r\nL 223.180114 19.554536 \r\nL 223.484782 17.90727 \r\nL 223.78945 17.90727 \r\nL 224.094119 19.554536 \r\nL 224.398787 17.90727 \r\nL 224.703455 19.554536 \r\nL 225.008123 18.730903 \r\nL 225.312792 17.083636 \r\nL 225.61746 17.90727 \r\nL 225.922128 19.554536 \r\nL 226.226797 17.90727 \r\nL 226.531465 18.730903 \r\nL 226.836133 17.90727 \r\nL 227.44547 17.90727 \r\nL 227.750138 18.730903 \r\nL 228.359475 17.083636 \r\nL 228.664143 21.201803 \r\nL 228.968811 17.083636 \r\nL 229.27348 19.554536 \r\nL 229.578148 17.90727 \r\nL 229.882816 19.554536 \r\nL 230.187485 17.90727 \r\nL 230.492153 19.554536 \r\nL 230.796821 17.083636 \r\nL 231.406158 18.730903 \r\nL 232.015494 18.730903 \r\nL 232.320163 17.083636 \r\nL 232.624831 18.730903 \r\nL 232.929499 17.083636 \r\nL 233.234168 17.90727 \r\nL 233.538836 17.083636 \r\nL 233.843504 19.554536 \r\nL 234.452841 19.554536 \r\nL 234.757509 17.083636 \r\nL 235.062178 19.554536 \r\nL 235.366846 18.730903 \r\nL 235.671514 18.730903 \r\nL 235.976182 17.90727 \r\nL 236.280851 18.730903 \r\nL 236.585519 17.90727 \r\nL 236.890187 20.378169 \r\nL 237.194856 17.083636 \r\nL 237.499524 20.378169 \r\nL 237.804192 18.730903 \r\nL 238.108861 22.849069 \r\nL 238.413529 17.90727 \r\nL 238.718197 19.554536 \r\nL 239.022865 17.90727 \r\nL 239.327534 18.730903 \r\nL 239.632202 17.083636 \r\nL 239.93687 17.083636 \r\nL 240.546207 18.730903 \r\nL 240.850875 17.90727 \r\nL 241.155544 17.90727 \r\nL 241.460212 20.378169 \r\nL 241.76488 17.083636 \r\nL 242.069549 18.730903 \r\nL 242.678885 17.083636 \r\nL 242.983553 17.083636 \r\nL 243.897558 19.554536 \r\nL 244.202227 17.90727 \r\nL 245.725568 17.90727 \r\nL 246.030236 17.083636 \r\nL 246.334905 17.90727 \r\nL 246.639573 17.083636 \r\nL 246.944241 18.730903 \r\nL 247.24891 17.083636 \r\nL 247.553578 19.554536 \r\nL 247.858246 17.90727 \r\nL 248.162915 17.90727 \r\nL 248.467583 18.730903 \r\nL 248.772251 17.90727 \r\nL 249.07692 18.730903 \r\nL 249.381588 20.378169 \r\nL 249.686256 17.083636 \r\nL 249.990924 18.730903 \r\nL 250.295593 17.083636 \r\nL 250.600261 19.554536 \r\nL 250.904929 17.083636 \r\nL 251.209598 17.083636 \r\nL 251.514266 18.730903 \r\nL 251.818934 17.083636 \r\nL 252.123603 17.90727 \r\nL 252.428271 17.90727 \r\nL 252.732939 17.083636 \r\nL 253.037607 17.083636 \r\nL 253.342276 18.730903 \r\nL 253.646944 18.730903 \r\nL 253.951612 17.083636 \r\nL 254.560949 18.730903 \r\nL 254.865617 18.730903 \r\nL 255.170286 17.90727 \r\nL 255.779622 17.90727 \r\nL 256.084291 18.730903 \r\nL 256.388959 17.083636 \r\nL 256.693627 17.90727 \r\nL 256.998295 19.554536 \r\nL 257.302964 17.90727 \r\nL 257.607632 17.90727 \r\nL 257.9123 19.554536 \r\nL 258.216969 17.083636 \r\nL 258.521637 19.554536 \r\nL 258.826305 17.083636 \r\nL 259.130974 18.730903 \r\nL 259.435642 17.90727 \r\nL 259.74031 18.730903 \r\nL 260.349647 18.730903 \r\nL 260.654315 17.90727 \r\nL 260.958983 17.90727 \r\nL 261.263652 19.554536 \r\nL 261.872988 17.90727 \r\nL 262.177657 17.90727 \r\nL 262.482325 18.730903 \r\nL 262.786993 17.083636 \r\nL 263.39633 17.083636 \r\nL 263.700998 19.554536 \r\nL 264.005666 17.083636 \r\nL 264.310335 18.730903 \r\nL 264.615003 18.730903 \r\nL 264.919671 20.378169 \r\nL 265.22434 17.083636 \r\nL 265.529008 17.90727 \r\nL 265.833676 17.083636 \r\nL 266.138345 17.083636 \r\nL 266.443013 19.554536 \r\nL 266.747681 18.730903 \r\nL 267.05235 17.083636 \r\nL 267.357018 18.730903 \r\nL 267.661686 18.730903 \r\nL 267.966354 17.083636 \r\nL 268.271023 18.730903 \r\nL 268.575691 18.730903 \r\nL 268.880359 17.90727 \r\nL 269.185028 19.554536 \r\nL 269.489696 17.083636 \r\nL 269.794364 17.90727 \r\nL 270.099033 17.083636 \r\nL 270.403701 18.730903 \r\nL 270.708369 19.554536 \r\nL 271.013037 19.554536 \r\nL 271.317706 21.201803 \r\nL 271.622374 17.083636 \r\nL 271.927042 17.083636 \r\nL 272.231711 18.730903 \r\nL 272.536379 19.554536 \r\nL 272.841047 18.730903 \r\nL 273.145716 17.083636 \r\nL 273.450384 17.90727 \r\nL 274.364389 17.90727 \r\nL 274.669057 20.378169 \r\nL 274.973725 17.083636 \r\nL 275.583062 17.083636 \r\nL 275.88773 17.90727 \r\nL 276.497067 17.90727 \r\nL 276.801735 18.730903 \r\nL 277.106404 18.730903 \r\nL 277.71574 17.083636 \r\nL 278.020408 17.90727 \r\nL 278.934413 17.90727 \r\nL 279.239082 17.083636 \r\nL 279.848418 17.083636 \r\nL 280.153087 18.730903 \r\nL 280.457755 17.90727 \r\nL 280.762423 17.90727 \r\nL 281.067092 18.730903 \r\nL 281.37176 17.083636 \r\nL 281.676428 19.554536 \r\nL 281.981096 17.083636 \r\nL 282.285765 18.730903 \r\nL 282.590433 19.554536 \r\nL 282.895101 17.90727 \r\nL 283.19977 17.083636 \r\nL 283.504438 17.083636 \r\nL 283.809106 17.90727 \r\nL 284.113775 19.554536 \r\nL 285.027779 17.083636 \r\nL 285.332448 18.730903 \r\nL 285.637116 17.90727 \r\nL 286.246453 17.90727 \r\nL 286.551121 18.730903 \r\nL 286.855789 17.90727 \r\nL 287.160458 18.730903 \r\nL 287.769794 18.730903 \r\nL 288.074463 19.554536 \r\nL 288.379131 22.025436 \r\nL 288.683799 17.083636 \r\nL 288.988467 18.730903 \r\nL 289.293136 18.730903 \r\nL 289.597804 17.90727 \r\nL 289.902472 17.90727 \r\nL 290.207141 18.730903 \r\nL 290.511809 18.730903 \r\nL 290.816477 17.083636 \r\nL 291.121146 17.90727 \r\nL 291.425814 17.083636 \r\nL 291.730482 17.90727 \r\nL 292.03515 17.90727 \r\nL 292.339819 17.083636 \r\nL 292.644487 17.90727 \r\nL 292.949155 17.90727 \r\nL 293.253824 17.083636 \r\nL 293.558492 18.730903 \r\nL 293.86316 17.90727 \r\nL 294.167829 17.90727 \r\nL 294.472497 18.730903 \r\nL 294.777165 17.90727 \r\nL 295.081834 19.554536 \r\nL 295.386502 17.083636 \r\nL 295.69117 18.730903 \r\nL 295.995838 17.90727 \r\nL 296.300507 17.90727 \r\nL 296.605175 19.554536 \r\nL 296.909843 17.90727 \r\nL 297.214512 17.90727 \r\nL 297.51918 19.554536 \r\nL 297.823848 17.90727 \r\nL 298.128517 17.90727 \r\nL 298.433185 19.554536 \r\nL 298.737853 17.083636 \r\nL 299.042521 17.90727 \r\nL 299.34719 17.083636 \r\nL 299.651858 17.90727 \r\nL 299.956526 17.083636 \r\nL 300.261195 17.90727 \r\nL 300.565863 17.90727 \r\nL 300.870531 17.083636 \r\nL 301.1752 17.083636 \r\nL 301.479868 17.90727 \r\nL 301.784536 17.083636 \r\nL 302.089205 18.730903 \r\nL 302.393873 17.083636 \r\nL 302.698541 19.554536 \r\nL 303.003209 17.083636 \r\nL 303.307878 17.90727 \r\nL 303.612546 20.378169 \r\nL 303.917214 17.083636 \r\nL 304.221883 17.90727 \r\nL 304.526551 17.90727 \r\nL 304.831219 19.554536 \r\nL 305.135888 17.083636 \r\nL 305.440556 17.90727 \r\nL 305.745224 17.083636 \r\nL 306.049893 17.083636 \r\nL 306.354561 19.554536 \r\nL 306.659229 17.90727 \r\nL 307.268566 19.554536 \r\nL 307.573234 18.730903 \r\nL 307.877902 20.378169 \r\nL 308.182571 17.90727 \r\nL 308.487239 19.554536 \r\nL 308.791907 18.730903 \r\nL 309.096576 17.083636 \r\nL 310.01058 17.083636 \r\nL 310.315249 19.554536 \r\nL 310.924585 17.90727 \r\nL 311.229254 17.90727 \r\nL 311.533922 17.083636 \r\nL 312.143259 18.730903 \r\nL 312.752595 17.083636 \r\nL 313.057264 18.730903 \r\nL 313.361932 17.083636 \r\nL 313.6666 17.90727 \r\nL 313.971268 17.083636 \r\nL 314.275937 19.554536 \r\nL 314.580605 18.730903 \r\nL 314.885273 17.083636 \r\nL 315.49461 20.378169 \r\nL 315.799278 17.90727 \r\nL 316.103947 19.554536 \r\nL 316.408615 17.90727 \r\nL 316.713283 18.730903 \r\nL 317.017951 17.90727 \r\nL 317.32262 18.730903 \r\nL 317.931956 18.730903 \r\nL 318.236625 19.554536 \r\nL 318.541293 17.90727 \r\nL 318.845961 17.90727 \r\nL 319.15063 18.730903 \r\nL 319.455298 17.083636 \r\nL 319.759966 18.730903 \r\nL 320.064635 19.554536 \r\nL 320.369303 18.730903 \r\nL 320.673971 20.378169 \r\nL 321.892644 17.083636 \r\nL 322.197313 18.730903 \r\nL 322.501981 17.083636 \r\nL 322.806649 17.90727 \r\nL 323.111318 17.083636 \r\nL 323.415986 18.730903 \r\nL 323.720654 17.90727 \r\nL 324.025322 17.90727 \r\nL 324.329991 19.554536 \r\nL 324.634659 19.554536 \r\nL 324.939327 18.730903 \r\nL 325.243996 18.730903 \r\nL 325.548664 17.90727 \r\nL 325.853332 19.554536 \r\nL 326.158001 17.90727 \r\nL 326.767337 17.90727 \r\nL 327.072006 17.083636 \r\nL 327.376674 18.730903 \r\nL 327.98601 18.730903 \r\nL 328.290679 17.083636 \r\nL 328.900015 17.083636 \r\nL 329.204684 19.554536 \r\nL 329.509352 17.90727 \r\nL 329.81402 17.083636 \r\nL 330.423357 18.730903 \r\nL 330.728025 17.083636 \r\nL 331.032693 19.554536 \r\nL 331.337362 17.083636 \r\nL 331.64203 20.378169 \r\nL 331.946698 17.083636 \r\nL 332.556035 17.083636 \r\nL 332.860703 18.730903 \r\nL 333.165372 17.90727 \r\nL 333.47004 18.730903 \r\nL 334.079377 17.083636 \r\nL 334.384045 17.083636 \r\nL 334.993381 18.730903 \r\nL 335.29805 20.378169 \r\nL 335.602718 17.083636 \r\nL 337.12606 17.083636 \r\nL 337.430728 18.730903 \r\nL 337.735396 17.083636 \r\nL 338.040064 18.730903 \r\nL 338.649401 18.730903 \r\nL 338.954069 17.90727 \r\nL 339.258738 19.554536 \r\nL 339.563406 18.730903 \r\nL 339.868074 17.083636 \r\nL 340.172743 18.730903 \r\nL 340.477411 19.554536 \r\nL 340.782079 17.083636 \r\nL 341.086748 17.90727 \r\nL 341.696084 17.90727 \r\nL 342.000752 17.083636 \r\nL 342.610089 18.730903 \r\nL 342.914757 17.90727 \r\nL 343.219426 19.554536 \r\nL 343.524094 17.90727 \r\nL 343.828762 17.90727 \r\nL 344.133431 18.730903 \r\nL 344.438099 17.083636 \r\nL 344.742767 17.083636 \r\nL 345.047436 19.554536 \r\nL 345.352104 17.083636 \r\nL 345.656772 17.90727 \r\nL 345.96144 17.083636 \r\nL 346.266109 18.730903 \r\nL 346.570777 18.730903 \r\nL 346.875445 19.554536 \r\nL 347.180114 17.083636 \r\nL 347.484782 18.730903 \r\nL 347.78945 18.730903 \r\nL 348.094119 17.90727 \r\nL 348.398787 17.90727 \r\nL 348.703455 17.083636 \r\nL 349.008123 18.730903 \r\nL 349.312792 17.083636 \r\nL 349.61746 17.90727 \r\nL 349.922128 17.083636 \r\nL 350.226797 19.554536 \r\nL 350.531465 17.083636 \r\nL 350.836133 17.083636 \r\nL 351.140802 18.730903 \r\nL 351.44547 18.730903 \r\nL 351.750138 17.90727 \r\nL 352.054807 17.90727 \r\nL 352.359475 17.083636 \r\nL 352.664143 17.90727 \r\nL 352.968811 17.90727 \r\nL 353.27348 17.083636 \r\nL 353.578148 17.083636 \r\nL 353.882816 18.730903 \r\nL 354.187485 17.90727 \r\nL 354.492153 18.730903 \r\nL 355.10149 17.083636 \r\nL 355.406158 17.083636 \r\nL 355.710826 17.90727 \r\nL 356.015494 17.083636 \r\nL 356.320163 17.90727 \r\nL 356.929499 17.90727 \r\nL 357.234168 17.083636 \r\nL 357.538836 17.083636 \r\nL 357.843504 17.90727 \r\nL 358.148173 17.90727 \r\nL 358.452841 17.083636 \r\nL 359.366846 17.083636 \r\nL 359.671514 17.90727 \r\nL 359.976182 17.90727 \r\nL 360.280851 18.730903 \r\nL 360.585519 17.083636 \r\nL 360.890187 18.730903 \r\nL 361.194856 17.083636 \r\nL 361.499524 17.083636 \r\nL 362.108861 18.730903 \r\nL 362.413529 17.90727 \r\nL 362.718197 19.554536 \r\nL 363.022865 17.90727 \r\nL 363.327534 17.083636 \r\nL 363.632202 17.90727 \r\nL 364.241539 17.90727 \r\nL 364.546207 19.554536 \r\nL 364.850875 17.90727 \r\nL 365.155544 20.378169 \r\nL 365.460212 17.90727 \r\nL 365.76488 17.083636 \r\nL 366.069549 17.083636 \r\nL 366.374217 17.90727 \r\nL 366.678885 19.554536 \r\nL 366.983553 17.90727 \r\nL 367.288222 18.730903 \r\nL 367.59289 18.730903 \r\nL 368.202227 17.083636 \r\nL 368.506895 18.730903 \r\nL 369.116232 17.083636 \r\nL 369.4209 17.90727 \r\nL 369.725568 20.378169 \r\nL 369.725568 20.378169 \r\n\" style=\"fill:none;stroke:#1f77b4;stroke-linecap:square;stroke-width:1.5;\"/>\r\n   </g>\r\n   <g id=\"line2d_13\">\r\n    <path clip-path=\"url(#p5edfa7c9f0)\" d=\"M 65.361932 82.425457 \r\nL 65.971268 49.754571 \r\nL 66.275937 36.301796 \r\nL 66.580605 42.067278 \r\nL 67.189942 32.458174 \r\nL 67.49461 34.379985 \r\nL 67.799278 32.458174 \r\nL 68.103947 42.067278 \r\nL 68.408615 30.536363 \r\nL 68.713283 28.614552 \r\nL 69.32262 38.223656 \r\nL 69.627288 32.458174 \r\nL 69.931956 34.379985 \r\nL 70.236625 28.614552 \r\nL 70.541293 38.223656 \r\nL 70.845961 36.301796 \r\nL 71.15063 26.692741 \r\nL 71.455298 26.692741 \r\nL 71.759966 24.77093 \r\nL 72.064635 30.536363 \r\nL 72.369303 32.458174 \r\nL 72.673971 32.458174 \r\nL 72.978639 34.379985 \r\nL 73.587976 34.379985 \r\nL 73.892644 26.692741 \r\nL 74.197313 30.536363 \r\nL 74.501981 28.614552 \r\nL 75.111318 32.458174 \r\nL 75.415986 32.458174 \r\nL 75.720654 34.379985 \r\nL 76.025322 26.692741 \r\nL 76.634659 34.379985 \r\nL 76.939327 24.77093 \r\nL 77.243996 26.692741 \r\nL 77.548664 24.77093 \r\nL 77.853332 28.614552 \r\nL 78.158001 34.379985 \r\nL 78.462669 24.77093 \r\nL 78.767337 26.692741 \r\nL 79.072006 30.536363 \r\nL 79.376674 30.536363 \r\nL 79.681342 28.614552 \r\nL 80.290679 28.614552 \r\nL 80.900015 24.77093 \r\nL 81.204684 24.77093 \r\nL 81.509352 26.692741 \r\nL 81.81402 36.301796 \r\nL 82.118689 30.536363 \r\nL 82.423357 30.536363 \r\nL 82.728025 28.614552 \r\nL 83.032693 24.77093 \r\nL 83.337362 24.77093 \r\nL 83.946698 28.614552 \r\nL 84.251367 28.614552 \r\nL 84.556035 30.536363 \r\nL 85.165372 22.849069 \r\nL 85.47004 24.77093 \r\nL 85.774708 22.849069 \r\nL 86.079377 22.849069 \r\nL 86.384045 26.692741 \r\nL 86.688713 24.77093 \r\nL 86.993381 28.614552 \r\nL 87.29805 26.692741 \r\nL 87.602718 26.692741 \r\nL 87.907386 28.614552 \r\nL 88.212055 24.77093 \r\nL 88.516723 26.692741 \r\nL 88.821391 32.458174 \r\nL 89.12606 30.536363 \r\nL 89.430728 22.849069 \r\nL 89.735396 26.692741 \r\nL 90.040064 26.692741 \r\nL 90.344733 32.458174 \r\nL 90.649401 32.458174 \r\nL 90.954069 28.614552 \r\nL 91.258738 28.614552 \r\nL 91.563406 24.77093 \r\nL 91.868074 24.77093 \r\nL 92.172743 32.458174 \r\nL 92.477411 24.77093 \r\nL 92.782079 24.77093 \r\nL 93.086748 30.536363 \r\nL 93.391416 32.458174 \r\nL 93.696084 30.536363 \r\nL 94.000752 26.692741 \r\nL 94.610089 22.849069 \r\nL 94.914757 22.849069 \r\nL 95.219426 24.77093 \r\nL 95.524094 22.849069 \r\nL 95.828762 22.849069 \r\nL 96.133431 20.927258 \r\nL 96.438099 30.536363 \r\nL 96.742767 20.927258 \r\nL 97.047436 22.849069 \r\nL 97.352104 26.692741 \r\nL 97.656772 32.458174 \r\nL 98.266109 24.77093 \r\nL 98.570777 22.849069 \r\nL 98.875445 22.849069 \r\nL 99.180114 26.692741 \r\nL 99.484782 24.77093 \r\nL 99.78945 26.692741 \r\nL 100.094119 26.692741 \r\nL 100.398787 30.536363 \r\nL 100.703455 32.458174 \r\nL 101.008123 24.77093 \r\nL 101.312792 26.692741 \r\nL 101.61746 32.458174 \r\nL 101.922128 30.536363 \r\nL 102.226797 30.536363 \r\nL 102.531465 28.614552 \r\nL 102.836133 28.614552 \r\nL 103.140802 36.301796 \r\nL 103.44547 36.301796 \r\nL 103.750138 26.692741 \r\nL 104.359475 30.536363 \r\nL 104.664143 34.379985 \r\nL 104.968811 34.379985 \r\nL 105.27348 26.692741 \r\nL 105.578148 24.77093 \r\nL 106.187485 32.458174 \r\nL 106.492153 32.458174 \r\nL 106.796821 30.536363 \r\nL 107.10149 30.536363 \r\nL 107.406158 32.458174 \r\nL 108.015494 24.77093 \r\nL 108.624831 24.77093 \r\nL 108.929499 22.849069 \r\nL 109.234168 26.692741 \r\nL 109.538836 34.379985 \r\nL 109.843504 24.77093 \r\nL 110.148173 20.927258 \r\nL 110.452841 24.77093 \r\nL 110.757509 26.692741 \r\nL 111.062178 24.77093 \r\nL 111.366846 28.614552 \r\nL 111.671514 26.692741 \r\nL 111.976182 26.692741 \r\nL 112.280851 24.77093 \r\nL 112.585519 24.77093 \r\nL 112.890187 32.458174 \r\nL 113.194856 30.536363 \r\nL 113.499524 26.692741 \r\nL 113.804192 30.536363 \r\nL 114.108861 26.692741 \r\nL 114.413529 36.301796 \r\nL 114.718197 36.301796 \r\nL 115.022865 30.536363 \r\nL 115.632202 26.692741 \r\nL 116.241539 30.536363 \r\nL 116.546207 30.536363 \r\nL 116.850875 34.379985 \r\nL 117.155544 36.301796 \r\nL 117.460212 30.536363 \r\nL 117.76488 32.458174 \r\nL 118.069549 26.692741 \r\nL 118.374217 26.692741 \r\nL 118.678885 28.614552 \r\nL 118.983553 34.379985 \r\nL 119.288222 34.379985 \r\nL 119.897558 24.77093 \r\nL 120.202227 28.614552 \r\nL 120.506895 26.692741 \r\nL 121.116232 26.692741 \r\nL 121.4209 28.614552 \r\nL 121.725568 32.458174 \r\nL 122.030236 30.536363 \r\nL 122.334905 24.77093 \r\nL 122.639573 24.77093 \r\nL 122.944241 26.692741 \r\nL 123.24891 24.77093 \r\nL 123.858246 28.614552 \r\nL 125.686256 28.614552 \r\nL 126.295593 24.77093 \r\nL 126.600261 24.77093 \r\nL 126.904929 22.849069 \r\nL 127.514266 32.458174 \r\nL 127.818934 32.458174 \r\nL 128.123603 28.614552 \r\nL 128.428271 34.379985 \r\nL 128.732939 28.614552 \r\nL 129.037607 28.614552 \r\nL 129.646944 24.77093 \r\nL 129.951612 28.614552 \r\nL 130.256281 28.614552 \r\nL 130.560949 26.692741 \r\nL 130.865617 28.614552 \r\nL 131.170286 32.458174 \r\nL 131.474954 34.379985 \r\nL 131.779622 32.458174 \r\nL 132.084291 32.458174 \r\nL 132.693627 24.77093 \r\nL 132.998295 26.692741 \r\nL 133.607632 26.692741 \r\nL 133.9123 24.77093 \r\nL 134.216969 26.692741 \r\nL 134.521637 22.849069 \r\nL 134.826305 22.849069 \r\nL 135.130974 20.927258 \r\nL 135.435642 20.927258 \r\nL 135.74031 26.692741 \r\nL 136.044979 28.614552 \r\nL 136.958983 28.614552 \r\nL 137.263652 26.692741 \r\nL 137.872988 26.692741 \r\nL 138.177657 30.536363 \r\nL 138.482325 28.614552 \r\nL 138.786993 30.536363 \r\nL 139.091662 26.692741 \r\nL 139.700998 22.849069 \r\nL 140.615003 28.614552 \r\nL 141.22434 24.77093 \r\nL 141.529008 26.692741 \r\nL 142.443013 26.692741 \r\nL 142.747681 28.614552 \r\nL 143.05235 24.77093 \r\nL 143.357018 28.614552 \r\nL 143.966354 28.614552 \r\nL 144.271023 24.77093 \r\nL 144.575691 28.614552 \r\nL 144.880359 28.614552 \r\nL 145.185028 32.458174 \r\nL 145.489696 28.614552 \r\nL 145.794364 28.614552 \r\nL 146.099033 20.927258 \r\nL 146.403701 22.849069 \r\nL 146.708369 30.536363 \r\nL 147.013037 32.458174 \r\nL 147.317706 28.614552 \r\nL 147.622374 30.536363 \r\nL 147.927042 30.536363 \r\nL 148.231711 32.458174 \r\nL 148.536379 28.614552 \r\nL 148.841047 28.614552 \r\nL 149.145716 30.536363 \r\nL 150.669057 30.536363 \r\nL 150.973725 32.458174 \r\nL 151.583062 32.458174 \r\nL 151.88773 30.536363 \r\nL 152.192399 26.692741 \r\nL 152.497067 28.614552 \r\nL 152.801735 22.849069 \r\nL 153.106404 22.849069 \r\nL 153.411072 28.614552 \r\nL 153.71574 26.692741 \r\nL 154.020408 26.692741 \r\nL 154.325077 24.77093 \r\nL 154.629745 26.692741 \r\nL 154.934413 30.536363 \r\nL 155.239082 32.458174 \r\nL 155.54375 30.536363 \r\nL 155.848418 32.458174 \r\nL 156.153087 32.458174 \r\nL 156.457755 34.379985 \r\nL 156.762423 32.458174 \r\nL 157.067092 32.458174 \r\nL 157.37176 28.614552 \r\nL 157.676428 28.614552 \r\nL 157.981096 24.77093 \r\nL 158.285765 28.614552 \r\nL 158.590433 30.536363 \r\nL 158.895101 30.536363 \r\nL 159.809106 24.77093 \r\nL 160.113775 20.927258 \r\nL 160.418443 20.927258 \r\nL 161.027779 24.77093 \r\nL 161.332448 20.927258 \r\nL 162.246453 26.692741 \r\nL 162.551121 24.77093 \r\nL 163.465126 24.77093 \r\nL 163.769794 22.849069 \r\nL 164.379131 26.692741 \r\nL 164.683799 22.849069 \r\nL 164.988467 22.849069 \r\nL 165.597804 26.692741 \r\nL 166.511809 26.692741 \r\nL 166.816477 28.614552 \r\nL 167.121146 26.692741 \r\nL 167.425814 26.692741 \r\nL 168.339819 20.927258 \r\nL 168.949155 24.77093 \r\nL 169.253824 30.536363 \r\nL 169.558492 30.536363 \r\nL 169.86316 26.692741 \r\nL 170.167829 30.536363 \r\nL 170.472497 26.692741 \r\nL 170.777165 34.379985 \r\nL 171.081834 38.223656 \r\nL 171.995838 22.849069 \r\nL 172.605175 26.692741 \r\nL 172.909843 34.379985 \r\nL 173.214512 32.458174 \r\nL 173.51918 28.614552 \r\nL 174.128517 24.77093 \r\nL 174.433185 24.77093 \r\nL 174.737853 20.927258 \r\nL 175.651858 20.927258 \r\nL 176.261195 32.458174 \r\nL 176.565863 30.536363 \r\nL 176.870531 22.849069 \r\nL 177.479868 22.849069 \r\nL 177.784536 24.77093 \r\nL 178.089205 28.614552 \r\nL 178.393873 26.692741 \r\nL 179.307878 26.692741 \r\nL 179.612546 22.849069 \r\nL 180.221883 30.536363 \r\nL 180.526551 30.536363 \r\nL 180.831219 28.614552 \r\nL 181.135888 30.536363 \r\nL 182.963897 30.536363 \r\nL 183.268566 28.614552 \r\nL 183.573234 28.614552 \r\nL 183.877902 26.692741 \r\nL 184.182571 26.692741 \r\nL 184.487239 24.77093 \r\nL 185.096576 34.379985 \r\nL 185.705912 30.536363 \r\nL 186.01058 22.849069 \r\nL 186.315249 20.927258 \r\nL 186.619917 20.927258 \r\nL 187.229254 24.77093 \r\nL 187.533922 32.458174 \r\nL 187.83859 36.301796 \r\nL 188.143259 30.536363 \r\nL 188.447927 30.536363 \r\nL 188.752595 28.614552 \r\nL 189.971268 28.614552 \r\nL 190.275937 26.692741 \r\nL 190.885273 26.692741 \r\nL 191.189942 24.77093 \r\nL 191.49461 24.77093 \r\nL 191.799278 26.692741 \r\nL 192.103947 30.536363 \r\nL 192.408615 30.536363 \r\nL 192.713283 28.614552 \r\nL 193.32262 28.614552 \r\nL 193.627288 26.692741 \r\nL 193.931956 20.927258 \r\nL 194.541293 20.927258 \r\nL 194.845961 26.692741 \r\nL 195.15063 26.692741 \r\nL 195.455298 24.77093 \r\nL 197.892644 24.77093 \r\nL 198.197313 26.692741 \r\nL 199.111318 26.692741 \r\nL 199.415986 24.77093 \r\nL 200.025322 24.77093 \r\nL 200.634659 28.614552 \r\nL 200.939327 28.614552 \r\nL 201.243996 26.692741 \r\nL 202.462669 26.692741 \r\nL 202.767337 28.614552 \r\nL 203.376674 24.77093 \r\nL 203.681342 26.692741 \r\nL 204.290679 34.379985 \r\nL 204.595347 30.536363 \r\nL 204.900015 28.614552 \r\nL 205.509352 28.614552 \r\nL 205.81402 26.692741 \r\nL 206.118689 26.692741 \r\nL 206.423357 28.614552 \r\nL 206.728025 32.458174 \r\nL 207.032693 26.692741 \r\nL 208.251367 26.692741 \r\nL 208.556035 24.77093 \r\nL 210.993381 24.77093 \r\nL 211.602718 28.614552 \r\nL 212.516723 22.849069 \r\nL 212.821391 22.849069 \r\nL 213.12606 24.77093 \r\nL 214.040064 24.77093 \r\nL 214.344733 22.849069 \r\nL 214.954069 26.692741 \r\nL 215.868074 26.692741 \r\nL 216.172743 24.77093 \r\nL 216.477411 30.536363 \r\nL 216.782079 32.458174 \r\nL 218.000752 32.458174 \r\nL 218.305421 26.692741 \r\nL 219.524094 26.692741 \r\nL 219.828762 28.614552 \r\nL 220.438099 28.614552 \r\nL 221.047436 24.77093 \r\nL 221.656772 24.77093 \r\nL 221.96144 22.849069 \r\nL 222.266109 22.849069 \r\nL 222.570777 28.614552 \r\nL 222.875445 38.223656 \r\nL 223.180114 38.223656 \r\nL 223.484782 32.458174 \r\nL 223.78945 32.458174 \r\nL 224.094119 28.614552 \r\nL 224.398787 28.614552 \r\nL 224.703455 26.692741 \r\nL 225.312792 26.692741 \r\nL 225.61746 28.614552 \r\nL 226.226797 24.77093 \r\nL 227.140802 24.77093 \r\nL 227.44547 28.614552 \r\nL 227.750138 30.536363 \r\nL 228.968811 30.536363 \r\nL 229.27348 28.614552 \r\nL 229.882816 28.614552 \r\nL 230.187485 32.458174 \r\nL 230.492153 32.458174 \r\nL 230.796821 30.536363 \r\nL 232.320163 30.536363 \r\nL 233.234168 24.77093 \r\nL 233.538836 24.77093 \r\nL 233.843504 30.536363 \r\nL 234.148173 32.458174 \r\nL 234.757509 28.614552 \r\nL 235.366846 28.614552 \r\nL 235.671514 24.77093 \r\nL 236.280851 28.614552 \r\nL 237.804192 28.614552 \r\nL 238.108861 24.77093 \r\nL 238.718197 20.927258 \r\nL 239.022865 22.849069 \r\nL 239.632202 22.849069 \r\nL 240.241539 26.692741 \r\nL 241.155544 26.692741 \r\nL 241.460212 24.77093 \r\nL 241.76488 26.692741 \r\nL 242.374217 26.692741 \r\nL 242.678885 28.614552 \r\nL 243.288222 28.614552 \r\nL 243.59289 26.692741 \r\nL 243.897558 26.692741 \r\nL 244.202227 30.536363 \r\nL 244.506895 28.614552 \r\nL 245.4209 28.614552 \r\nL 245.725568 30.536363 \r\nL 246.639573 30.536363 \r\nL 246.944241 32.458174 \r\nL 247.24891 30.536363 \r\nL 247.553578 30.536363 \r\nL 247.858246 32.458174 \r\nL 248.162915 32.458174 \r\nL 248.467583 26.692741 \r\nL 249.07692 26.692741 \r\nL 249.686256 30.536363 \r\nL 249.990924 28.614552 \r\nL 250.600261 28.614552 \r\nL 250.904929 26.692741 \r\nL 251.818934 26.692741 \r\nL 252.123603 28.614552 \r\nL 252.732939 28.614552 \r\nL 253.037607 32.458174 \r\nL 253.342276 32.458174 \r\nL 253.646944 30.536363 \r\nL 254.256281 34.379985 \r\nL 254.865617 22.849069 \r\nL 255.474954 26.692741 \r\nL 255.779622 26.692741 \r\nL 256.084291 28.614552 \r\nL 256.388959 26.692741 \r\nL 256.693627 26.692741 \r\nL 257.302964 30.536363 \r\nL 257.9123 30.536363 \r\nL 258.521637 26.692741 \r\nL 258.826305 28.614552 \r\nL 259.435642 24.77093 \r\nL 259.74031 24.77093 \r\nL 260.044979 26.692741 \r\nL 260.958983 26.692741 \r\nL 261.263652 24.77093 \r\nL 261.56832 24.77093 \r\nL 261.872988 22.849069 \r\nL 262.786993 22.849069 \r\nL 263.091662 24.77093 \r\nL 266.138345 24.77093 \r\nL 266.443013 22.849069 \r\nL 267.357018 22.849069 \r\nL 267.661686 20.927258 \r\nL 267.966354 20.927258 \r\nL 268.271023 24.77093 \r\nL 268.880359 28.614552 \r\nL 269.489696 28.614552 \r\nL 269.794364 26.692741 \r\nL 271.927042 26.692741 \r\nL 272.231711 24.77093 \r\nL 275.88773 24.77093 \r\nL 276.192399 22.849069 \r\nL 276.497067 22.849069 \r\nL 276.801735 20.927258 \r\nL 277.106404 20.927258 \r\nL 277.411072 22.849069 \r\nL 278.325077 22.849069 \r\nL 278.629745 24.77093 \r\nL 279.848418 24.77093 \r\nL 280.153087 22.849069 \r\nL 280.762423 26.692741 \r\nL 281.067092 24.77093 \r\nL 282.285765 24.77093 \r\nL 282.590433 26.692741 \r\nL 282.895101 26.692741 \r\nL 283.19977 28.614552 \r\nL 283.504438 28.614552 \r\nL 284.113775 24.77093 \r\nL 284.723111 24.77093 \r\nL 285.027779 26.692741 \r\nL 286.246453 26.692741 \r\nL 286.551121 30.536363 \r\nL 288.074463 30.536363 \r\nL 288.379131 28.614552 \r\nL 288.988467 28.614552 \r\nL 289.293136 26.692741 \r\nL 289.597804 26.692741 \r\nL 289.902472 32.458174 \r\nL 290.511809 32.458174 \r\nL 291.121146 24.77093 \r\nL 293.86316 24.77093 \r\nL 294.167829 26.692741 \r\nL 294.472497 26.692741 \r\nL 294.777165 28.614552 \r\nL 295.386502 24.77093 \r\nL 296.605175 24.77093 \r\nL 296.909843 32.458174 \r\nL 297.214512 36.301796 \r\nL 297.51918 34.379985 \r\nL 298.128517 24.77093 \r\nL 298.433185 22.849069 \r\nL 299.651858 22.849069 \r\nL 300.261195 26.692741 \r\nL 300.870531 26.692741 \r\nL 301.1752 24.77093 \r\nL 301.479868 24.77093 \r\nL 301.784536 26.692741 \r\nL 302.089205 24.77093 \r\nL 303.612546 24.77093 \r\nL 303.917214 28.614552 \r\nL 304.221883 28.614552 \r\nL 304.526551 30.536363 \r\nL 306.049893 30.536363 \r\nL 306.354561 28.614552 \r\nL 306.659229 28.614552 \r\nL 306.963897 26.692741 \r\nL 307.268566 26.692741 \r\nL 307.877902 22.849069 \r\nL 308.487239 22.849069 \r\nL 309.096576 26.692741 \r\nL 310.315249 26.692741 \r\nL 310.619917 24.77093 \r\nL 310.924585 24.77093 \r\nL 311.229254 22.849069 \r\nL 313.057264 22.849069 \r\nL 313.361932 24.77093 \r\nL 313.6666 22.849069 \r\nL 315.189942 22.849069 \r\nL 315.49461 26.692741 \r\nL 315.799278 28.614552 \r\nL 317.017951 28.614552 \r\nL 317.32262 26.692741 \r\nL 317.627288 26.692741 \r\nL 317.931956 30.536363 \r\nL 318.541293 30.536363 \r\nL 319.15063 26.692741 \r\nL 320.369303 26.692741 \r\nL 320.673971 30.536363 \r\nL 320.978639 26.692741 \r\nL 321.283308 24.77093 \r\nL 321.587976 24.77093 \r\nL 321.892644 22.849069 \r\nL 322.197313 22.849069 \r\nL 322.501981 24.77093 \r\nL 323.111318 24.77093 \r\nL 323.415986 26.692741 \r\nL 323.720654 22.849069 \r\nL 324.025322 20.927258 \r\nL 324.329991 22.849069 \r\nL 324.634659 22.849069 \r\nL 324.939327 24.77093 \r\nL 325.243996 24.77093 \r\nL 325.548664 26.692741 \r\nL 326.158001 26.692741 \r\nL 326.462669 24.77093 \r\nL 326.767337 24.77093 \r\nL 327.072006 26.692741 \r\nL 327.681342 26.692741 \r\nL 327.98601 28.614552 \r\nL 329.509352 28.614552 \r\nL 329.81402 30.536363 \r\nL 330.118689 30.536363 \r\nL 330.423357 32.458174 \r\nL 331.032693 28.614552 \r\nL 331.337362 28.614552 \r\nL 331.946698 32.458174 \r\nL 332.556035 28.614552 \r\nL 332.860703 28.614552 \r\nL 333.47004 24.77093 \r\nL 334.993381 24.77093 \r\nL 335.29805 26.692741 \r\nL 335.602718 30.536363 \r\nL 336.516723 30.536363 \r\nL 336.821391 28.614552 \r\nL 337.430728 28.614552 \r\nL 337.735396 24.77093 \r\nL 338.040064 22.849069 \r\nL 338.344733 22.849069 \r\nL 338.954069 26.692741 \r\nL 339.258738 30.536363 \r\nL 339.563406 24.77093 \r\nL 339.868074 22.849069 \r\nL 340.477411 22.849069 \r\nL 340.782079 24.77093 \r\nL 341.086748 22.849069 \r\nL 341.391416 26.692741 \r\nL 341.696084 32.458174 \r\nL 342.305421 36.301796 \r\nL 342.914757 36.301796 \r\nL 343.219426 34.379985 \r\nL 343.524094 30.536363 \r\nL 343.828762 30.536363 \r\nL 344.133431 28.614552 \r\nL 344.438099 24.77093 \r\nL 345.047436 24.77093 \r\nL 345.352104 28.614552 \r\nL 345.96144 28.614552 \r\nL 346.570777 24.77093 \r\nL 348.398787 24.77093 \r\nL 348.703455 26.692741 \r\nL 349.61746 26.692741 \r\nL 349.922128 28.614552 \r\nL 350.531465 24.77093 \r\nL 350.836133 26.692741 \r\nL 351.140802 24.77093 \r\nL 351.44547 24.77093 \r\nL 351.750138 28.614552 \r\nL 352.054807 28.614552 \r\nL 352.359475 26.692741 \r\nL 352.664143 26.692741 \r\nL 352.968811 24.77093 \r\nL 353.27348 24.77093 \r\nL 353.578148 26.692741 \r\nL 354.187485 26.692741 \r\nL 354.492153 24.77093 \r\nL 354.796821 24.77093 \r\nL 355.406158 28.614552 \r\nL 355.710826 26.692741 \r\nL 358.757509 26.692741 \r\nL 359.062178 24.77093 \r\nL 359.366846 24.77093 \r\nL 359.671514 26.692741 \r\nL 359.976182 26.692741 \r\nL 360.280851 24.77093 \r\nL 361.499524 24.77093 \r\nL 361.804192 28.614552 \r\nL 362.413529 32.458174 \r\nL 363.022865 32.458174 \r\nL 363.327534 30.536363 \r\nL 364.241539 30.536363 \r\nL 364.546207 28.614552 \r\nL 364.850875 28.614552 \r\nL 365.155544 32.458174 \r\nL 365.460212 32.458174 \r\nL 365.76488 30.536363 \r\nL 366.069549 30.536363 \r\nL 366.374217 28.614552 \r\nL 366.678885 24.77093 \r\nL 369.725568 24.77093 \r\nL 369.725568 24.77093 \r\n\" style=\"fill:none;stroke:#ff7f0e;stroke-linecap:square;stroke-width:1.5;\"/>\r\n   </g>\r\n   <g id=\"patch_3\">\r\n    <path d=\"M 50.14375 224.64 \r\nL 50.14375 7.2 \r\n\" style=\"fill:none;stroke:#000000;stroke-linecap:square;stroke-linejoin:miter;stroke-width:0.8;\"/>\r\n   </g>\r\n   <g id=\"patch_4\">\r\n    <path d=\"M 384.94375 224.64 \r\nL 384.94375 7.2 \r\n\" style=\"fill:none;stroke:#000000;stroke-linecap:square;stroke-linejoin:miter;stroke-width:0.8;\"/>\r\n   </g>\r\n   <g id=\"patch_5\">\r\n    <path d=\"M 50.14375 224.64 \r\nL 384.94375 224.64 \r\n\" style=\"fill:none;stroke:#000000;stroke-linecap:square;stroke-linejoin:miter;stroke-width:0.8;\"/>\r\n   </g>\r\n   <g id=\"patch_6\">\r\n    <path d=\"M 50.14375 7.2 \r\nL 384.94375 7.2 \r\n\" style=\"fill:none;stroke:#000000;stroke-linecap:square;stroke-linejoin:miter;stroke-width:0.8;\"/>\r\n   </g>\r\n   <g id=\"legend_1\">\r\n    <g id=\"patch_7\">\r\n     <path d=\"M 281 219.64 \r\nL 377.94375 219.64 \r\nQ 379.94375 219.64 379.94375 217.64 \r\nL 379.94375 189.005625 \r\nQ 379.94375 187.005625 377.94375 187.005625 \r\nL 281 187.005625 \r\nQ 279 187.005625 279 189.005625 \r\nL 279 217.64 \r\nQ 279 219.64 281 219.64 \r\nz\r\n\" style=\"fill:#ffffff;opacity:0.8;stroke:#cccccc;stroke-linejoin:miter;\"/>\r\n    </g>\r\n    <g id=\"line2d_14\">\r\n     <path d=\"M 283 195.104062 \r\nL 303 195.104062 \r\n\" style=\"fill:none;stroke:#1f77b4;stroke-linecap:square;stroke-width:1.5;\"/>\r\n    </g>\r\n    <g id=\"line2d_15\"/>\r\n    <g id=\"text_14\">\r\n     <!-- accuracy -->\r\n     <g transform=\"translate(311 198.604062)scale(0.1 -0.1)\">\r\n      <use xlink:href=\"#DejaVuSans-61\"/>\r\n      <use x=\"61.279297\" xlink:href=\"#DejaVuSans-63\"/>\r\n      <use x=\"116.259766\" xlink:href=\"#DejaVuSans-63\"/>\r\n      <use x=\"171.240234\" xlink:href=\"#DejaVuSans-75\"/>\r\n      <use x=\"234.619141\" xlink:href=\"#DejaVuSans-72\"/>\r\n      <use x=\"275.732422\" xlink:href=\"#DejaVuSans-61\"/>\r\n      <use x=\"337.011719\" xlink:href=\"#DejaVuSans-63\"/>\r\n      <use x=\"391.992188\" xlink:href=\"#DejaVuSans-79\"/>\r\n     </g>\r\n    </g>\r\n    <g id=\"line2d_16\">\r\n     <path d=\"M 283 209.782188 \r\nL 303 209.782188 \r\n\" style=\"fill:none;stroke:#ff7f0e;stroke-linecap:square;stroke-width:1.5;\"/>\r\n    </g>\r\n    <g id=\"line2d_17\"/>\r\n    <g id=\"text_15\">\r\n     <!-- val_accuracy -->\r\n     <g transform=\"translate(311 213.282188)scale(0.1 -0.1)\">\r\n      <defs>\r\n       <path d=\"M 191 3500 \r\nL 800 3500 \r\nL 1894 563 \r\nL 2988 3500 \r\nL 3597 3500 \r\nL 2284 0 \r\nL 1503 0 \r\nL 191 3500 \r\nz\r\n\" id=\"DejaVuSans-76\" transform=\"scale(0.015625)\"/>\r\n       <path d=\"M 603 4863 \r\nL 1178 4863 \r\nL 1178 0 \r\nL 603 0 \r\nL 603 4863 \r\nz\r\n\" id=\"DejaVuSans-6c\" transform=\"scale(0.015625)\"/>\r\n       <path d=\"M 3263 -1063 \r\nL 3263 -1509 \r\nL -63 -1509 \r\nL -63 -1063 \r\nL 3263 -1063 \r\nz\r\n\" id=\"DejaVuSans-5f\" transform=\"scale(0.015625)\"/>\r\n      </defs>\r\n      <use xlink:href=\"#DejaVuSans-76\"/>\r\n      <use x=\"59.179688\" xlink:href=\"#DejaVuSans-61\"/>\r\n      <use x=\"120.458984\" xlink:href=\"#DejaVuSans-6c\"/>\r\n      <use x=\"148.242188\" xlink:href=\"#DejaVuSans-5f\"/>\r\n      <use x=\"198.242188\" xlink:href=\"#DejaVuSans-61\"/>\r\n      <use x=\"259.521484\" xlink:href=\"#DejaVuSans-63\"/>\r\n      <use x=\"314.501953\" xlink:href=\"#DejaVuSans-63\"/>\r\n      <use x=\"369.482422\" xlink:href=\"#DejaVuSans-75\"/>\r\n      <use x=\"432.861328\" xlink:href=\"#DejaVuSans-72\"/>\r\n      <use x=\"473.974609\" xlink:href=\"#DejaVuSans-61\"/>\r\n      <use x=\"535.253906\" xlink:href=\"#DejaVuSans-63\"/>\r\n      <use x=\"590.234375\" xlink:href=\"#DejaVuSans-79\"/>\r\n     </g>\r\n    </g>\r\n   </g>\r\n  </g>\r\n </g>\r\n <defs>\r\n  <clipPath id=\"p5edfa7c9f0\">\r\n   <rect height=\"217.44\" width=\"334.8\" x=\"50.14375\" y=\"7.2\"/>\r\n  </clipPath>\r\n </defs>\r\n</svg>\r\n",
      "image/png": "[encoded data removed]"
     },
     "metadata": {
      "needs_background": "light"
     }
    }
   ],
   "source": [
    "plot_history(history)\n",
    "model.evaluate(test_X, test_y)"
   ]
  }
 ],
 "metadata": {
  "interpreter": {
   "hash": "50af46669fc1fbf4a481a8ca2944115fd3a2e5a871b7b13ed20079dadcd15667"
  },
  "kernelspec": {
   "name": "python3",
   "display_name": "Python 3.9.5 64-bit (windows store)"
  },
  "language_info": {
   "codemirror_mode": {
    "name": "ipython",
    "version": 3
   },
   "file_extension": ".py",
   "mimetype": "text/x-python",
   "name": "python",
   "nbconvert_exporter": "python",
   "pygments_lexer": "ipython3",
   "version": "3.9.5"
  },
  "metadata": {
   "interpreter": {
    "hash": "50af46669fc1fbf4a481a8ca2944115fd3a2e5a871b7b13ed20079dadcd15667"
   }
  }
 },
 "nbformat": 4,
 "nbformat_minor": 2
}