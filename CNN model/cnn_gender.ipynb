{
 "cells": [
  {
   "cell_type": "markdown",
   "metadata": {},
   "source": [
    "Feature Extraction and Testing and Training set Creation."
   ]
  },
  {
   "cell_type": "code",
   "execution_count": 1,
   "metadata": {},
   "outputs": [],
   "source": [
    "import numpy as np \n",
    "import pandas as pd \n",
    "import librosa \n",
    "import os\n",
    "from sklearn.model_selection import train_test_split\n",
    "import sklearn\n",
    "import librosa.display\n",
    "import matplotlib.pyplot as plt\n",
    "from sklearn.preprocessing import StandardScaler\n",
    "from sklearn.preprocessing import LabelEncoder\n",
    "import tensorflow as tf\n",
    "from tensorflow import keras\n",
    "from sklearn.model_selection import train_test_split\n",
    "from sklearn.preprocessing import StandardScaler\n",
    "from keras.callbacks import CSVLogger\n",
    "from sklearn.preprocessing import OneHotEncoder\n",
    "import csv\n",
    "#from keras.callbacks import CSVLogger\n",
    "\n",
    "#from keras.callbacks import CSVLogger"
   ]
  },
  {
   "cell_type": "markdown",
   "metadata": {},
   "source": [
    "We will traverse through all the files and create a data frame containg Actor,Gender, Emotion and File Path for each audio files. Then we will use this dataframe to go through all the file path and get the mean mfccs values for each audio file. This mfcc value extracted for each audio file is used to train the model based on emotion associated with each audio file. "
   ]
  },
  {
   "cell_type": "code",
   "execution_count": 11,
   "metadata": {
    "tags": []
   },
   "outputs": [
    {
     "output_type": "stream",
     "name": "stdout",
     "text": [
      "      gender  emotion  actor                                       path\n0          0        1      1  ./Audio/Actor_01/03-01-01-01-01-01-01.wav\n1          0        1      1  ./Audio/Actor_01/03-01-01-01-01-02-01.wav\n2          0        1      1  ./Audio/Actor_01/03-01-01-01-02-01-01.wav\n3          0        1      1  ./Audio/Actor_01/03-01-01-01-02-02-01.wav\n4          0        2      1  ./Audio/Actor_01/03-01-02-01-01-01-01.wav\n...      ...      ...    ...                                        ...\n1435       1        8     24  ./Audio/Actor_24/03-01-08-01-02-02-24.wav\n1436       1        8     24  ./Audio/Actor_24/03-01-08-02-01-01-24.wav\n1437       1        8     24  ./Audio/Actor_24/03-01-08-02-01-02-24.wav\n1438       1        8     24  ./Audio/Actor_24/03-01-08-02-02-01-24.wav\n1439       1        8     24  ./Audio/Actor_24/03-01-08-02-02-02-24.wav\n\n[1440 rows x 4 columns]\n"
     ]
    }
   ],
   "source": [
    "emotion=[]\n",
    "gender=[]\n",
    "actor=[]\n",
    "file_path=[]\n",
    "for i in os.listdir('./Audio'):\n",
    "    # print(i)\n",
    "    for j in os.listdir('./Audio/'+i):\n",
    "        # print(j)\n",
    "        # Splitting the File name\n",
    "        part = j.split('.')[0].split('-')\n",
    "        emotion.append(int(part[2]))\n",
    "        actor.append(int(part[6]))\n",
    "        if int(part[6])%2:\n",
    "            gender.append(0)\n",
    "        else:\n",
    "            gender.append(1)\n",
    "        file_path.append('./Audio/' + i + '/' + j)\n",
    "\n",
    "# A dataframe containing all emotion, gender, actor, path\n",
    "new_df = pd.DataFrame(emotion)\n",
    "# new_df = new_df.replace({1:'neutral', 2:'calm', 3:'happy', 4:'sad', 5:'angry', 6:'fear', 7:'disgust', 8:'surprise'})\n",
    "new_df = pd.concat([pd.DataFrame(gender), new_df,pd.DataFrame(actor)], axis=1)\n",
    "new_df.columns = ['gender','emotion','actor']\n",
    "new_df = pd.concat([new_df, pd.DataFrame(file_path, columns = ['path'])],axis=1)\n",
    "print(new_df)\n"
   ]
  },
  {
   "cell_type": "markdown",
   "metadata": {},
   "source": [
    "MFCC values for each audio file is extracted here. Generally, librosa.feature.mfcc returns us the mfcc of each audio file and is of shape 20 x 143 . So taking mean for each row using np.mean we get 20 mean mfcc values associated with each audio file. These 20 MFCC value will be used as training parameter."
   ]
  },
  {
   "cell_type": "code",
   "execution_count": 3,
   "metadata": {},
   "outputs": [
    {
     "output_type": "error",
     "ename": "NameError",
     "evalue": "name 'path' is not defined",
     "traceback": [
      "\u001b[1;31m---------------------------------------------------------------------------\u001b[0m",
      "\u001b[1;31mNameError\u001b[0m                                 Traceback (most recent call last)",
      "\u001b[1;32m<ipython-input-3-b4e881c16c5d>\u001b[0m in \u001b[0;36m<module>\u001b[1;34m\u001b[0m\n\u001b[0;32m      1\u001b[0m \u001b[1;31m# for path in new_df.path:\u001b[0m\u001b[1;33m\u001b[0m\u001b[1;33m\u001b[0m\u001b[1;33m\u001b[0m\u001b[0m\n\u001b[1;32m----> 2\u001b[1;33m \u001b[0mX\u001b[0m\u001b[1;33m,\u001b[0m \u001b[0msample_rate\u001b[0m \u001b[1;33m=\u001b[0m \u001b[0mlibrosa\u001b[0m\u001b[1;33m.\u001b[0m\u001b[0mload\u001b[0m\u001b[1;33m(\u001b[0m\u001b[0mpath\u001b[0m\u001b[1;33m)\u001b[0m\u001b[1;33m\u001b[0m\u001b[1;33m\u001b[0m\u001b[0m\n\u001b[0m\u001b[0;32m      3\u001b[0m \u001b[0mzcrs_mean\u001b[0m\u001b[1;33m,\u001b[0m \u001b[0mchroma_mean\u001b[0m\u001b[1;33m\u001b[0m\u001b[1;33m\u001b[0m\u001b[0m\n",
      "\u001b[1;31mNameError\u001b[0m: name 'path' is not defined"
     ]
    }
   ],
   "source": [
    "# for path in new_df.path:\n",
    "X, sample_rate = librosa.load(path)\n",
    "zcrs_mean, chroma_mean"
   ]
  },
  {
   "cell_type": "code",
   "execution_count": 167,
   "metadata": {},
   "outputs": [],
   "source": [
    "# ITERATE OVER ALL AUDIO FILES AND EXTRACT MFCC and other spectral features\n",
    "features=np.array([])\n",
    "for path in new_df.path:\n",
    "    X, sample_rate = librosa.load(path)\n",
    "    # MFCC\n",
    "    # n_fcc is for number of properties in MFCC array\n",
    "    mfccs = librosa.feature.mfcc(X, sr = sample_rate, hop_length=512, n_mfcc=30)\n",
    "    # # Get the mean of columns\n",
    "    mfcc_mean = np.mean(mfccs.T, axis = 0)\n",
    "\n",
    "    spec_flux = librosa.onset.onset_strength(X, sr=sample_rate)\n",
    "    spec_flux_mean = np.array([spec_flux.mean()])\n",
    "\n",
    "    # zcrs = librosa.feature.zero_crossing_rate(X)\n",
    "    # zcrs_mean = np.mean(zcrs.T, axis=0)\n",
    "\n",
    "    # chroma = librosa.feature.chroma_stft(X, sr=sample_rate)\n",
    "    # chroma_mean = np.mean(chroma.T, axis=0)\n",
    "\n",
    "    spec_centroid = librosa.feature.spectral_centroid(X, sr=sample_rate)\n",
    "    spec_centroid_mean = np.mean(spec_centroid.T, axis=0)\n",
    "    # ZCR, Spectral Centroid, Spectral Flux, SpectralRolloff, MFCC, Chroma, Log Mel spectrumenergy, Harmonic ratio, Modulation spectrumenergy, Pitch\n",
    "# mfcc, centroid, flux, density, rolloff\n",
    "    spec_bandwidth = librosa.feature.spectral_bandwidth(X, sr=sample_rate)\n",
    "    spec_bandwidth_mean = np.mean(spec_bandwidth.T, axis=0)\n",
    "\n",
    "    spec_contrast = librosa.feature.spectral_contrast(X,sr=sample_rate)\n",
    "    spec_contrast_mean = np.mean(spec_contrast.T,axis=0)\n",
    "\n",
    "    spectral_rolloff = librosa.feature.spectral_rolloff(X, sr=sample_rate)\n",
    "    spectral_rolloff_mean = np.mean(spectral_rolloff.T,axis=0)\n",
    "\n",
    "    feature = np.concatenate((mfcc_mean, spec_flux_mean, spec_centroid_mean, spec_bandwidth_mean, spectral_rolloff_mean, spec_contrast_mean), axis=0)\n",
    "    features = np.hstack((features, feature))"
   ]
  },
  {
   "cell_type": "code",
   "execution_count": 12,
   "metadata": {},
   "outputs": [],
   "source": [
    "with open('Features.csv', 'w', newline = '') as csvfile:\n",
    "    my_writer = csv.writer(csvfile, delimiter = ',')\n",
    "    my_writer.writerow(features)"
   ]
  },
  {
   "cell_type": "code",
   "execution_count": 13,
   "metadata": {
    "tags": []
   },
   "outputs": [
    {
     "output_type": "stream",
     "name": "stdout",
     "text": [
      "(59040,)\n"
     ]
    }
   ],
   "source": [
    "# Use the value stored here without extracting features from above\n",
    "# Uncomment the following lines\n",
    "with open('Features.csv') as csv_file:\n",
    "    csv_reader = csv.reader(csv_file, delimiter=',')\n",
    "    for row in csv_reader:\n",
    "        feature_csv = row\n",
    "\n",
    "features = np.array(feature_csv)\n",
    "print(features.shape)"
   ]
  },
  {
   "cell_type": "code",
   "execution_count": 14,
   "metadata": {},
   "outputs": [],
   "source": [
    "# 41 = 30(mfcc)+7(contrast)+1(rolloff)+1(centroid)+1(bandwith)+1(flux)\n",
    "res = np.reshape(features, (1440, 41))"
   ]
  },
  {
   "cell_type": "code",
   "execution_count": 15,
   "metadata": {},
   "outputs": [],
   "source": [
    "# Dividing dataset in training and testing set\n",
    "train_X, test_X, train_y, test_y = train_test_split(np.array(res), new_df['gender'], test_size=0.1, random_state=0)"
   ]
  },
  {
   "cell_type": "code",
   "execution_count": 16,
   "metadata": {
    "tags": []
   },
   "outputs": [],
   "source": [
    "# # #scaler fit\n",
    "scaler = StandardScaler()\n",
    "train_X = scaler.fit_transform(train_X)\n",
    "test_X = scaler.transform(test_X)\n",
    "test_y = np.array(test_y, dtype=int)\n",
    "train_y = np.array(train_y, dtype=int)"
   ]
  },
  {
   "cell_type": "code",
   "execution_count": 21,
   "metadata": {},
   "outputs": [
    {
     "output_type": "stream",
     "name": "stdout",
     "text": [
      "[[1. 0.]\n [0. 1.]\n [1. 0.]\n ...\n [0. 1.]\n [1. 0.]\n [1. 0.]]\n[[0. 1.]\n [1. 0.]\n [0. 1.]\n [1. 0.]\n [0. 1.]\n [0. 1.]\n [1. 0.]\n [0. 1.]\n [1. 0.]\n [0. 1.]\n [1. 0.]\n [0. 1.]\n [0. 1.]\n [1. 0.]\n [1. 0.]\n [0. 1.]\n [1. 0.]\n [0. 1.]\n [0. 1.]\n [1. 0.]\n [1. 0.]\n [0. 1.]\n [0. 1.]\n [1. 0.]\n [1. 0.]\n [0. 1.]\n [0. 1.]\n [1. 0.]\n [1. 0.]\n [1. 0.]\n [0. 1.]\n [1. 0.]\n [1. 0.]\n [0. 1.]\n [1. 0.]\n [1. 0.]\n [0. 1.]\n [1. 0.]\n [1. 0.]\n [1. 0.]\n [0. 1.]\n [0. 1.]\n [0. 1.]\n [0. 1.]\n [1. 0.]\n [0. 1.]\n [0. 1.]\n [0. 1.]\n [0. 1.]\n [0. 1.]\n [0. 1.]\n [0. 1.]\n [0. 1.]\n [1. 0.]\n [0. 1.]\n [1. 0.]\n [0. 1.]\n [1. 0.]\n [1. 0.]\n [1. 0.]\n [1. 0.]\n [1. 0.]\n [0. 1.]\n [0. 1.]\n [0. 1.]\n [1. 0.]\n [1. 0.]\n [1. 0.]\n [0. 1.]\n [0. 1.]\n [1. 0.]\n [1. 0.]\n [0. 1.]\n [0. 1.]\n [1. 0.]\n [0. 1.]\n [0. 1.]\n [1. 0.]\n [1. 0.]\n [1. 0.]\n [1. 0.]\n [1. 0.]\n [0. 1.]\n [1. 0.]\n [1. 0.]\n [0. 1.]\n [0. 1.]\n [1. 0.]\n [1. 0.]\n [1. 0.]\n [1. 0.]\n [1. 0.]\n [1. 0.]\n [1. 0.]\n [1. 0.]\n [1. 0.]\n [0. 1.]\n [0. 1.]\n [0. 1.]\n [1. 0.]\n [1. 0.]\n [1. 0.]\n [1. 0.]\n [0. 1.]\n [0. 1.]\n [1. 0.]\n [1. 0.]\n [1. 0.]\n [1. 0.]\n [0. 1.]\n [1. 0.]\n [1. 0.]\n [1. 0.]\n [0. 1.]\n [0. 1.]\n [0. 1.]\n [0. 1.]\n [1. 0.]\n [0. 1.]\n [1. 0.]\n [1. 0.]\n [0. 1.]\n [0. 1.]\n [0. 1.]\n [0. 1.]\n [0. 1.]\n [0. 1.]\n [0. 1.]\n [0. 1.]\n [1. 0.]\n [1. 0.]\n [0. 1.]\n [0. 1.]\n [1. 0.]\n [1. 0.]\n [1. 0.]\n [0. 1.]\n [1. 0.]\n [1. 0.]\n [0. 1.]\n [0. 1.]\n [0. 1.]\n [1. 0.]\n [1. 0.]]\n(1296, 41, 1) (144, 41, 1) (1296, 2) (144, 2)\n"
     ]
    }
   ],
   "source": [
    "y_train=[]\n",
    "for i in range(0, train_y.shape[0]):\n",
    "    x=np.zeros(2)\n",
    "    x[train_y[i]-1]=1\n",
    "    y_train.append(x)\n",
    "y_train=np.array(y_train, dtype=float)\n",
    "print(y_train)\n",
    "\n",
    "y_test=[]\n",
    "for i in range(0, test_y.shape[0]):\n",
    "    x=np.zeros(2)\n",
    "    x[test_y[i]-1]=1\n",
    "    y_test.append(x)\n",
    "y_test=np.array(y_test, dtype=float)\n",
    "print(y_test)\n",
    "\n",
    "test_X=np.reshape(test_X, (test_X.shape[0], test_X.shape[1], 1))\n",
    "# y_test=np.reshape(y_test, (y_test.shape[0], y_test.shape[1], 1))\n",
    "train_X=np.reshape(train_X, (train_X.shape[0], train_X.shape[1], 1))\n",
    "# y_train=np.reshape(y_train, (y_train.shape[0], y_train.shape[1], 1))\n",
    "print(train_X.shape,test_X.shape,y_train.shape,y_test.shape)"
   ]
  },
  {
   "cell_type": "code",
   "execution_count": 174,
   "metadata": {},
   "outputs": [
    {
     "output_type": "stream",
     "name": "stdout",
     "text": [
      "[[0. 0. 0. ... 0. 1. 0.]\n [0. 1. 0. ... 0. 0. 0.]\n [0. 0. 0. ... 0. 0. 0.]\n ...\n [0. 0. 1. ... 0. 0. 0.]\n [0. 0. 1. ... 0. 0. 0.]\n [0. 0. 0. ... 0. 0. 0.]]\n[[0. 0. 0. ... 0. 0. 0.]\n [0. 0. 0. ... 1. 0. 0.]\n [0. 0. 0. ... 0. 0. 1.]\n ...\n [0. 0. 0. ... 0. 0. 1.]\n [0. 0. 0. ... 0. 1. 0.]\n [0. 1. 0. ... 0. 0. 0.]]\n(1296, 41, 1) (144, 41, 1) (1296, 8) (144, 8)\n"
     ]
    }
   ],
   "source": [
    "# print(test_y)\n",
    "# Tranforming labels from single element to 8 element array with 1 at place which is the emotion of the audio\n",
    "y_train=[]\n",
    "for i in range(0, train_y.shape[0]):\n",
    "    x=np.zeros(8)\n",
    "    x[train_y[i]-1]=1\n",
    "    y_train.append(x)\n",
    "y_train=np.array(y_train, dtype=float)\n",
    "print(y_train)\n",
    "\n",
    "y_test=[]\n",
    "for i in range(0, test_y.shape[0]):\n",
    "    x=np.zeros(8)\n",
    "    x[test_y[i]-1]=1\n",
    "    y_test.append(x)\n",
    "y_test=np.array(y_test, dtype=float)\n",
    "print(y_test)\n",
    "\n",
    "test_X=np.reshape(test_X, (test_X.shape[0], test_X.shape[1], 1))\n",
    "# y_test=np.reshape(y_test, (y_test.shape[0], y_test.shape[1], 1))\n",
    "train_X=np.reshape(train_X, (train_X.shape[0], train_X.shape[1], 1))\n",
    "# y_train=np.reshape(y_train, (y_train.shape[0], y_train.shape[1], 1))\n",
    "print(train_X.shape,test_X.shape,y_train.shape,y_test.shape)\n",
    "# test_y=np.reshape(test_y, (432, 1))"
   ]
  },
  {
   "cell_type": "markdown",
   "metadata": {},
   "source": [
    "Data Preprocessing"
   ]
  },
  {
   "cell_type": "code",
   "execution_count": 22,
   "metadata": {},
   "outputs": [],
   "source": [
    "# Make values between 0 and 1\n",
    "train_X = (train_X-train_X.mean())/train_X.std()\n",
    "test_X = (test_X-test_X.mean())/test_X.std()\n",
    "# train_X=(train_X-train_X.min())/(train_X.max()-train_X.min())\n",
    "# test_X=(test_X-test_X.min())/(test_X.max()-test_X.min())"
   ]
  },
  {
   "cell_type": "code",
   "execution_count": 23,
   "metadata": {},
   "outputs": [],
   "source": [
    "# #to plot\n",
    "def plot_history(history):\n",
    "  # function to plot accuracy vs epoch\n",
    "  plt.plot(history.history['accuracy'], label='accuracy')\n",
    "  plt.plot(history.history['val_accuracy'], label = 'val_accuracy')\n",
    "  plt.xlabel('Epoch')\n",
    "  plt.ylabel('Accuracy')\n",
    "  plt.legend(loc='lower right')\n",
    "  plt.show()\n",
    "  # print(history.history['loss'])\n",
    "  plt.plot(history.history['loss'], label='Loss')\n",
    "  plt.plot(history.history['val_loss'], label = 'val_loss')\n",
    "  plt.xlabel('Epoch')\n",
    "  plt.ylabel('Loss')\n",
    "  plt.legend(loc='lower right')"
   ]
  },
  {
   "cell_type": "markdown",
   "metadata": {},
   "source": [
    "Now we will define a model, and then run the model on the test train set we have created"
   ]
  },
  {
   "cell_type": "code",
   "execution_count": 28,
   "metadata": {},
   "outputs": [],
   "source": [
    "from tensorflow.keras import layers,regularizers,models\n",
    "model = keras.models.Sequential([\n",
    "                                    tf.keras.layers.Conv1D(filters=128, kernel_size=4, input_shape=(train_X[0].shape)),\n",
    "                                    tf.keras.layers.Activation('relu'),\n",
    "                                    tf.keras.layers.Dropout(0.2),\n",
    "                                    tf.keras.layers.MaxPooling1D(2),\n",
    "\n",
    "                                    tf.keras.layers.Conv1D(filters=64, kernel_size=4),\n",
    "                                    tf.keras.layers.Activation('relu'),\n",
    "                                    tf.keras.layers.Dropout(0.2),\n",
    "                                    # tf.keras.layers.MaxPooling1D(2),\n",
    "\n",
    "                                    layers.Flatten(),\n",
    "                                    # layers.Dense(64),\n",
    "                                    tf.keras.layers.Dense(2 ,activation='softmax')\n",
    "])"
   ]
  },
  {
   "cell_type": "markdown",
   "metadata": {},
   "source": [
    "First we will train this MLP model on 'categorical_crossentropy'as loss function, and 'adam' as optimizer and check the accuracy."
   ]
  },
  {
   "cell_type": "code",
   "execution_count": 29,
   "metadata": {},
   "outputs": [],
   "source": [
    "# Got less accuracy than 'rmsprop' optimizer\n",
    "# model.compile(loss='categorical_crossentropy', optimizer='adam', metrics=['accuracy'])"
   ]
  },
  {
   "cell_type": "code",
   "execution_count": 30,
   "metadata": {},
   "outputs": [
    {
     "output_type": "stream",
     "name": "stdout",
     "text": [
      "Model: \"sequential_2\"\n_________________________________________________________________\nLayer (type)                 Output Shape              Param #   \n=================================================================\nconv1d_4 (Conv1D)            (None, 38, 128)           640       \n_________________________________________________________________\nactivation_4 (Activation)    (None, 38, 128)           0         \n_________________________________________________________________\ndropout_4 (Dropout)          (None, 38, 128)           0         \n_________________________________________________________________\nmax_pooling1d_2 (MaxPooling1 (None, 19, 128)           0         \n_________________________________________________________________\nconv1d_5 (Conv1D)            (None, 16, 64)            32832     \n_________________________________________________________________\nactivation_5 (Activation)    (None, 16, 64)            0         \n_________________________________________________________________\ndropout_5 (Dropout)          (None, 16, 64)            0         \n_________________________________________________________________\nflatten_2 (Flatten)          (None, 1024)              0         \n_________________________________________________________________\ndense_2 (Dense)              (None, 2)                 2050      \n=================================================================\nTotal params: 35,522\nTrainable params: 35,522\nNon-trainable params: 0\n_________________________________________________________________\n"
     ]
    }
   ],
   "source": [
    "model.compile(loss='categorical_crossentropy', optimizer='rmsprop', metrics=['accuracy'])\n",
    "model.summary()"
   ]
  },
  {
   "cell_type": "code",
   "execution_count": 31,
   "metadata": {
    "tags": []
   },
   "outputs": [
    {
     "output_type": "stream",
     "name": "stdout",
     "text": [
      "Epoch 1/100\n",
      "6/6 [==============================] - 2s 151ms/step - loss: 0.5074 - accuracy: 0.7716 - val_loss: 0.3789 - val_accuracy: 0.8611\n",
      "Epoch 2/100\n",
      "6/6 [==============================] - 0s 65ms/step - loss: 0.3407 - accuracy: 0.8735 - val_loss: 0.3663 - val_accuracy: 0.8681\n",
      "Epoch 3/100\n",
      "6/6 [==============================] - 0s 47ms/step - loss: 0.2766 - accuracy: 0.9051 - val_loss: 0.2298 - val_accuracy: 0.9514\n",
      "Epoch 4/100\n",
      "6/6 [==============================] - 0s 60ms/step - loss: 0.2200 - accuracy: 0.9329 - val_loss: 0.1912 - val_accuracy: 0.9653\n",
      "Epoch 5/100\n",
      "6/6 [==============================] - 0s 50ms/step - loss: 0.1875 - accuracy: 0.9414 - val_loss: 0.2566 - val_accuracy: 0.8819\n",
      "Epoch 6/100\n",
      "6/6 [==============================] - 0s 48ms/step - loss: 0.1629 - accuracy: 0.9406 - val_loss: 0.1144 - val_accuracy: 0.9792\n",
      "Epoch 7/100\n",
      "6/6 [==============================] - 0s 52ms/step - loss: 0.1220 - accuracy: 0.9630 - val_loss: 0.1078 - val_accuracy: 0.9861\n",
      "Epoch 8/100\n",
      "6/6 [==============================] - 0s 51ms/step - loss: 0.1030 - accuracy: 0.9707 - val_loss: 0.1022 - val_accuracy: 0.9792\n",
      "Epoch 9/100\n",
      "6/6 [==============================] - 0s 52ms/step - loss: 0.0905 - accuracy: 0.9776 - val_loss: 0.0672 - val_accuracy: 0.9931\n",
      "Epoch 10/100\n",
      "6/6 [==============================] - 0s 53ms/step - loss: 0.0730 - accuracy: 0.9830 - val_loss: 0.0969 - val_accuracy: 0.9722\n",
      "Epoch 11/100\n",
      "6/6 [==============================] - 0s 55ms/step - loss: 0.0740 - accuracy: 0.9769 - val_loss: 0.0565 - val_accuracy: 0.9861\n",
      "Epoch 12/100\n",
      "6/6 [==============================] - 0s 57ms/step - loss: 0.0612 - accuracy: 0.9869 - val_loss: 0.0428 - val_accuracy: 1.0000\n",
      "Epoch 13/100\n",
      "6/6 [==============================] - 0s 49ms/step - loss: 0.0504 - accuracy: 0.9838 - val_loss: 0.0621 - val_accuracy: 0.9861\n",
      "Epoch 14/100\n",
      "6/6 [==============================] - 0s 55ms/step - loss: 0.0505 - accuracy: 0.9923 - val_loss: 0.0406 - val_accuracy: 1.0000\n",
      "Epoch 15/100\n",
      "6/6 [==============================] - 0s 52ms/step - loss: 0.0438 - accuracy: 0.9900 - val_loss: 0.0431 - val_accuracy: 0.9861\n",
      "Epoch 16/100\n",
      "6/6 [==============================] - 0s 54ms/step - loss: 0.0359 - accuracy: 0.9915 - val_loss: 0.0532 - val_accuracy: 0.9792\n",
      "Epoch 17/100\n",
      "6/6 [==============================] - 0s 53ms/step - loss: 0.0380 - accuracy: 0.9884 - val_loss: 0.0771 - val_accuracy: 0.9792\n",
      "Epoch 18/100\n",
      "6/6 [==============================] - 0s 54ms/step - loss: 0.0355 - accuracy: 0.9877 - val_loss: 0.0295 - val_accuracy: 0.9931\n",
      "Epoch 19/100\n",
      "6/6 [==============================] - 0s 55ms/step - loss: 0.0303 - accuracy: 0.9923 - val_loss: 0.0362 - val_accuracy: 0.9931\n",
      "Epoch 20/100\n",
      "6/6 [==============================] - 0s 58ms/step - loss: 0.0283 - accuracy: 0.9931 - val_loss: 0.0236 - val_accuracy: 1.0000\n",
      "Epoch 21/100\n",
      "6/6 [==============================] - 0s 55ms/step - loss: 0.0199 - accuracy: 0.9985 - val_loss: 0.0259 - val_accuracy: 0.9931\n",
      "Epoch 22/100\n",
      "6/6 [==============================] - 0s 53ms/step - loss: 0.0304 - accuracy: 0.9907 - val_loss: 0.0209 - val_accuracy: 1.0000\n",
      "Epoch 23/100\n",
      "6/6 [==============================] - 0s 58ms/step - loss: 0.0256 - accuracy: 0.9923 - val_loss: 0.0310 - val_accuracy: 0.9861\n",
      "Epoch 24/100\n",
      "6/6 [==============================] - 0s 58ms/step - loss: 0.0244 - accuracy: 0.9946 - val_loss: 0.0193 - val_accuracy: 0.9931\n",
      "Epoch 25/100\n",
      "6/6 [==============================] - 0s 62ms/step - loss: 0.0177 - accuracy: 0.9977 - val_loss: 0.0466 - val_accuracy: 0.9861\n",
      "Epoch 26/100\n",
      "6/6 [==============================] - 0s 54ms/step - loss: 0.0228 - accuracy: 0.9954 - val_loss: 0.0248 - val_accuracy: 0.9861\n",
      "Epoch 27/100\n",
      "6/6 [==============================] - 0s 54ms/step - loss: 0.0165 - accuracy: 0.9969 - val_loss: 0.0260 - val_accuracy: 0.9861\n",
      "Epoch 28/100\n",
      "6/6 [==============================] - 0s 58ms/step - loss: 0.0178 - accuracy: 0.9931 - val_loss: 0.0131 - val_accuracy: 1.0000\n",
      "Epoch 29/100\n",
      "6/6 [==============================] - 0s 55ms/step - loss: 0.0146 - accuracy: 0.9961 - val_loss: 0.0356 - val_accuracy: 0.9861\n",
      "Epoch 30/100\n",
      "6/6 [==============================] - 0s 50ms/step - loss: 0.0174 - accuracy: 0.9961 - val_loss: 0.0136 - val_accuracy: 1.0000\n",
      "Epoch 31/100\n",
      "6/6 [==============================] - 0s 63ms/step - loss: 0.0154 - accuracy: 0.9969 - val_loss: 0.0112 - val_accuracy: 1.0000\n",
      "Epoch 32/100\n",
      "6/6 [==============================] - 0s 55ms/step - loss: 0.0152 - accuracy: 0.9946 - val_loss: 0.0113 - val_accuracy: 1.0000\n",
      "Epoch 33/100\n",
      "6/6 [==============================] - 0s 55ms/step - loss: 0.0117 - accuracy: 0.9985 - val_loss: 0.0096 - val_accuracy: 1.0000\n",
      "Epoch 34/100\n",
      "6/6 [==============================] - 0s 55ms/step - loss: 0.0126 - accuracy: 0.9969 - val_loss: 0.0184 - val_accuracy: 0.9861\n",
      "Epoch 35/100\n",
      "6/6 [==============================] - 0s 54ms/step - loss: 0.0108 - accuracy: 0.9977 - val_loss: 0.0231 - val_accuracy: 0.9861\n",
      "Epoch 36/100\n",
      "6/6 [==============================] - 0s 54ms/step - loss: 0.0139 - accuracy: 0.9954 - val_loss: 0.0104 - val_accuracy: 1.0000\n",
      "Epoch 37/100\n",
      "6/6 [==============================] - 0s 53ms/step - loss: 0.0127 - accuracy: 0.9961 - val_loss: 0.0089 - val_accuracy: 1.0000\n",
      "Epoch 38/100\n",
      "6/6 [==============================] - 0s 52ms/step - loss: 0.0087 - accuracy: 0.9977 - val_loss: 0.0068 - val_accuracy: 1.0000\n",
      "Epoch 39/100\n",
      "6/6 [==============================] - 0s 54ms/step - loss: 0.0103 - accuracy: 0.9977 - val_loss: 0.0076 - val_accuracy: 1.0000\n",
      "Epoch 40/100\n",
      "6/6 [==============================] - 0s 52ms/step - loss: 0.0150 - accuracy: 0.9954 - val_loss: 0.0200 - val_accuracy: 0.9861\n",
      "Epoch 41/100\n",
      "6/6 [==============================] - 0s 54ms/step - loss: 0.0076 - accuracy: 0.9969 - val_loss: 0.0189 - val_accuracy: 0.9931\n",
      "Epoch 42/100\n",
      "6/6 [==============================] - 0s 52ms/step - loss: 0.0063 - accuracy: 1.0000 - val_loss: 0.0067 - val_accuracy: 1.0000\n",
      "Epoch 43/100\n",
      "6/6 [==============================] - 0s 51ms/step - loss: 0.0073 - accuracy: 0.9992 - val_loss: 0.0061 - val_accuracy: 1.0000\n",
      "Epoch 44/100\n",
      "6/6 [==============================] - 0s 52ms/step - loss: 0.0050 - accuracy: 1.0000 - val_loss: 0.0162 - val_accuracy: 0.9861\n",
      "Epoch 45/100\n",
      "6/6 [==============================] - 0s 56ms/step - loss: 0.0097 - accuracy: 0.9977 - val_loss: 0.0090 - val_accuracy: 1.0000\n",
      "Epoch 46/100\n",
      "6/6 [==============================] - 0s 56ms/step - loss: 0.0093 - accuracy: 0.9977 - val_loss: 0.0072 - val_accuracy: 1.0000\n",
      "Epoch 47/100\n",
      "6/6 [==============================] - 0s 56ms/step - loss: 0.0045 - accuracy: 1.0000 - val_loss: 0.0055 - val_accuracy: 1.0000\n",
      "Epoch 48/100\n",
      "6/6 [==============================] - 0s 54ms/step - loss: 0.0075 - accuracy: 0.9977 - val_loss: 0.0112 - val_accuracy: 0.9931\n",
      "Epoch 49/100\n",
      "6/6 [==============================] - 0s 52ms/step - loss: 0.0064 - accuracy: 0.9985 - val_loss: 0.0060 - val_accuracy: 1.0000\n",
      "Epoch 50/100\n",
      "6/6 [==============================] - 0s 48ms/step - loss: 0.0053 - accuracy: 1.0000 - val_loss: 0.0049 - val_accuracy: 1.0000\n",
      "Epoch 51/100\n",
      "6/6 [==============================] - 0s 50ms/step - loss: 0.0035 - accuracy: 1.0000 - val_loss: 0.0047 - val_accuracy: 1.0000\n",
      "Epoch 52/100\n",
      "6/6 [==============================] - 0s 55ms/step - loss: 0.0034 - accuracy: 1.0000 - val_loss: 0.0041 - val_accuracy: 1.0000\n",
      "Epoch 53/100\n",
      "6/6 [==============================] - 0s 52ms/step - loss: 0.0059 - accuracy: 0.9992 - val_loss: 0.0055 - val_accuracy: 1.0000\n",
      "Epoch 54/100\n",
      "6/6 [==============================] - 0s 61ms/step - loss: 0.0072 - accuracy: 0.9977 - val_loss: 0.0030 - val_accuracy: 1.0000\n",
      "Epoch 55/100\n",
      "6/6 [==============================] - 0s 59ms/step - loss: 0.0026 - accuracy: 1.0000 - val_loss: 0.0035 - val_accuracy: 1.0000\n",
      "Epoch 56/100\n",
      "6/6 [==============================] - 0s 53ms/step - loss: 0.0036 - accuracy: 1.0000 - val_loss: 0.0042 - val_accuracy: 1.0000\n",
      "Epoch 57/100\n",
      "6/6 [==============================] - 0s 54ms/step - loss: 0.0094 - accuracy: 0.9969 - val_loss: 0.0051 - val_accuracy: 1.0000\n",
      "Epoch 58/100\n",
      "6/6 [==============================] - 0s 57ms/step - loss: 0.0032 - accuracy: 1.0000 - val_loss: 0.0150 - val_accuracy: 0.9931\n",
      "Epoch 59/100\n",
      "6/6 [==============================] - 0s 53ms/step - loss: 0.0053 - accuracy: 0.9977 - val_loss: 0.0109 - val_accuracy: 0.9931\n",
      "Epoch 60/100\n",
      "6/6 [==============================] - 0s 52ms/step - loss: 0.0042 - accuracy: 0.9992 - val_loss: 0.0037 - val_accuracy: 1.0000\n",
      "Epoch 61/100\n",
      "6/6 [==============================] - 0s 49ms/step - loss: 0.0024 - accuracy: 1.0000 - val_loss: 0.0050 - val_accuracy: 1.0000\n",
      "Epoch 62/100\n",
      "6/6 [==============================] - 0s 56ms/step - loss: 0.0072 - accuracy: 0.9969 - val_loss: 0.0050 - val_accuracy: 1.0000\n",
      "Epoch 63/100\n",
      "6/6 [==============================] - 0s 55ms/step - loss: 0.0031 - accuracy: 0.9992 - val_loss: 0.0032 - val_accuracy: 1.0000\n",
      "Epoch 64/100\n",
      "6/6 [==============================] - 0s 52ms/step - loss: 0.0027 - accuracy: 1.0000 - val_loss: 0.0034 - val_accuracy: 1.0000\n",
      "Epoch 65/100\n",
      "6/6 [==============================] - 0s 55ms/step - loss: 0.0019 - accuracy: 1.0000 - val_loss: 0.0024 - val_accuracy: 1.0000\n",
      "Epoch 66/100\n",
      "6/6 [==============================] - 0s 60ms/step - loss: 0.0022 - accuracy: 1.0000 - val_loss: 0.0079 - val_accuracy: 1.0000\n",
      "Epoch 67/100\n",
      "6/6 [==============================] - 0s 52ms/step - loss: 0.0031 - accuracy: 1.0000 - val_loss: 0.0037 - val_accuracy: 1.0000\n",
      "Epoch 68/100\n",
      "6/6 [==============================] - 0s 51ms/step - loss: 0.0037 - accuracy: 0.9992 - val_loss: 0.0069 - val_accuracy: 1.0000\n",
      "Epoch 69/100\n",
      "6/6 [==============================] - 0s 50ms/step - loss: 0.0013 - accuracy: 1.0000 - val_loss: 0.0037 - val_accuracy: 1.0000\n",
      "Epoch 70/100\n",
      "6/6 [==============================] - 0s 49ms/step - loss: 0.0013 - accuracy: 1.0000 - val_loss: 0.0028 - val_accuracy: 1.0000\n",
      "Epoch 71/100\n",
      "6/6 [==============================] - 0s 52ms/step - loss: 0.0013 - accuracy: 1.0000 - val_loss: 0.0031 - val_accuracy: 1.0000\n",
      "Epoch 72/100\n",
      "6/6 [==============================] - 0s 63ms/step - loss: 0.0032 - accuracy: 0.9992 - val_loss: 0.0029 - val_accuracy: 1.0000\n",
      "Epoch 73/100\n",
      "6/6 [==============================] - 0s 49ms/step - loss: 0.0039 - accuracy: 0.9985 - val_loss: 0.0029 - val_accuracy: 1.0000\n",
      "Epoch 74/100\n",
      "6/6 [==============================] - 0s 51ms/step - loss: 0.0018 - accuracy: 1.0000 - val_loss: 0.0031 - val_accuracy: 1.0000\n",
      "Epoch 75/100\n",
      "6/6 [==============================] - 0s 49ms/step - loss: 0.0018 - accuracy: 0.9992 - val_loss: 0.0019 - val_accuracy: 1.0000\n",
      "Epoch 76/100\n",
      "6/6 [==============================] - 0s 55ms/step - loss: 0.0015 - accuracy: 1.0000 - val_loss: 0.0013 - val_accuracy: 1.0000\n",
      "Epoch 77/100\n",
      "6/6 [==============================] - 0s 48ms/step - loss: 0.0012 - accuracy: 1.0000 - val_loss: 0.0014 - val_accuracy: 1.0000\n",
      "Epoch 78/100\n",
      "6/6 [==============================] - 0s 50ms/step - loss: 0.0012 - accuracy: 1.0000 - val_loss: 0.0021 - val_accuracy: 1.0000\n",
      "Epoch 79/100\n",
      "6/6 [==============================] - 0s 53ms/step - loss: 0.0033 - accuracy: 0.9992 - val_loss: 0.0223 - val_accuracy: 0.9861\n",
      "Epoch 80/100\n",
      "6/6 [==============================] - 0s 50ms/step - loss: 0.0040 - accuracy: 0.9985 - val_loss: 0.0019 - val_accuracy: 1.0000\n",
      "Epoch 81/100\n",
      "6/6 [==============================] - 0s 57ms/step - loss: 0.0014 - accuracy: 1.0000 - val_loss: 0.0018 - val_accuracy: 1.0000\n",
      "Epoch 82/100\n",
      "6/6 [==============================] - 0s 56ms/step - loss: 8.6023e-04 - accuracy: 1.0000 - val_loss: 0.0016 - val_accuracy: 1.0000\n",
      "Epoch 83/100\n",
      "6/6 [==============================] - 0s 57ms/step - loss: 0.0011 - accuracy: 1.0000 - val_loss: 0.0053 - val_accuracy: 1.0000\n",
      "Epoch 84/100\n",
      "6/6 [==============================] - 0s 55ms/step - loss: 9.3902e-04 - accuracy: 1.0000 - val_loss: 0.0026 - val_accuracy: 1.0000\n",
      "Epoch 85/100\n",
      "6/6 [==============================] - 0s 52ms/step - loss: 0.0010 - accuracy: 1.0000 - val_loss: 0.0064 - val_accuracy: 1.0000\n",
      "Epoch 86/100\n",
      "6/6 [==============================] - 0s 51ms/step - loss: 0.0020 - accuracy: 1.0000 - val_loss: 0.0020 - val_accuracy: 1.0000\n",
      "Epoch 87/100\n",
      "6/6 [==============================] - 0s 54ms/step - loss: 8.4479e-04 - accuracy: 1.0000 - val_loss: 0.0013 - val_accuracy: 1.0000\n",
      "Epoch 88/100\n",
      "6/6 [==============================] - 0s 48ms/step - loss: 0.0013 - accuracy: 0.9992 - val_loss: 0.0022 - val_accuracy: 1.0000\n",
      "Epoch 89/100\n",
      "6/6 [==============================] - 0s 55ms/step - loss: 9.0120e-04 - accuracy: 1.0000 - val_loss: 0.0085 - val_accuracy: 0.9931\n",
      "Epoch 90/100\n",
      "6/6 [==============================] - 0s 54ms/step - loss: 0.0018 - accuracy: 1.0000 - val_loss: 0.0015 - val_accuracy: 1.0000\n",
      "Epoch 91/100\n",
      "6/6 [==============================] - 0s 50ms/step - loss: 0.0021 - accuracy: 0.9992 - val_loss: 0.0013 - val_accuracy: 1.0000\n",
      "Epoch 92/100\n",
      "6/6 [==============================] - 0s 50ms/step - loss: 0.0021 - accuracy: 0.9992 - val_loss: 0.0017 - val_accuracy: 1.0000\n",
      "Epoch 93/100\n",
      "6/6 [==============================] - 0s 50ms/step - loss: 0.0012 - accuracy: 1.0000 - val_loss: 0.0024 - val_accuracy: 1.0000\n",
      "Epoch 94/100\n",
      "6/6 [==============================] - 0s 49ms/step - loss: 7.0761e-04 - accuracy: 1.0000 - val_loss: 0.0013 - val_accuracy: 1.0000\n",
      "Epoch 95/100\n",
      "6/6 [==============================] - 0s 49ms/step - loss: 0.0010 - accuracy: 1.0000 - val_loss: 0.0014 - val_accuracy: 1.0000\n",
      "Epoch 96/100\n",
      "6/6 [==============================] - 0s 50ms/step - loss: 0.0015 - accuracy: 1.0000 - val_loss: 0.0011 - val_accuracy: 1.0000\n",
      "Epoch 97/100\n",
      "6/6 [==============================] - 0s 53ms/step - loss: 0.0018 - accuracy: 0.9992 - val_loss: 0.0201 - val_accuracy: 0.9861\n",
      "Epoch 98/100\n",
      "6/6 [==============================] - 0s 50ms/step - loss: 0.0015 - accuracy: 1.0000 - val_loss: 0.0019 - val_accuracy: 1.0000\n",
      "Epoch 99/100\n",
      "6/6 [==============================] - 0s 50ms/step - loss: 9.9349e-04 - accuracy: 1.0000 - val_loss: 0.0010 - val_accuracy: 1.0000\n",
      "Epoch 100/100\n",
      "6/6 [==============================] - 0s 53ms/step - loss: 6.4319e-04 - accuracy: 1.0000 - val_loss: 0.0033 - val_accuracy: 1.0000\n"
     ]
    }
   ],
   "source": [
    "history=model.fit(train_X, y_train, epochs=100, batch_size=256, validation_data=(test_X, y_test))"
   ]
  },
  {
   "cell_type": "code",
   "execution_count": 32,
   "metadata": {
    "tags": []
   },
   "outputs": [
    {
     "output_type": "display_data",
     "data": {
      "text/plain": "<Figure size 432x288 with 1 Axes>",
      "image/svg+xml": "<?xml version=\"1.0\" encoding=\"utf-8\" standalone=\"no\"?>\r\n<!DOCTYPE svg PUBLIC \"-//W3C//DTD SVG 1.1//EN\"\r\n  \"http://www.w3.org/Graphics/SVG/1.1/DTD/svg11.dtd\">\r\n<svg height=\"262.19625pt\" version=\"1.1\" viewBox=\"0 0 392.14375 262.19625\" width=\"392.14375pt\" xmlns=\"http://www.w3.org/2000/svg\" xmlns:xlink=\"http://www.w3.org/1999/xlink\">\r\n <metadata>\r\n  <rdf:RDF xmlns:cc=\"http://creativecommons.org/ns#\" xmlns:dc=\"http://purl.org/dc/elements/1.1/\" xmlns:rdf=\"http://www.w3.org/1999/02/22-rdf-syntax-ns#\">\r\n   <cc:Work>\r\n    <dc:type rdf:resource=\"http://purl.org/dc/dcmitype/StillImage\"/>\r\n    <dc:date>2021-07-11T19:43:40.680249</dc:date>\r\n    <dc:format>image/svg+xml</dc:format>\r\n    <dc:creator>\r\n     <cc:Agent>\r\n      <dc:title>Matplotlib v3.4.2, https://matplotlib.org/</dc:title>\r\n     </cc:Agent>\r\n    </dc:creator>\r\n   </cc:Work>\r\n  </rdf:RDF>\r\n </metadata>\r\n <defs>\r\n  <style type=\"text/css\">*{stroke-linecap:butt;stroke-linejoin:round;}</style>\r\n </defs>\r\n <g id=\"figure_1\">\r\n  <g id=\"patch_1\">\r\n   <path d=\"M 0 262.19625 \r\nL 392.14375 262.19625 \r\nL 392.14375 0 \r\nL 0 0 \r\nz\r\n\" style=\"fill:none;\"/>\r\n  </g>\r\n  <g id=\"axes_1\">\r\n   <g id=\"patch_2\">\r\n    <path d=\"M 50.14375 224.64 \r\nL 384.94375 224.64 \r\nL 384.94375 7.2 \r\nL 50.14375 7.2 \r\nz\r\n\" style=\"fill:#ffffff;\"/>\r\n   </g>\r\n   <g id=\"matplotlib.axis_1\">\r\n    <g id=\"xtick_1\">\r\n     <g id=\"line2d_1\">\r\n      <defs>\r\n       <path d=\"M 0 0 \r\nL 0 3.5 \r\n\" id=\"mdad98c188d\" style=\"stroke:#000000;stroke-width:0.8;\"/>\r\n      </defs>\r\n      <g>\r\n       <use style=\"stroke:#000000;stroke-width:0.8;\" x=\"65.361932\" xlink:href=\"#mdad98c188d\" y=\"224.64\"/>\r\n      </g>\r\n     </g>\r\n     <g id=\"text_1\">\r\n      <!-- 0 -->\r\n      <g transform=\"translate(62.180682 239.238437)scale(0.1 -0.1)\">\r\n       <defs>\r\n        <path d=\"M 2034 4250 \r\nQ 1547 4250 1301 3770 \r\nQ 1056 3291 1056 2328 \r\nQ 1056 1369 1301 889 \r\nQ 1547 409 2034 409 \r\nQ 2525 409 2770 889 \r\nQ 3016 1369 3016 2328 \r\nQ 3016 3291 2770 3770 \r\nQ 2525 4250 2034 4250 \r\nz\r\nM 2034 4750 \r\nQ 2819 4750 3233 4129 \r\nQ 3647 3509 3647 2328 \r\nQ 3647 1150 3233 529 \r\nQ 2819 -91 2034 -91 \r\nQ 1250 -91 836 529 \r\nQ 422 1150 422 2328 \r\nQ 422 3509 836 4129 \r\nQ 1250 4750 2034 4750 \r\nz\r\n\" id=\"DejaVuSans-30\" transform=\"scale(0.015625)\"/>\r\n       </defs>\r\n       <use xlink:href=\"#DejaVuSans-30\"/>\r\n      </g>\r\n     </g>\r\n    </g>\r\n    <g id=\"xtick_2\">\r\n     <g id=\"line2d_2\">\r\n      <g>\r\n       <use style=\"stroke:#000000;stroke-width:0.8;\" x=\"126.849535\" xlink:href=\"#mdad98c188d\" y=\"224.64\"/>\r\n      </g>\r\n     </g>\r\n     <g id=\"text_2\">\r\n      <!-- 20 -->\r\n      <g transform=\"translate(120.487035 239.238437)scale(0.1 -0.1)\">\r\n       <defs>\r\n        <path d=\"M 1228 531 \r\nL 3431 531 \r\nL 3431 0 \r\nL 469 0 \r\nL 469 531 \r\nQ 828 903 1448 1529 \r\nQ 2069 2156 2228 2338 \r\nQ 2531 2678 2651 2914 \r\nQ 2772 3150 2772 3378 \r\nQ 2772 3750 2511 3984 \r\nQ 2250 4219 1831 4219 \r\nQ 1534 4219 1204 4116 \r\nQ 875 4013 500 3803 \r\nL 500 4441 \r\nQ 881 4594 1212 4672 \r\nQ 1544 4750 1819 4750 \r\nQ 2544 4750 2975 4387 \r\nQ 3406 4025 3406 3419 \r\nQ 3406 3131 3298 2873 \r\nQ 3191 2616 2906 2266 \r\nQ 2828 2175 2409 1742 \r\nQ 1991 1309 1228 531 \r\nz\r\n\" id=\"DejaVuSans-32\" transform=\"scale(0.015625)\"/>\r\n       </defs>\r\n       <use xlink:href=\"#DejaVuSans-32\"/>\r\n       <use x=\"63.623047\" xlink:href=\"#DejaVuSans-30\"/>\r\n      </g>\r\n     </g>\r\n    </g>\r\n    <g id=\"xtick_3\">\r\n     <g id=\"line2d_3\">\r\n      <g>\r\n       <use style=\"stroke:#000000;stroke-width:0.8;\" x=\"188.337138\" xlink:href=\"#mdad98c188d\" y=\"224.64\"/>\r\n      </g>\r\n     </g>\r\n     <g id=\"text_3\">\r\n      <!-- 40 -->\r\n      <g transform=\"translate(181.974638 239.238437)scale(0.1 -0.1)\">\r\n       <defs>\r\n        <path d=\"M 2419 4116 \r\nL 825 1625 \r\nL 2419 1625 \r\nL 2419 4116 \r\nz\r\nM 2253 4666 \r\nL 3047 4666 \r\nL 3047 1625 \r\nL 3713 1625 \r\nL 3713 1100 \r\nL 3047 1100 \r\nL 3047 0 \r\nL 2419 0 \r\nL 2419 1100 \r\nL 313 1100 \r\nL 313 1709 \r\nL 2253 4666 \r\nz\r\n\" id=\"DejaVuSans-34\" transform=\"scale(0.015625)\"/>\r\n       </defs>\r\n       <use xlink:href=\"#DejaVuSans-34\"/>\r\n       <use x=\"63.623047\" xlink:href=\"#DejaVuSans-30\"/>\r\n      </g>\r\n     </g>\r\n    </g>\r\n    <g id=\"xtick_4\">\r\n     <g id=\"line2d_4\">\r\n      <g>\r\n       <use style=\"stroke:#000000;stroke-width:0.8;\" x=\"249.824742\" xlink:href=\"#mdad98c188d\" y=\"224.64\"/>\r\n      </g>\r\n     </g>\r\n     <g id=\"text_4\">\r\n      <!-- 60 -->\r\n      <g transform=\"translate(243.462242 239.238437)scale(0.1 -0.1)\">\r\n       <defs>\r\n        <path d=\"M 2113 2584 \r\nQ 1688 2584 1439 2293 \r\nQ 1191 2003 1191 1497 \r\nQ 1191 994 1439 701 \r\nQ 1688 409 2113 409 \r\nQ 2538 409 2786 701 \r\nQ 3034 994 3034 1497 \r\nQ 3034 2003 2786 2293 \r\nQ 2538 2584 2113 2584 \r\nz\r\nM 3366 4563 \r\nL 3366 3988 \r\nQ 3128 4100 2886 4159 \r\nQ 2644 4219 2406 4219 \r\nQ 1781 4219 1451 3797 \r\nQ 1122 3375 1075 2522 \r\nQ 1259 2794 1537 2939 \r\nQ 1816 3084 2150 3084 \r\nQ 2853 3084 3261 2657 \r\nQ 3669 2231 3669 1497 \r\nQ 3669 778 3244 343 \r\nQ 2819 -91 2113 -91 \r\nQ 1303 -91 875 529 \r\nQ 447 1150 447 2328 \r\nQ 447 3434 972 4092 \r\nQ 1497 4750 2381 4750 \r\nQ 2619 4750 2861 4703 \r\nQ 3103 4656 3366 4563 \r\nz\r\n\" id=\"DejaVuSans-36\" transform=\"scale(0.015625)\"/>\r\n       </defs>\r\n       <use xlink:href=\"#DejaVuSans-36\"/>\r\n       <use x=\"63.623047\" xlink:href=\"#DejaVuSans-30\"/>\r\n      </g>\r\n     </g>\r\n    </g>\r\n    <g id=\"xtick_5\">\r\n     <g id=\"line2d_5\">\r\n      <g>\r\n       <use style=\"stroke:#000000;stroke-width:0.8;\" x=\"311.312345\" xlink:href=\"#mdad98c188d\" y=\"224.64\"/>\r\n      </g>\r\n     </g>\r\n     <g id=\"text_5\">\r\n      <!-- 80 -->\r\n      <g transform=\"translate(304.949845 239.238437)scale(0.1 -0.1)\">\r\n       <defs>\r\n        <path d=\"M 2034 2216 \r\nQ 1584 2216 1326 1975 \r\nQ 1069 1734 1069 1313 \r\nQ 1069 891 1326 650 \r\nQ 1584 409 2034 409 \r\nQ 2484 409 2743 651 \r\nQ 3003 894 3003 1313 \r\nQ 3003 1734 2745 1975 \r\nQ 2488 2216 2034 2216 \r\nz\r\nM 1403 2484 \r\nQ 997 2584 770 2862 \r\nQ 544 3141 544 3541 \r\nQ 544 4100 942 4425 \r\nQ 1341 4750 2034 4750 \r\nQ 2731 4750 3128 4425 \r\nQ 3525 4100 3525 3541 \r\nQ 3525 3141 3298 2862 \r\nQ 3072 2584 2669 2484 \r\nQ 3125 2378 3379 2068 \r\nQ 3634 1759 3634 1313 \r\nQ 3634 634 3220 271 \r\nQ 2806 -91 2034 -91 \r\nQ 1263 -91 848 271 \r\nQ 434 634 434 1313 \r\nQ 434 1759 690 2068 \r\nQ 947 2378 1403 2484 \r\nz\r\nM 1172 3481 \r\nQ 1172 3119 1398 2916 \r\nQ 1625 2713 2034 2713 \r\nQ 2441 2713 2670 2916 \r\nQ 2900 3119 2900 3481 \r\nQ 2900 3844 2670 4047 \r\nQ 2441 4250 2034 4250 \r\nQ 1625 4250 1398 4047 \r\nQ 1172 3844 1172 3481 \r\nz\r\n\" id=\"DejaVuSans-38\" transform=\"scale(0.015625)\"/>\r\n       </defs>\r\n       <use xlink:href=\"#DejaVuSans-38\"/>\r\n       <use x=\"63.623047\" xlink:href=\"#DejaVuSans-30\"/>\r\n      </g>\r\n     </g>\r\n    </g>\r\n    <g id=\"xtick_6\">\r\n     <g id=\"line2d_6\">\r\n      <g>\r\n       <use style=\"stroke:#000000;stroke-width:0.8;\" x=\"372.799948\" xlink:href=\"#mdad98c188d\" y=\"224.64\"/>\r\n      </g>\r\n     </g>\r\n     <g id=\"text_6\">\r\n      <!-- 100 -->\r\n      <g transform=\"translate(363.256198 239.238437)scale(0.1 -0.1)\">\r\n       <defs>\r\n        <path d=\"M 794 531 \r\nL 1825 531 \r\nL 1825 4091 \r\nL 703 3866 \r\nL 703 4441 \r\nL 1819 4666 \r\nL 2450 4666 \r\nL 2450 531 \r\nL 3481 531 \r\nL 3481 0 \r\nL 794 0 \r\nL 794 531 \r\nz\r\n\" id=\"DejaVuSans-31\" transform=\"scale(0.015625)\"/>\r\n       </defs>\r\n       <use xlink:href=\"#DejaVuSans-31\"/>\r\n       <use x=\"63.623047\" xlink:href=\"#DejaVuSans-30\"/>\r\n       <use x=\"127.246094\" xlink:href=\"#DejaVuSans-30\"/>\r\n      </g>\r\n     </g>\r\n    </g>\r\n    <g id=\"text_7\">\r\n     <!-- Epoch -->\r\n     <g transform=\"translate(202.232813 252.916562)scale(0.1 -0.1)\">\r\n      <defs>\r\n       <path d=\"M 628 4666 \r\nL 3578 4666 \r\nL 3578 4134 \r\nL 1259 4134 \r\nL 1259 2753 \r\nL 3481 2753 \r\nL 3481 2222 \r\nL 1259 2222 \r\nL 1259 531 \r\nL 3634 531 \r\nL 3634 0 \r\nL 628 0 \r\nL 628 4666 \r\nz\r\n\" id=\"DejaVuSans-45\" transform=\"scale(0.015625)\"/>\r\n       <path d=\"M 1159 525 \r\nL 1159 -1331 \r\nL 581 -1331 \r\nL 581 3500 \r\nL 1159 3500 \r\nL 1159 2969 \r\nQ 1341 3281 1617 3432 \r\nQ 1894 3584 2278 3584 \r\nQ 2916 3584 3314 3078 \r\nQ 3713 2572 3713 1747 \r\nQ 3713 922 3314 415 \r\nQ 2916 -91 2278 -91 \r\nQ 1894 -91 1617 61 \r\nQ 1341 213 1159 525 \r\nz\r\nM 3116 1747 \r\nQ 3116 2381 2855 2742 \r\nQ 2594 3103 2138 3103 \r\nQ 1681 3103 1420 2742 \r\nQ 1159 2381 1159 1747 \r\nQ 1159 1113 1420 752 \r\nQ 1681 391 2138 391 \r\nQ 2594 391 2855 752 \r\nQ 3116 1113 3116 1747 \r\nz\r\n\" id=\"DejaVuSans-70\" transform=\"scale(0.015625)\"/>\r\n       <path d=\"M 1959 3097 \r\nQ 1497 3097 1228 2736 \r\nQ 959 2375 959 1747 \r\nQ 959 1119 1226 758 \r\nQ 1494 397 1959 397 \r\nQ 2419 397 2687 759 \r\nQ 2956 1122 2956 1747 \r\nQ 2956 2369 2687 2733 \r\nQ 2419 3097 1959 3097 \r\nz\r\nM 1959 3584 \r\nQ 2709 3584 3137 3096 \r\nQ 3566 2609 3566 1747 \r\nQ 3566 888 3137 398 \r\nQ 2709 -91 1959 -91 \r\nQ 1206 -91 779 398 \r\nQ 353 888 353 1747 \r\nQ 353 2609 779 3096 \r\nQ 1206 3584 1959 3584 \r\nz\r\n\" id=\"DejaVuSans-6f\" transform=\"scale(0.015625)\"/>\r\n       <path d=\"M 3122 3366 \r\nL 3122 2828 \r\nQ 2878 2963 2633 3030 \r\nQ 2388 3097 2138 3097 \r\nQ 1578 3097 1268 2742 \r\nQ 959 2388 959 1747 \r\nQ 959 1106 1268 751 \r\nQ 1578 397 2138 397 \r\nQ 2388 397 2633 464 \r\nQ 2878 531 3122 666 \r\nL 3122 134 \r\nQ 2881 22 2623 -34 \r\nQ 2366 -91 2075 -91 \r\nQ 1284 -91 818 406 \r\nQ 353 903 353 1747 \r\nQ 353 2603 823 3093 \r\nQ 1294 3584 2113 3584 \r\nQ 2378 3584 2631 3529 \r\nQ 2884 3475 3122 3366 \r\nz\r\n\" id=\"DejaVuSans-63\" transform=\"scale(0.015625)\"/>\r\n       <path d=\"M 3513 2113 \r\nL 3513 0 \r\nL 2938 0 \r\nL 2938 2094 \r\nQ 2938 2591 2744 2837 \r\nQ 2550 3084 2163 3084 \r\nQ 1697 3084 1428 2787 \r\nQ 1159 2491 1159 1978 \r\nL 1159 0 \r\nL 581 0 \r\nL 581 4863 \r\nL 1159 4863 \r\nL 1159 2956 \r\nQ 1366 3272 1645 3428 \r\nQ 1925 3584 2291 3584 \r\nQ 2894 3584 3203 3211 \r\nQ 3513 2838 3513 2113 \r\nz\r\n\" id=\"DejaVuSans-68\" transform=\"scale(0.015625)\"/>\r\n      </defs>\r\n      <use xlink:href=\"#DejaVuSans-45\"/>\r\n      <use x=\"63.183594\" xlink:href=\"#DejaVuSans-70\"/>\r\n      <use x=\"126.660156\" xlink:href=\"#DejaVuSans-6f\"/>\r\n      <use x=\"187.841797\" xlink:href=\"#DejaVuSans-63\"/>\r\n      <use x=\"242.822266\" xlink:href=\"#DejaVuSans-68\"/>\r\n     </g>\r\n    </g>\r\n   </g>\r\n   <g id=\"matplotlib.axis_2\">\r\n    <g id=\"ytick_1\">\r\n     <g id=\"line2d_7\">\r\n      <defs>\r\n       <path d=\"M 0 0 \r\nL -3.5 0 \r\n\" id=\"m93198c62b1\" style=\"stroke:#000000;stroke-width:0.8;\"/>\r\n      </defs>\r\n      <g>\r\n       <use style=\"stroke:#000000;stroke-width:0.8;\" x=\"50.14375\" xlink:href=\"#m93198c62b1\" y=\"190.180848\"/>\r\n      </g>\r\n     </g>\r\n     <g id=\"text_8\">\r\n      <!-- 0.80 -->\r\n      <g transform=\"translate(20.878125 193.980067)scale(0.1 -0.1)\">\r\n       <defs>\r\n        <path d=\"M 684 794 \r\nL 1344 794 \r\nL 1344 0 \r\nL 684 0 \r\nL 684 794 \r\nz\r\n\" id=\"DejaVuSans-2e\" transform=\"scale(0.015625)\"/>\r\n       </defs>\r\n       <use xlink:href=\"#DejaVuSans-30\"/>\r\n       <use x=\"63.623047\" xlink:href=\"#DejaVuSans-2e\"/>\r\n       <use x=\"95.410156\" xlink:href=\"#DejaVuSans-38\"/>\r\n       <use x=\"159.033203\" xlink:href=\"#DejaVuSans-30\"/>\r\n      </g>\r\n     </g>\r\n    </g>\r\n    <g id=\"ytick_2\">\r\n     <g id=\"line2d_8\">\r\n      <g>\r\n       <use style=\"stroke:#000000;stroke-width:0.8;\" x=\"50.14375\" xlink:href=\"#m93198c62b1\" y=\"146.906545\"/>\r\n      </g>\r\n     </g>\r\n     <g id=\"text_9\">\r\n      <!-- 0.85 -->\r\n      <g transform=\"translate(20.878125 150.705764)scale(0.1 -0.1)\">\r\n       <defs>\r\n        <path d=\"M 691 4666 \r\nL 3169 4666 \r\nL 3169 4134 \r\nL 1269 4134 \r\nL 1269 2991 \r\nQ 1406 3038 1543 3061 \r\nQ 1681 3084 1819 3084 \r\nQ 2600 3084 3056 2656 \r\nQ 3513 2228 3513 1497 \r\nQ 3513 744 3044 326 \r\nQ 2575 -91 1722 -91 \r\nQ 1428 -91 1123 -41 \r\nQ 819 9 494 109 \r\nL 494 744 \r\nQ 775 591 1075 516 \r\nQ 1375 441 1709 441 \r\nQ 2250 441 2565 725 \r\nQ 2881 1009 2881 1497 \r\nQ 2881 1984 2565 2268 \r\nQ 2250 2553 1709 2553 \r\nQ 1456 2553 1204 2497 \r\nQ 953 2441 691 2322 \r\nL 691 4666 \r\nz\r\n\" id=\"DejaVuSans-35\" transform=\"scale(0.015625)\"/>\r\n       </defs>\r\n       <use xlink:href=\"#DejaVuSans-30\"/>\r\n       <use x=\"63.623047\" xlink:href=\"#DejaVuSans-2e\"/>\r\n       <use x=\"95.410156\" xlink:href=\"#DejaVuSans-38\"/>\r\n       <use x=\"159.033203\" xlink:href=\"#DejaVuSans-35\"/>\r\n      </g>\r\n     </g>\r\n    </g>\r\n    <g id=\"ytick_3\">\r\n     <g id=\"line2d_9\">\r\n      <g>\r\n       <use style=\"stroke:#000000;stroke-width:0.8;\" x=\"50.14375\" xlink:href=\"#m93198c62b1\" y=\"103.632242\"/>\r\n      </g>\r\n     </g>\r\n     <g id=\"text_10\">\r\n      <!-- 0.90 -->\r\n      <g transform=\"translate(20.878125 107.431461)scale(0.1 -0.1)\">\r\n       <defs>\r\n        <path d=\"M 703 97 \r\nL 703 672 \r\nQ 941 559 1184 500 \r\nQ 1428 441 1663 441 \r\nQ 2288 441 2617 861 \r\nQ 2947 1281 2994 2138 \r\nQ 2813 1869 2534 1725 \r\nQ 2256 1581 1919 1581 \r\nQ 1219 1581 811 2004 \r\nQ 403 2428 403 3163 \r\nQ 403 3881 828 4315 \r\nQ 1253 4750 1959 4750 \r\nQ 2769 4750 3195 4129 \r\nQ 3622 3509 3622 2328 \r\nQ 3622 1225 3098 567 \r\nQ 2575 -91 1691 -91 \r\nQ 1453 -91 1209 -44 \r\nQ 966 3 703 97 \r\nz\r\nM 1959 2075 \r\nQ 2384 2075 2632 2365 \r\nQ 2881 2656 2881 3163 \r\nQ 2881 3666 2632 3958 \r\nQ 2384 4250 1959 4250 \r\nQ 1534 4250 1286 3958 \r\nQ 1038 3666 1038 3163 \r\nQ 1038 2656 1286 2365 \r\nQ 1534 2075 1959 2075 \r\nz\r\n\" id=\"DejaVuSans-39\" transform=\"scale(0.015625)\"/>\r\n       </defs>\r\n       <use xlink:href=\"#DejaVuSans-30\"/>\r\n       <use x=\"63.623047\" xlink:href=\"#DejaVuSans-2e\"/>\r\n       <use x=\"95.410156\" xlink:href=\"#DejaVuSans-39\"/>\r\n       <use x=\"159.033203\" xlink:href=\"#DejaVuSans-30\"/>\r\n      </g>\r\n     </g>\r\n    </g>\r\n    <g id=\"ytick_4\">\r\n     <g id=\"line2d_10\">\r\n      <g>\r\n       <use style=\"stroke:#000000;stroke-width:0.8;\" x=\"50.14375\" xlink:href=\"#m93198c62b1\" y=\"60.357939\"/>\r\n      </g>\r\n     </g>\r\n     <g id=\"text_11\">\r\n      <!-- 0.95 -->\r\n      <g transform=\"translate(20.878125 64.157158)scale(0.1 -0.1)\">\r\n       <use xlink:href=\"#DejaVuSans-30\"/>\r\n       <use x=\"63.623047\" xlink:href=\"#DejaVuSans-2e\"/>\r\n       <use x=\"95.410156\" xlink:href=\"#DejaVuSans-39\"/>\r\n       <use x=\"159.033203\" xlink:href=\"#DejaVuSans-35\"/>\r\n      </g>\r\n     </g>\r\n    </g>\r\n    <g id=\"ytick_5\">\r\n     <g id=\"line2d_11\">\r\n      <g>\r\n       <use style=\"stroke:#000000;stroke-width:0.8;\" x=\"50.14375\" xlink:href=\"#m93198c62b1\" y=\"17.083636\"/>\r\n      </g>\r\n     </g>\r\n     <g id=\"text_12\">\r\n      <!-- 1.00 -->\r\n      <g transform=\"translate(20.878125 20.882855)scale(0.1 -0.1)\">\r\n       <use xlink:href=\"#DejaVuSans-31\"/>\r\n       <use x=\"63.623047\" xlink:href=\"#DejaVuSans-2e\"/>\r\n       <use x=\"95.410156\" xlink:href=\"#DejaVuSans-30\"/>\r\n       <use x=\"159.033203\" xlink:href=\"#DejaVuSans-30\"/>\r\n      </g>\r\n     </g>\r\n    </g>\r\n    <g id=\"text_13\">\r\n     <!-- Accuracy -->\r\n     <g transform=\"translate(14.798438 138.748125)rotate(-90)scale(0.1 -0.1)\">\r\n      <defs>\r\n       <path d=\"M 2188 4044 \r\nL 1331 1722 \r\nL 3047 1722 \r\nL 2188 4044 \r\nz\r\nM 1831 4666 \r\nL 2547 4666 \r\nL 4325 0 \r\nL 3669 0 \r\nL 3244 1197 \r\nL 1141 1197 \r\nL 716 0 \r\nL 50 0 \r\nL 1831 4666 \r\nz\r\n\" id=\"DejaVuSans-41\" transform=\"scale(0.015625)\"/>\r\n       <path d=\"M 544 1381 \r\nL 544 3500 \r\nL 1119 3500 \r\nL 1119 1403 \r\nQ 1119 906 1312 657 \r\nQ 1506 409 1894 409 \r\nQ 2359 409 2629 706 \r\nQ 2900 1003 2900 1516 \r\nL 2900 3500 \r\nL 3475 3500 \r\nL 3475 0 \r\nL 2900 0 \r\nL 2900 538 \r\nQ 2691 219 2414 64 \r\nQ 2138 -91 1772 -91 \r\nQ 1169 -91 856 284 \r\nQ 544 659 544 1381 \r\nz\r\nM 1991 3584 \r\nL 1991 3584 \r\nz\r\n\" id=\"DejaVuSans-75\" transform=\"scale(0.015625)\"/>\r\n       <path d=\"M 2631 2963 \r\nQ 2534 3019 2420 3045 \r\nQ 2306 3072 2169 3072 \r\nQ 1681 3072 1420 2755 \r\nQ 1159 2438 1159 1844 \r\nL 1159 0 \r\nL 581 0 \r\nL 581 3500 \r\nL 1159 3500 \r\nL 1159 2956 \r\nQ 1341 3275 1631 3429 \r\nQ 1922 3584 2338 3584 \r\nQ 2397 3584 2469 3576 \r\nQ 2541 3569 2628 3553 \r\nL 2631 2963 \r\nz\r\n\" id=\"DejaVuSans-72\" transform=\"scale(0.015625)\"/>\r\n       <path d=\"M 2194 1759 \r\nQ 1497 1759 1228 1600 \r\nQ 959 1441 959 1056 \r\nQ 959 750 1161 570 \r\nQ 1363 391 1709 391 \r\nQ 2188 391 2477 730 \r\nQ 2766 1069 2766 1631 \r\nL 2766 1759 \r\nL 2194 1759 \r\nz\r\nM 3341 1997 \r\nL 3341 0 \r\nL 2766 0 \r\nL 2766 531 \r\nQ 2569 213 2275 61 \r\nQ 1981 -91 1556 -91 \r\nQ 1019 -91 701 211 \r\nQ 384 513 384 1019 \r\nQ 384 1609 779 1909 \r\nQ 1175 2209 1959 2209 \r\nL 2766 2209 \r\nL 2766 2266 \r\nQ 2766 2663 2505 2880 \r\nQ 2244 3097 1772 3097 \r\nQ 1472 3097 1187 3025 \r\nQ 903 2953 641 2809 \r\nL 641 3341 \r\nQ 956 3463 1253 3523 \r\nQ 1550 3584 1831 3584 \r\nQ 2591 3584 2966 3190 \r\nQ 3341 2797 3341 1997 \r\nz\r\n\" id=\"DejaVuSans-61\" transform=\"scale(0.015625)\"/>\r\n       <path d=\"M 2059 -325 \r\nQ 1816 -950 1584 -1140 \r\nQ 1353 -1331 966 -1331 \r\nL 506 -1331 \r\nL 506 -850 \r\nL 844 -850 \r\nQ 1081 -850 1212 -737 \r\nQ 1344 -625 1503 -206 \r\nL 1606 56 \r\nL 191 3500 \r\nL 800 3500 \r\nL 1894 763 \r\nL 2988 3500 \r\nL 3597 3500 \r\nL 2059 -325 \r\nz\r\n\" id=\"DejaVuSans-79\" transform=\"scale(0.015625)\"/>\r\n      </defs>\r\n      <use xlink:href=\"#DejaVuSans-41\"/>\r\n      <use x=\"66.658203\" xlink:href=\"#DejaVuSans-63\"/>\r\n      <use x=\"121.638672\" xlink:href=\"#DejaVuSans-63\"/>\r\n      <use x=\"176.619141\" xlink:href=\"#DejaVuSans-75\"/>\r\n      <use x=\"239.998047\" xlink:href=\"#DejaVuSans-72\"/>\r\n      <use x=\"281.111328\" xlink:href=\"#DejaVuSans-61\"/>\r\n      <use x=\"342.390625\" xlink:href=\"#DejaVuSans-63\"/>\r\n      <use x=\"397.371094\" xlink:href=\"#DejaVuSans-79\"/>\r\n     </g>\r\n    </g>\r\n   </g>\r\n   <g id=\"line2d_12\">\r\n    <path clip-path=\"url(#pb271b3712e)\" d=\"M 65.361932 214.756364 \r\nL 68.436312 126.605033 \r\nL 71.510692 99.224671 \r\nL 74.585072 75.18338 \r\nL 77.659452 67.837444 \r\nL 80.733833 68.505238 \r\nL 83.808213 49.138656 \r\nL 86.882593 42.460566 \r\nL 89.956973 36.450217 \r\nL 93.031353 31.775508 \r\nL 96.105733 37.118011 \r\nL 99.180114 28.436488 \r\nL 102.254494 31.107714 \r\nL 105.328874 23.761778 \r\nL 108.403254 25.765211 \r\nL 111.477634 24.429572 \r\nL 114.552014 27.100849 \r\nL 117.626395 27.768643 \r\nL 120.700775 23.761778 \r\nL 123.775155 23.093933 \r\nL 126.849535 18.419275 \r\nL 129.923915 25.097417 \r\nL 132.998295 23.761778 \r\nL 136.072676 21.758346 \r\nL 139.147056 19.087069 \r\nL 142.221436 21.090501 \r\nL 145.295816 19.754914 \r\nL 148.370196 23.093933 \r\nL 151.444576 20.422707 \r\nL 154.518957 20.422707 \r\nL 157.593337 19.754914 \r\nL 160.667717 21.758346 \r\nL 163.742097 18.419275 \r\nL 166.816477 19.754914 \r\nL 169.890857 19.087069 \r\nL 172.965238 21.090501 \r\nL 176.039618 20.422707 \r\nL 179.113998 19.087069 \r\nL 182.188378 19.087069 \r\nL 185.262758 21.090501 \r\nL 188.337138 19.754914 \r\nL 191.411519 17.083636 \r\nL 194.485899 17.75143 \r\nL 197.560279 17.083636 \r\nL 200.634659 19.087069 \r\nL 203.709039 19.087069 \r\nL 206.783419 17.083636 \r\nL 209.8578 19.087069 \r\nL 212.93218 18.419275 \r\nL 216.00656 17.083636 \r\nL 219.08094 17.083636 \r\nL 222.15532 17.083636 \r\nL 225.2297 17.75143 \r\nL 228.304081 19.087069 \r\nL 231.378461 17.083636 \r\nL 234.452841 17.083636 \r\nL 237.527221 19.754914 \r\nL 240.601601 17.083636 \r\nL 243.675981 19.087069 \r\nL 246.750362 17.75143 \r\nL 249.824742 17.083636 \r\nL 252.899122 19.754914 \r\nL 255.973502 17.75143 \r\nL 259.047882 17.083636 \r\nL 262.122262 17.083636 \r\nL 265.196643 17.083636 \r\nL 268.271023 17.083636 \r\nL 271.345403 17.75143 \r\nL 274.419783 17.083636 \r\nL 277.494163 17.083636 \r\nL 280.568543 17.083636 \r\nL 283.642924 17.75143 \r\nL 286.717304 18.419275 \r\nL 289.791684 17.083636 \r\nL 292.866064 17.75143 \r\nL 295.940444 17.083636 \r\nL 299.014824 17.083636 \r\nL 302.089205 17.083636 \r\nL 305.163585 17.75143 \r\nL 308.237965 18.419275 \r\nL 311.312345 17.083636 \r\nL 314.386725 17.083636 \r\nL 317.461105 17.083636 \r\nL 320.535486 17.083636 \r\nL 323.609866 17.083636 \r\nL 326.684246 17.083636 \r\nL 329.758626 17.083636 \r\nL 332.833006 17.75143 \r\nL 335.907386 17.083636 \r\nL 338.981767 17.083636 \r\nL 342.056147 17.75143 \r\nL 345.130527 17.75143 \r\nL 348.204907 17.083636 \r\nL 351.279287 17.083636 \r\nL 354.353667 17.083636 \r\nL 357.428048 17.083636 \r\nL 360.502428 17.75143 \r\nL 363.576808 17.083636 \r\nL 366.651188 17.083636 \r\nL 369.725568 17.083636 \r\n\" style=\"fill:none;stroke:#1f77b4;stroke-linecap:square;stroke-width:1.5;\"/>\r\n   </g>\r\n   <g id=\"line2d_13\">\r\n    <path clip-path=\"url(#pb271b3712e)\" d=\"M 65.361932 137.290039 \r\nL 68.436312 131.279691 \r\nL 71.510692 59.15587 \r\nL 74.585072 47.135224 \r\nL 77.659452 119.259097 \r\nL 80.733833 35.114579 \r\nL 83.808213 29.104282 \r\nL 86.882593 35.114579 \r\nL 89.956973 23.093933 \r\nL 93.031353 41.124927 \r\nL 96.105733 29.104282 \r\nL 99.180114 17.083636 \r\nL 102.254494 29.104282 \r\nL 105.328874 17.083636 \r\nL 108.403254 29.104282 \r\nL 111.477634 35.114579 \r\nL 114.552014 35.114579 \r\nL 117.626395 23.093933 \r\nL 120.700775 23.093933 \r\nL 123.775155 17.083636 \r\nL 126.849535 23.093933 \r\nL 129.923915 17.083636 \r\nL 132.998295 29.104282 \r\nL 136.072676 23.093933 \r\nL 139.147056 29.104282 \r\nL 142.221436 29.104282 \r\nL 145.295816 29.104282 \r\nL 148.370196 17.083636 \r\nL 151.444576 29.104282 \r\nL 154.518957 17.083636 \r\nL 157.593337 17.083636 \r\nL 160.667717 17.083636 \r\nL 163.742097 17.083636 \r\nL 166.816477 29.104282 \r\nL 169.890857 29.104282 \r\nL 172.965238 17.083636 \r\nL 176.039618 17.083636 \r\nL 179.113998 17.083636 \r\nL 182.188378 17.083636 \r\nL 185.262758 29.104282 \r\nL 188.337138 23.093933 \r\nL 191.411519 17.083636 \r\nL 194.485899 17.083636 \r\nL 197.560279 29.104282 \r\nL 200.634659 17.083636 \r\nL 203.709039 17.083636 \r\nL 206.783419 17.083636 \r\nL 209.8578 23.093933 \r\nL 212.93218 17.083636 \r\nL 216.00656 17.083636 \r\nL 219.08094 17.083636 \r\nL 222.15532 17.083636 \r\nL 225.2297 17.083636 \r\nL 228.304081 17.083636 \r\nL 231.378461 17.083636 \r\nL 234.452841 17.083636 \r\nL 237.527221 17.083636 \r\nL 240.601601 23.093933 \r\nL 243.675981 23.093933 \r\nL 246.750362 17.083636 \r\nL 249.824742 17.083636 \r\nL 252.899122 17.083636 \r\nL 255.973502 17.083636 \r\nL 259.047882 17.083636 \r\nL 262.122262 17.083636 \r\nL 265.196643 17.083636 \r\nL 268.271023 17.083636 \r\nL 271.345403 17.083636 \r\nL 274.419783 17.083636 \r\nL 277.494163 17.083636 \r\nL 280.568543 17.083636 \r\nL 283.642924 17.083636 \r\nL 286.717304 17.083636 \r\nL 289.791684 17.083636 \r\nL 292.866064 17.083636 \r\nL 295.940444 17.083636 \r\nL 299.014824 17.083636 \r\nL 302.089205 17.083636 \r\nL 305.163585 29.104282 \r\nL 308.237965 17.083636 \r\nL 311.312345 17.083636 \r\nL 314.386725 17.083636 \r\nL 317.461105 17.083636 \r\nL 320.535486 17.083636 \r\nL 323.609866 17.083636 \r\nL 326.684246 17.083636 \r\nL 329.758626 17.083636 \r\nL 332.833006 17.083636 \r\nL 335.907386 23.093933 \r\nL 338.981767 17.083636 \r\nL 342.056147 17.083636 \r\nL 345.130527 17.083636 \r\nL 348.204907 17.083636 \r\nL 351.279287 17.083636 \r\nL 354.353667 17.083636 \r\nL 357.428048 17.083636 \r\nL 360.502428 29.104282 \r\nL 363.576808 17.083636 \r\nL 366.651188 17.083636 \r\nL 369.725568 17.083636 \r\n\" style=\"fill:none;stroke:#ff7f0e;stroke-linecap:square;stroke-width:1.5;\"/>\r\n   </g>\r\n   <g id=\"patch_3\">\r\n    <path d=\"M 50.14375 224.64 \r\nL 50.14375 7.2 \r\n\" style=\"fill:none;stroke:#000000;stroke-linecap:square;stroke-linejoin:miter;stroke-width:0.8;\"/>\r\n   </g>\r\n   <g id=\"patch_4\">\r\n    <path d=\"M 384.94375 224.64 \r\nL 384.94375 7.2 \r\n\" style=\"fill:none;stroke:#000000;stroke-linecap:square;stroke-linejoin:miter;stroke-width:0.8;\"/>\r\n   </g>\r\n   <g id=\"patch_5\">\r\n    <path d=\"M 50.14375 224.64 \r\nL 384.94375 224.64 \r\n\" style=\"fill:none;stroke:#000000;stroke-linecap:square;stroke-linejoin:miter;stroke-width:0.8;\"/>\r\n   </g>\r\n   <g id=\"patch_6\">\r\n    <path d=\"M 50.14375 7.2 \r\nL 384.94375 7.2 \r\n\" style=\"fill:none;stroke:#000000;stroke-linecap:square;stroke-linejoin:miter;stroke-width:0.8;\"/>\r\n   </g>\r\n   <g id=\"legend_1\">\r\n    <g id=\"patch_7\">\r\n     <path d=\"M 281 219.64 \r\nL 377.94375 219.64 \r\nQ 379.94375 219.64 379.94375 217.64 \r\nL 379.94375 189.005625 \r\nQ 379.94375 187.005625 377.94375 187.005625 \r\nL 281 187.005625 \r\nQ 279 187.005625 279 189.005625 \r\nL 279 217.64 \r\nQ 279 219.64 281 219.64 \r\nz\r\n\" style=\"fill:#ffffff;opacity:0.8;stroke:#cccccc;stroke-linejoin:miter;\"/>\r\n    </g>\r\n    <g id=\"line2d_14\">\r\n     <path d=\"M 283 195.104062 \r\nL 303 195.104062 \r\n\" style=\"fill:none;stroke:#1f77b4;stroke-linecap:square;stroke-width:1.5;\"/>\r\n    </g>\r\n    <g id=\"line2d_15\"/>\r\n    <g id=\"text_14\">\r\n     <!-- accuracy -->\r\n     <g transform=\"translate(311 198.604062)scale(0.1 -0.1)\">\r\n      <use xlink:href=\"#DejaVuSans-61\"/>\r\n      <use x=\"61.279297\" xlink:href=\"#DejaVuSans-63\"/>\r\n      <use x=\"116.259766\" xlink:href=\"#DejaVuSans-63\"/>\r\n      <use x=\"171.240234\" xlink:href=\"#DejaVuSans-75\"/>\r\n      <use x=\"234.619141\" xlink:href=\"#DejaVuSans-72\"/>\r\n      <use x=\"275.732422\" xlink:href=\"#DejaVuSans-61\"/>\r\n      <use x=\"337.011719\" xlink:href=\"#DejaVuSans-63\"/>\r\n      <use x=\"391.992188\" xlink:href=\"#DejaVuSans-79\"/>\r\n     </g>\r\n    </g>\r\n    <g id=\"line2d_16\">\r\n     <path d=\"M 283 209.782187 \r\nL 303 209.782187 \r\n\" style=\"fill:none;stroke:#ff7f0e;stroke-linecap:square;stroke-width:1.5;\"/>\r\n    </g>\r\n    <g id=\"line2d_17\"/>\r\n    <g id=\"text_15\">\r\n     <!-- val_accuracy -->\r\n     <g transform=\"translate(311 213.282187)scale(0.1 -0.1)\">\r\n      <defs>\r\n       <path d=\"M 191 3500 \r\nL 800 3500 \r\nL 1894 563 \r\nL 2988 3500 \r\nL 3597 3500 \r\nL 2284 0 \r\nL 1503 0 \r\nL 191 3500 \r\nz\r\n\" id=\"DejaVuSans-76\" transform=\"scale(0.015625)\"/>\r\n       <path d=\"M 603 4863 \r\nL 1178 4863 \r\nL 1178 0 \r\nL 603 0 \r\nL 603 4863 \r\nz\r\n\" id=\"DejaVuSans-6c\" transform=\"scale(0.015625)\"/>\r\n       <path d=\"M 3263 -1063 \r\nL 3263 -1509 \r\nL -63 -1509 \r\nL -63 -1063 \r\nL 3263 -1063 \r\nz\r\n\" id=\"DejaVuSans-5f\" transform=\"scale(0.015625)\"/>\r\n      </defs>\r\n      <use xlink:href=\"#DejaVuSans-76\"/>\r\n      <use x=\"59.179688\" xlink:href=\"#DejaVuSans-61\"/>\r\n      <use x=\"120.458984\" xlink:href=\"#DejaVuSans-6c\"/>\r\n      <use x=\"148.242188\" xlink:href=\"#DejaVuSans-5f\"/>\r\n      <use x=\"198.242188\" xlink:href=\"#DejaVuSans-61\"/>\r\n      <use x=\"259.521484\" xlink:href=\"#DejaVuSans-63\"/>\r\n      <use x=\"314.501953\" xlink:href=\"#DejaVuSans-63\"/>\r\n      <use x=\"369.482422\" xlink:href=\"#DejaVuSans-75\"/>\r\n      <use x=\"432.861328\" xlink:href=\"#DejaVuSans-72\"/>\r\n      <use x=\"473.974609\" xlink:href=\"#DejaVuSans-61\"/>\r\n      <use x=\"535.253906\" xlink:href=\"#DejaVuSans-63\"/>\r\n      <use x=\"590.234375\" xlink:href=\"#DejaVuSans-79\"/>\r\n     </g>\r\n    </g>\r\n   </g>\r\n  </g>\r\n </g>\r\n <defs>\r\n  <clipPath id=\"pb271b3712e\">\r\n   <rect height=\"217.44\" width=\"334.8\" x=\"50.14375\" y=\"7.2\"/>\r\n  </clipPath>\r\n </defs>\r\n</svg>\r\n",
      "image/png": "[encoded data removed]"
     },
     "metadata": {
      "needs_background": "light"
     }
    },
    {
     "output_type": "stream",
     "name": "stdout",
     "text": [
      "5/5 [==============================] - 0s 3ms/step - loss: 0.0033 - accuracy: 1.0000\n"
     ]
    },
    {
     "output_type": "execute_result",
     "data": {
      "text/plain": [
       "[0.003256554249674082, 1.0]"
      ]
     },
     "metadata": {},
     "execution_count": 32
    },
    {
     "output_type": "display_data",
     "data": {
      "text/plain": "<Figure size 432x288 with 1 Axes>",
      "image/svg+xml": "<?xml version=\"1.0\" encoding=\"utf-8\" standalone=\"no\"?>\r\n<!DOCTYPE svg PUBLIC \"-//W3C//DTD SVG 1.1//EN\"\r\n  \"http://www.w3.org/Graphics/SVG/1.1/DTD/svg11.dtd\">\r\n<svg height=\"262.19625pt\" version=\"1.1\" viewBox=\"0 0 385.78125 262.19625\" width=\"385.78125pt\" xmlns=\"http://www.w3.org/2000/svg\" xmlns:xlink=\"http://www.w3.org/1999/xlink\">\r\n <metadata>\r\n  <rdf:RDF xmlns:cc=\"http://creativecommons.org/ns#\" xmlns:dc=\"http://purl.org/dc/elements/1.1/\" xmlns:rdf=\"http://www.w3.org/1999/02/22-rdf-syntax-ns#\">\r\n   <cc:Work>\r\n    <dc:type rdf:resource=\"http://purl.org/dc/dcmitype/StillImage\"/>\r\n    <dc:date>2021-07-11T19:43:41.857943</dc:date>\r\n    <dc:format>image/svg+xml</dc:format>\r\n    <dc:creator>\r\n     <cc:Agent>\r\n      <dc:title>Matplotlib v3.4.2, https://matplotlib.org/</dc:title>\r\n     </cc:Agent>\r\n    </dc:creator>\r\n   </cc:Work>\r\n  </rdf:RDF>\r\n </metadata>\r\n <defs>\r\n  <style type=\"text/css\">*{stroke-linecap:butt;stroke-linejoin:round;}</style>\r\n </defs>\r\n <g id=\"figure_1\">\r\n  <g id=\"patch_1\">\r\n   <path d=\"M 0 262.19625 \r\nL 385.78125 262.19625 \r\nL 385.78125 0 \r\nL 0 0 \r\nz\r\n\" style=\"fill:none;\"/>\r\n  </g>\r\n  <g id=\"axes_1\">\r\n   <g id=\"patch_2\">\r\n    <path d=\"M 43.78125 224.64 \r\nL 378.58125 224.64 \r\nL 378.58125 7.2 \r\nL 43.78125 7.2 \r\nz\r\n\" style=\"fill:#ffffff;\"/>\r\n   </g>\r\n   <g id=\"matplotlib.axis_1\">\r\n    <g id=\"xtick_1\">\r\n     <g id=\"line2d_1\">\r\n      <defs>\r\n       <path d=\"M 0 0 \r\nL 0 3.5 \r\n\" id=\"md5cdd5be3f\" style=\"stroke:#000000;stroke-width:0.8;\"/>\r\n      </defs>\r\n      <g>\r\n       <use style=\"stroke:#000000;stroke-width:0.8;\" x=\"58.999432\" xlink:href=\"#md5cdd5be3f\" y=\"224.64\"/>\r\n      </g>\r\n     </g>\r\n     <g id=\"text_1\">\r\n      <!-- 0 -->\r\n      <g transform=\"translate(55.818182 239.238437)scale(0.1 -0.1)\">\r\n       <defs>\r\n        <path d=\"M 2034 4250 \r\nQ 1547 4250 1301 3770 \r\nQ 1056 3291 1056 2328 \r\nQ 1056 1369 1301 889 \r\nQ 1547 409 2034 409 \r\nQ 2525 409 2770 889 \r\nQ 3016 1369 3016 2328 \r\nQ 3016 3291 2770 3770 \r\nQ 2525 4250 2034 4250 \r\nz\r\nM 2034 4750 \r\nQ 2819 4750 3233 4129 \r\nQ 3647 3509 3647 2328 \r\nQ 3647 1150 3233 529 \r\nQ 2819 -91 2034 -91 \r\nQ 1250 -91 836 529 \r\nQ 422 1150 422 2328 \r\nQ 422 3509 836 4129 \r\nQ 1250 4750 2034 4750 \r\nz\r\n\" id=\"DejaVuSans-30\" transform=\"scale(0.015625)\"/>\r\n       </defs>\r\n       <use xlink:href=\"#DejaVuSans-30\"/>\r\n      </g>\r\n     </g>\r\n    </g>\r\n    <g id=\"xtick_2\">\r\n     <g id=\"line2d_2\">\r\n      <g>\r\n       <use style=\"stroke:#000000;stroke-width:0.8;\" x=\"120.487035\" xlink:href=\"#md5cdd5be3f\" y=\"224.64\"/>\r\n      </g>\r\n     </g>\r\n     <g id=\"text_2\">\r\n      <!-- 20 -->\r\n      <g transform=\"translate(114.124535 239.238437)scale(0.1 -0.1)\">\r\n       <defs>\r\n        <path d=\"M 1228 531 \r\nL 3431 531 \r\nL 3431 0 \r\nL 469 0 \r\nL 469 531 \r\nQ 828 903 1448 1529 \r\nQ 2069 2156 2228 2338 \r\nQ 2531 2678 2651 2914 \r\nQ 2772 3150 2772 3378 \r\nQ 2772 3750 2511 3984 \r\nQ 2250 4219 1831 4219 \r\nQ 1534 4219 1204 4116 \r\nQ 875 4013 500 3803 \r\nL 500 4441 \r\nQ 881 4594 1212 4672 \r\nQ 1544 4750 1819 4750 \r\nQ 2544 4750 2975 4387 \r\nQ 3406 4025 3406 3419 \r\nQ 3406 3131 3298 2873 \r\nQ 3191 2616 2906 2266 \r\nQ 2828 2175 2409 1742 \r\nQ 1991 1309 1228 531 \r\nz\r\n\" id=\"DejaVuSans-32\" transform=\"scale(0.015625)\"/>\r\n       </defs>\r\n       <use xlink:href=\"#DejaVuSans-32\"/>\r\n       <use x=\"63.623047\" xlink:href=\"#DejaVuSans-30\"/>\r\n      </g>\r\n     </g>\r\n    </g>\r\n    <g id=\"xtick_3\">\r\n     <g id=\"line2d_3\">\r\n      <g>\r\n       <use style=\"stroke:#000000;stroke-width:0.8;\" x=\"181.974638\" xlink:href=\"#md5cdd5be3f\" y=\"224.64\"/>\r\n      </g>\r\n     </g>\r\n     <g id=\"text_3\">\r\n      <!-- 40 -->\r\n      <g transform=\"translate(175.612138 239.238437)scale(0.1 -0.1)\">\r\n       <defs>\r\n        <path d=\"M 2419 4116 \r\nL 825 1625 \r\nL 2419 1625 \r\nL 2419 4116 \r\nz\r\nM 2253 4666 \r\nL 3047 4666 \r\nL 3047 1625 \r\nL 3713 1625 \r\nL 3713 1100 \r\nL 3047 1100 \r\nL 3047 0 \r\nL 2419 0 \r\nL 2419 1100 \r\nL 313 1100 \r\nL 313 1709 \r\nL 2253 4666 \r\nz\r\n\" id=\"DejaVuSans-34\" transform=\"scale(0.015625)\"/>\r\n       </defs>\r\n       <use xlink:href=\"#DejaVuSans-34\"/>\r\n       <use x=\"63.623047\" xlink:href=\"#DejaVuSans-30\"/>\r\n      </g>\r\n     </g>\r\n    </g>\r\n    <g id=\"xtick_4\">\r\n     <g id=\"line2d_4\">\r\n      <g>\r\n       <use style=\"stroke:#000000;stroke-width:0.8;\" x=\"243.462242\" xlink:href=\"#md5cdd5be3f\" y=\"224.64\"/>\r\n      </g>\r\n     </g>\r\n     <g id=\"text_4\">\r\n      <!-- 60 -->\r\n      <g transform=\"translate(237.099742 239.238437)scale(0.1 -0.1)\">\r\n       <defs>\r\n        <path d=\"M 2113 2584 \r\nQ 1688 2584 1439 2293 \r\nQ 1191 2003 1191 1497 \r\nQ 1191 994 1439 701 \r\nQ 1688 409 2113 409 \r\nQ 2538 409 2786 701 \r\nQ 3034 994 3034 1497 \r\nQ 3034 2003 2786 2293 \r\nQ 2538 2584 2113 2584 \r\nz\r\nM 3366 4563 \r\nL 3366 3988 \r\nQ 3128 4100 2886 4159 \r\nQ 2644 4219 2406 4219 \r\nQ 1781 4219 1451 3797 \r\nQ 1122 3375 1075 2522 \r\nQ 1259 2794 1537 2939 \r\nQ 1816 3084 2150 3084 \r\nQ 2853 3084 3261 2657 \r\nQ 3669 2231 3669 1497 \r\nQ 3669 778 3244 343 \r\nQ 2819 -91 2113 -91 \r\nQ 1303 -91 875 529 \r\nQ 447 1150 447 2328 \r\nQ 447 3434 972 4092 \r\nQ 1497 4750 2381 4750 \r\nQ 2619 4750 2861 4703 \r\nQ 3103 4656 3366 4563 \r\nz\r\n\" id=\"DejaVuSans-36\" transform=\"scale(0.015625)\"/>\r\n       </defs>\r\n       <use xlink:href=\"#DejaVuSans-36\"/>\r\n       <use x=\"63.623047\" xlink:href=\"#DejaVuSans-30\"/>\r\n      </g>\r\n     </g>\r\n    </g>\r\n    <g id=\"xtick_5\">\r\n     <g id=\"line2d_5\">\r\n      <g>\r\n       <use style=\"stroke:#000000;stroke-width:0.8;\" x=\"304.949845\" xlink:href=\"#md5cdd5be3f\" y=\"224.64\"/>\r\n      </g>\r\n     </g>\r\n     <g id=\"text_5\">\r\n      <!-- 80 -->\r\n      <g transform=\"translate(298.587345 239.238437)scale(0.1 -0.1)\">\r\n       <defs>\r\n        <path d=\"M 2034 2216 \r\nQ 1584 2216 1326 1975 \r\nQ 1069 1734 1069 1313 \r\nQ 1069 891 1326 650 \r\nQ 1584 409 2034 409 \r\nQ 2484 409 2743 651 \r\nQ 3003 894 3003 1313 \r\nQ 3003 1734 2745 1975 \r\nQ 2488 2216 2034 2216 \r\nz\r\nM 1403 2484 \r\nQ 997 2584 770 2862 \r\nQ 544 3141 544 3541 \r\nQ 544 4100 942 4425 \r\nQ 1341 4750 2034 4750 \r\nQ 2731 4750 3128 4425 \r\nQ 3525 4100 3525 3541 \r\nQ 3525 3141 3298 2862 \r\nQ 3072 2584 2669 2484 \r\nQ 3125 2378 3379 2068 \r\nQ 3634 1759 3634 1313 \r\nQ 3634 634 3220 271 \r\nQ 2806 -91 2034 -91 \r\nQ 1263 -91 848 271 \r\nQ 434 634 434 1313 \r\nQ 434 1759 690 2068 \r\nQ 947 2378 1403 2484 \r\nz\r\nM 1172 3481 \r\nQ 1172 3119 1398 2916 \r\nQ 1625 2713 2034 2713 \r\nQ 2441 2713 2670 2916 \r\nQ 2900 3119 2900 3481 \r\nQ 2900 3844 2670 4047 \r\nQ 2441 4250 2034 4250 \r\nQ 1625 4250 1398 4047 \r\nQ 1172 3844 1172 3481 \r\nz\r\n\" id=\"DejaVuSans-38\" transform=\"scale(0.015625)\"/>\r\n       </defs>\r\n       <use xlink:href=\"#DejaVuSans-38\"/>\r\n       <use x=\"63.623047\" xlink:href=\"#DejaVuSans-30\"/>\r\n      </g>\r\n     </g>\r\n    </g>\r\n    <g id=\"xtick_6\">\r\n     <g id=\"line2d_6\">\r\n      <g>\r\n       <use style=\"stroke:#000000;stroke-width:0.8;\" x=\"366.437448\" xlink:href=\"#md5cdd5be3f\" y=\"224.64\"/>\r\n      </g>\r\n     </g>\r\n     <g id=\"text_6\">\r\n      <!-- 100 -->\r\n      <g transform=\"translate(356.893698 239.238437)scale(0.1 -0.1)\">\r\n       <defs>\r\n        <path d=\"M 794 531 \r\nL 1825 531 \r\nL 1825 4091 \r\nL 703 3866 \r\nL 703 4441 \r\nL 1819 4666 \r\nL 2450 4666 \r\nL 2450 531 \r\nL 3481 531 \r\nL 3481 0 \r\nL 794 0 \r\nL 794 531 \r\nz\r\n\" id=\"DejaVuSans-31\" transform=\"scale(0.015625)\"/>\r\n       </defs>\r\n       <use xlink:href=\"#DejaVuSans-31\"/>\r\n       <use x=\"63.623047\" xlink:href=\"#DejaVuSans-30\"/>\r\n       <use x=\"127.246094\" xlink:href=\"#DejaVuSans-30\"/>\r\n      </g>\r\n     </g>\r\n    </g>\r\n    <g id=\"text_7\">\r\n     <!-- Epoch -->\r\n     <g transform=\"translate(195.870313 252.916562)scale(0.1 -0.1)\">\r\n      <defs>\r\n       <path d=\"M 628 4666 \r\nL 3578 4666 \r\nL 3578 4134 \r\nL 1259 4134 \r\nL 1259 2753 \r\nL 3481 2753 \r\nL 3481 2222 \r\nL 1259 2222 \r\nL 1259 531 \r\nL 3634 531 \r\nL 3634 0 \r\nL 628 0 \r\nL 628 4666 \r\nz\r\n\" id=\"DejaVuSans-45\" transform=\"scale(0.015625)\"/>\r\n       <path d=\"M 1159 525 \r\nL 1159 -1331 \r\nL 581 -1331 \r\nL 581 3500 \r\nL 1159 3500 \r\nL 1159 2969 \r\nQ 1341 3281 1617 3432 \r\nQ 1894 3584 2278 3584 \r\nQ 2916 3584 3314 3078 \r\nQ 3713 2572 3713 1747 \r\nQ 3713 922 3314 415 \r\nQ 2916 -91 2278 -91 \r\nQ 1894 -91 1617 61 \r\nQ 1341 213 1159 525 \r\nz\r\nM 3116 1747 \r\nQ 3116 2381 2855 2742 \r\nQ 2594 3103 2138 3103 \r\nQ 1681 3103 1420 2742 \r\nQ 1159 2381 1159 1747 \r\nQ 1159 1113 1420 752 \r\nQ 1681 391 2138 391 \r\nQ 2594 391 2855 752 \r\nQ 3116 1113 3116 1747 \r\nz\r\n\" id=\"DejaVuSans-70\" transform=\"scale(0.015625)\"/>\r\n       <path d=\"M 1959 3097 \r\nQ 1497 3097 1228 2736 \r\nQ 959 2375 959 1747 \r\nQ 959 1119 1226 758 \r\nQ 1494 397 1959 397 \r\nQ 2419 397 2687 759 \r\nQ 2956 1122 2956 1747 \r\nQ 2956 2369 2687 2733 \r\nQ 2419 3097 1959 3097 \r\nz\r\nM 1959 3584 \r\nQ 2709 3584 3137 3096 \r\nQ 3566 2609 3566 1747 \r\nQ 3566 888 3137 398 \r\nQ 2709 -91 1959 -91 \r\nQ 1206 -91 779 398 \r\nQ 353 888 353 1747 \r\nQ 353 2609 779 3096 \r\nQ 1206 3584 1959 3584 \r\nz\r\n\" id=\"DejaVuSans-6f\" transform=\"scale(0.015625)\"/>\r\n       <path d=\"M 3122 3366 \r\nL 3122 2828 \r\nQ 2878 2963 2633 3030 \r\nQ 2388 3097 2138 3097 \r\nQ 1578 3097 1268 2742 \r\nQ 959 2388 959 1747 \r\nQ 959 1106 1268 751 \r\nQ 1578 397 2138 397 \r\nQ 2388 397 2633 464 \r\nQ 2878 531 3122 666 \r\nL 3122 134 \r\nQ 2881 22 2623 -34 \r\nQ 2366 -91 2075 -91 \r\nQ 1284 -91 818 406 \r\nQ 353 903 353 1747 \r\nQ 353 2603 823 3093 \r\nQ 1294 3584 2113 3584 \r\nQ 2378 3584 2631 3529 \r\nQ 2884 3475 3122 3366 \r\nz\r\n\" id=\"DejaVuSans-63\" transform=\"scale(0.015625)\"/>\r\n       <path d=\"M 3513 2113 \r\nL 3513 0 \r\nL 2938 0 \r\nL 2938 2094 \r\nQ 2938 2591 2744 2837 \r\nQ 2550 3084 2163 3084 \r\nQ 1697 3084 1428 2787 \r\nQ 1159 2491 1159 1978 \r\nL 1159 0 \r\nL 581 0 \r\nL 581 4863 \r\nL 1159 4863 \r\nL 1159 2956 \r\nQ 1366 3272 1645 3428 \r\nQ 1925 3584 2291 3584 \r\nQ 2894 3584 3203 3211 \r\nQ 3513 2838 3513 2113 \r\nz\r\n\" id=\"DejaVuSans-68\" transform=\"scale(0.015625)\"/>\r\n      </defs>\r\n      <use xlink:href=\"#DejaVuSans-45\"/>\r\n      <use x=\"63.183594\" xlink:href=\"#DejaVuSans-70\"/>\r\n      <use x=\"126.660156\" xlink:href=\"#DejaVuSans-6f\"/>\r\n      <use x=\"187.841797\" xlink:href=\"#DejaVuSans-63\"/>\r\n      <use x=\"242.822266\" xlink:href=\"#DejaVuSans-68\"/>\r\n     </g>\r\n    </g>\r\n   </g>\r\n   <g id=\"matplotlib.axis_2\">\r\n    <g id=\"ytick_1\">\r\n     <g id=\"line2d_7\">\r\n      <defs>\r\n       <path d=\"M 0 0 \r\nL -3.5 0 \r\n\" id=\"m665b49fb61\" style=\"stroke:#000000;stroke-width:0.8;\"/>\r\n      </defs>\r\n      <g>\r\n       <use style=\"stroke:#000000;stroke-width:0.8;\" x=\"43.78125\" xlink:href=\"#m665b49fb61\" y=\"215.007265\"/>\r\n      </g>\r\n     </g>\r\n     <g id=\"text_8\">\r\n      <!-- 0.0 -->\r\n      <g transform=\"translate(20.878125 218.806484)scale(0.1 -0.1)\">\r\n       <defs>\r\n        <path d=\"M 684 794 \r\nL 1344 794 \r\nL 1344 0 \r\nL 684 0 \r\nL 684 794 \r\nz\r\n\" id=\"DejaVuSans-2e\" transform=\"scale(0.015625)\"/>\r\n       </defs>\r\n       <use xlink:href=\"#DejaVuSans-30\"/>\r\n       <use x=\"63.623047\" xlink:href=\"#DejaVuSans-2e\"/>\r\n       <use x=\"95.410156\" xlink:href=\"#DejaVuSans-30\"/>\r\n      </g>\r\n     </g>\r\n    </g>\r\n    <g id=\"ytick_2\">\r\n     <g id=\"line2d_8\">\r\n      <g>\r\n       <use style=\"stroke:#000000;stroke-width:0.8;\" x=\"43.78125\" xlink:href=\"#m665b49fb61\" y=\"175.99812\"/>\r\n      </g>\r\n     </g>\r\n     <g id=\"text_9\">\r\n      <!-- 0.1 -->\r\n      <g transform=\"translate(20.878125 179.797338)scale(0.1 -0.1)\">\r\n       <use xlink:href=\"#DejaVuSans-30\"/>\r\n       <use x=\"63.623047\" xlink:href=\"#DejaVuSans-2e\"/>\r\n       <use x=\"95.410156\" xlink:href=\"#DejaVuSans-31\"/>\r\n      </g>\r\n     </g>\r\n    </g>\r\n    <g id=\"ytick_3\">\r\n     <g id=\"line2d_9\">\r\n      <g>\r\n       <use style=\"stroke:#000000;stroke-width:0.8;\" x=\"43.78125\" xlink:href=\"#m665b49fb61\" y=\"136.988974\"/>\r\n      </g>\r\n     </g>\r\n     <g id=\"text_10\">\r\n      <!-- 0.2 -->\r\n      <g transform=\"translate(20.878125 140.788193)scale(0.1 -0.1)\">\r\n       <use xlink:href=\"#DejaVuSans-30\"/>\r\n       <use x=\"63.623047\" xlink:href=\"#DejaVuSans-2e\"/>\r\n       <use x=\"95.410156\" xlink:href=\"#DejaVuSans-32\"/>\r\n      </g>\r\n     </g>\r\n    </g>\r\n    <g id=\"ytick_4\">\r\n     <g id=\"line2d_10\">\r\n      <g>\r\n       <use style=\"stroke:#000000;stroke-width:0.8;\" x=\"43.78125\" xlink:href=\"#m665b49fb61\" y=\"97.979829\"/>\r\n      </g>\r\n     </g>\r\n     <g id=\"text_11\">\r\n      <!-- 0.3 -->\r\n      <g transform=\"translate(20.878125 101.779048)scale(0.1 -0.1)\">\r\n       <defs>\r\n        <path d=\"M 2597 2516 \r\nQ 3050 2419 3304 2112 \r\nQ 3559 1806 3559 1356 \r\nQ 3559 666 3084 287 \r\nQ 2609 -91 1734 -91 \r\nQ 1441 -91 1130 -33 \r\nQ 819 25 488 141 \r\nL 488 750 \r\nQ 750 597 1062 519 \r\nQ 1375 441 1716 441 \r\nQ 2309 441 2620 675 \r\nQ 2931 909 2931 1356 \r\nQ 2931 1769 2642 2001 \r\nQ 2353 2234 1838 2234 \r\nL 1294 2234 \r\nL 1294 2753 \r\nL 1863 2753 \r\nQ 2328 2753 2575 2939 \r\nQ 2822 3125 2822 3475 \r\nQ 2822 3834 2567 4026 \r\nQ 2313 4219 1838 4219 \r\nQ 1578 4219 1281 4162 \r\nQ 984 4106 628 3988 \r\nL 628 4550 \r\nQ 988 4650 1302 4700 \r\nQ 1616 4750 1894 4750 \r\nQ 2613 4750 3031 4423 \r\nQ 3450 4097 3450 3541 \r\nQ 3450 3153 3228 2886 \r\nQ 3006 2619 2597 2516 \r\nz\r\n\" id=\"DejaVuSans-33\" transform=\"scale(0.015625)\"/>\r\n       </defs>\r\n       <use xlink:href=\"#DejaVuSans-30\"/>\r\n       <use x=\"63.623047\" xlink:href=\"#DejaVuSans-2e\"/>\r\n       <use x=\"95.410156\" xlink:href=\"#DejaVuSans-33\"/>\r\n      </g>\r\n     </g>\r\n    </g>\r\n    <g id=\"ytick_5\">\r\n     <g id=\"line2d_11\">\r\n      <g>\r\n       <use style=\"stroke:#000000;stroke-width:0.8;\" x=\"43.78125\" xlink:href=\"#m665b49fb61\" y=\"58.970683\"/>\r\n      </g>\r\n     </g>\r\n     <g id=\"text_12\">\r\n      <!-- 0.4 -->\r\n      <g transform=\"translate(20.878125 62.769902)scale(0.1 -0.1)\">\r\n       <use xlink:href=\"#DejaVuSans-30\"/>\r\n       <use x=\"63.623047\" xlink:href=\"#DejaVuSans-2e\"/>\r\n       <use x=\"95.410156\" xlink:href=\"#DejaVuSans-34\"/>\r\n      </g>\r\n     </g>\r\n    </g>\r\n    <g id=\"ytick_6\">\r\n     <g id=\"line2d_12\">\r\n      <g>\r\n       <use style=\"stroke:#000000;stroke-width:0.8;\" x=\"43.78125\" xlink:href=\"#m665b49fb61\" y=\"19.961538\"/>\r\n      </g>\r\n     </g>\r\n     <g id=\"text_13\">\r\n      <!-- 0.5 -->\r\n      <g transform=\"translate(20.878125 23.760757)scale(0.1 -0.1)\">\r\n       <defs>\r\n        <path d=\"M 691 4666 \r\nL 3169 4666 \r\nL 3169 4134 \r\nL 1269 4134 \r\nL 1269 2991 \r\nQ 1406 3038 1543 3061 \r\nQ 1681 3084 1819 3084 \r\nQ 2600 3084 3056 2656 \r\nQ 3513 2228 3513 1497 \r\nQ 3513 744 3044 326 \r\nQ 2575 -91 1722 -91 \r\nQ 1428 -91 1123 -41 \r\nQ 819 9 494 109 \r\nL 494 744 \r\nQ 775 591 1075 516 \r\nQ 1375 441 1709 441 \r\nQ 2250 441 2565 725 \r\nQ 2881 1009 2881 1497 \r\nQ 2881 1984 2565 2268 \r\nQ 2250 2553 1709 2553 \r\nQ 1456 2553 1204 2497 \r\nQ 953 2441 691 2322 \r\nL 691 4666 \r\nz\r\n\" id=\"DejaVuSans-35\" transform=\"scale(0.015625)\"/>\r\n       </defs>\r\n       <use xlink:href=\"#DejaVuSans-30\"/>\r\n       <use x=\"63.623047\" xlink:href=\"#DejaVuSans-2e\"/>\r\n       <use x=\"95.410156\" xlink:href=\"#DejaVuSans-35\"/>\r\n      </g>\r\n     </g>\r\n    </g>\r\n    <g id=\"text_14\">\r\n     <!-- Loss -->\r\n     <g transform=\"translate(14.798438 126.887187)rotate(-90)scale(0.1 -0.1)\">\r\n      <defs>\r\n       <path d=\"M 628 4666 \r\nL 1259 4666 \r\nL 1259 531 \r\nL 3531 531 \r\nL 3531 0 \r\nL 628 0 \r\nL 628 4666 \r\nz\r\n\" id=\"DejaVuSans-4c\" transform=\"scale(0.015625)\"/>\r\n       <path d=\"M 2834 3397 \r\nL 2834 2853 \r\nQ 2591 2978 2328 3040 \r\nQ 2066 3103 1784 3103 \r\nQ 1356 3103 1142 2972 \r\nQ 928 2841 928 2578 \r\nQ 928 2378 1081 2264 \r\nQ 1234 2150 1697 2047 \r\nL 1894 2003 \r\nQ 2506 1872 2764 1633 \r\nQ 3022 1394 3022 966 \r\nQ 3022 478 2636 193 \r\nQ 2250 -91 1575 -91 \r\nQ 1294 -91 989 -36 \r\nQ 684 19 347 128 \r\nL 347 722 \r\nQ 666 556 975 473 \r\nQ 1284 391 1588 391 \r\nQ 1994 391 2212 530 \r\nQ 2431 669 2431 922 \r\nQ 2431 1156 2273 1281 \r\nQ 2116 1406 1581 1522 \r\nL 1381 1569 \r\nQ 847 1681 609 1914 \r\nQ 372 2147 372 2553 \r\nQ 372 3047 722 3315 \r\nQ 1072 3584 1716 3584 \r\nQ 2034 3584 2315 3537 \r\nQ 2597 3491 2834 3397 \r\nz\r\n\" id=\"DejaVuSans-73\" transform=\"scale(0.015625)\"/>\r\n      </defs>\r\n      <use xlink:href=\"#DejaVuSans-4c\"/>\r\n      <use x=\"53.962891\" xlink:href=\"#DejaVuSans-6f\"/>\r\n      <use x=\"115.144531\" xlink:href=\"#DejaVuSans-73\"/>\r\n      <use x=\"167.244141\" xlink:href=\"#DejaVuSans-73\"/>\r\n     </g>\r\n    </g>\r\n   </g>\r\n   <g id=\"line2d_13\">\r\n    <path clip-path=\"url(#p15ff60fa18)\" d=\"M 58.999432 17.083636 \r\nL 62.073812 82.108512 \r\nL 65.148192 107.10348 \r\nL 68.222572 129.168033 \r\nL 71.296952 141.872831 \r\nL 74.371333 151.47083 \r\nL 77.445713 167.413637 \r\nL 80.520093 174.808779 \r\nL 83.594473 179.703184 \r\nL 86.668853 186.53721 \r\nL 89.743233 186.144665 \r\nL 92.817614 191.114965 \r\nL 95.891994 195.360332 \r\nL 98.966374 195.29568 \r\nL 102.040754 197.933513 \r\nL 105.115134 200.998007 \r\nL 108.189514 200.199428 \r\nL 111.263895 201.162735 \r\nL 114.338275 203.171327 \r\nL 117.412655 203.970247 \r\nL 120.487035 207.241641 \r\nL 123.561415 203.163248 \r\nL 126.635795 205.005759 \r\nL 129.710176 205.491014 \r\nL 132.784556 208.092736 \r\nL 135.858936 206.108875 \r\nL 138.933316 208.569575 \r\nL 142.007696 208.044359 \r\nL 145.082076 209.311479 \r\nL 148.156457 208.217647 \r\nL 151.230837 209.015116 \r\nL 154.305217 209.060773 \r\nL 157.379597 210.445292 \r\nL 160.453977 210.109973 \r\nL 163.528357 210.794401 \r\nL 166.602738 209.59656 \r\nL 169.677118 210.072541 \r\nL 172.751498 211.631567 \r\nL 175.825878 210.995778 \r\nL 178.900258 209.146969 \r\nL 181.974638 212.046842 \r\nL 185.049019 212.564132 \r\nL 188.123399 212.170806 \r\nL 191.197779 213.050196 \r\nL 194.272159 211.234749 \r\nL 197.346539 211.379119 \r\nL 200.420919 213.241597 \r\nL 203.4953 212.084075 \r\nL 206.56968 212.493848 \r\nL 209.64406 212.944936 \r\nL 212.71844 213.653792 \r\nL 215.79282 213.690211 \r\nL 218.8672 212.691521 \r\nL 221.941581 212.188785 \r\nL 225.015961 213.990744 \r\nL 228.090341 213.606454 \r\nL 231.164721 211.336691 \r\nL 234.239101 213.759934 \r\nL 237.313481 212.950497 \r\nL 240.387862 213.376317 \r\nL 243.462242 214.068684 \r\nL 246.536622 212.205954 \r\nL 249.611002 213.811931 \r\nL 252.685382 213.964176 \r\nL 255.759762 214.264798 \r\nL 258.834143 214.166618 \r\nL 261.908523 213.80751 \r\nL 264.982903 213.57315 \r\nL 268.057283 214.486374 \r\nL 271.131663 214.514734 \r\nL 274.206043 214.505784 \r\nL 277.280424 213.773918 \r\nL 280.354804 213.479378 \r\nL 283.429184 214.311227 \r\nL 286.503564 214.293211 \r\nL 289.577944 214.409346 \r\nL 292.652324 214.557702 \r\nL 295.726705 214.550683 \r\nL 298.801085 213.723349 \r\nL 301.875465 213.43697 \r\nL 304.949845 214.443045 \r\nL 308.024225 214.671698 \r\nL 311.098605 214.595158 \r\nL 314.172986 214.640961 \r\nL 317.247366 214.602849 \r\nL 320.321746 214.235 \r\nL 323.396126 214.677719 \r\nL 326.470506 214.503043 \r\nL 329.544886 214.655716 \r\nL 332.619267 214.313968 \r\nL 335.693647 214.176283 \r\nL 338.768027 214.19293 \r\nL 341.842407 214.532913 \r\nL 344.916787 214.731231 \r\nL 347.991167 214.617113 \r\nL 351.065548 214.405646 \r\nL 354.139928 214.310259 \r\nL 357.214308 214.434441 \r\nL 360.288688 214.619714 \r\nL 363.363068 214.756364 \r\n\" style=\"fill:none;stroke:#1f77b4;stroke-linecap:square;stroke-width:1.5;\"/>\r\n   </g>\r\n   <g id=\"line2d_14\">\r\n    <path clip-path=\"url(#p15ff60fa18)\" d=\"M 58.999432 67.189421 \r\nL 62.073812 72.097321 \r\nL 65.148192 125.371718 \r\nL 68.222572 140.4258 \r\nL 71.296952 114.895862 \r\nL 74.371333 170.400078 \r\nL 77.445713 172.953671 \r\nL 80.520093 175.154723 \r\nL 83.594473 188.804696 \r\nL 86.668853 177.205615 \r\nL 89.743233 192.979603 \r\nL 92.817614 198.316689 \r\nL 95.891994 190.765121 \r\nL 98.966374 199.170132 \r\nL 102.040754 198.185645 \r\nL 105.115134 194.271254 \r\nL 108.189514 184.92708 \r\nL 111.263895 203.48712 \r\nL 114.338275 200.883283 \r\nL 117.412655 205.802708 \r\nL 120.487035 204.917272 \r\nL 123.561415 206.873843 \r\nL 126.635795 202.917259 \r\nL 129.710176 207.459891 \r\nL 132.784556 196.811151 \r\nL 135.858936 205.334437 \r\nL 138.933316 204.870488 \r\nL 142.007696 209.91265 \r\nL 145.082076 201.12671 \r\nL 148.156457 209.689135 \r\nL 151.230837 210.642425 \r\nL 154.305217 210.616533 \r\nL 157.379597 211.248742 \r\nL 160.453977 207.82202 \r\nL 163.528357 205.982626 \r\nL 166.602738 210.953842 \r\nL 169.677118 211.51978 \r\nL 172.751498 212.364186 \r\nL 175.825878 212.048841 \r\nL 178.900258 207.20034 \r\nL 181.974638 207.646594 \r\nL 185.049019 212.400793 \r\nL 188.123399 212.636262 \r\nL 191.197779 208.669882 \r\nL 194.272159 211.501624 \r\nL 197.346539 212.197966 \r\nL 200.420919 212.849255 \r\nL 203.4953 210.643544 \r\nL 206.56968 212.662306 \r\nL 209.64406 213.103704 \r\nL 212.71844 213.173303 \r\nL 215.79282 213.405108 \r\nL 218.8672 212.859622 \r\nL 221.941581 213.824742 \r\nL 225.015961 213.646882 \r\nL 228.090341 213.367611 \r\nL 231.164721 213.029259 \r\nL 234.239101 209.163715 \r\nL 237.313481 210.767645 \r\nL 240.387862 213.581159 \r\nL 243.462242 213.061421 \r\nL 246.536622 213.074494 \r\nL 249.611002 213.756743 \r\nL 252.685382 213.689679 \r\nL 255.759762 214.069145 \r\nL 258.834143 211.917005 \r\nL 261.908523 213.565919 \r\nL 264.982903 212.329829 \r\nL 268.057283 213.556048 \r\nL 271.131663 213.903898 \r\nL 274.206043 213.813904 \r\nL 277.280424 213.887912 \r\nL 280.354804 213.858222 \r\nL 283.429184 213.805494 \r\nL 286.503564 214.268069 \r\nL 289.577944 214.501528 \r\nL 292.652324 214.446324 \r\nL 295.726705 214.182524 \r\nL 298.801085 206.301005 \r\nL 301.875465 214.266276 \r\nL 304.949845 214.296277 \r\nL 308.024225 214.401487 \r\nL 311.098605 212.955124 \r\nL 314.172986 213.986566 \r\nL 317.247366 212.528466 \r\nL 320.321746 214.225216 \r\nL 323.396126 214.505627 \r\nL 326.470506 214.165876 \r\nL 329.544886 211.691061 \r\nL 332.619267 214.438846 \r\nL 335.693647 214.506677 \r\nL 338.768027 214.355003 \r\nL 341.842407 214.06969 \r\nL 344.916787 214.511737 \r\nL 347.991167 214.461089 \r\nL 351.065548 214.585957 \r\nL 354.139928 207.155387 \r\nL 357.214308 214.274215 \r\nL 360.288688 214.602454 \r\nL 363.363068 213.73691 \r\n\" style=\"fill:none;stroke:#ff7f0e;stroke-linecap:square;stroke-width:1.5;\"/>\r\n   </g>\r\n   <g id=\"patch_3\">\r\n    <path d=\"M 43.78125 224.64 \r\nL 43.78125 7.2 \r\n\" style=\"fill:none;stroke:#000000;stroke-linecap:square;stroke-linejoin:miter;stroke-width:0.8;\"/>\r\n   </g>\r\n   <g id=\"patch_4\">\r\n    <path d=\"M 378.58125 224.64 \r\nL 378.58125 7.2 \r\n\" style=\"fill:none;stroke:#000000;stroke-linecap:square;stroke-linejoin:miter;stroke-width:0.8;\"/>\r\n   </g>\r\n   <g id=\"patch_5\">\r\n    <path d=\"M 43.78125 224.64 \r\nL 378.58125 224.64 \r\n\" style=\"fill:none;stroke:#000000;stroke-linecap:square;stroke-linejoin:miter;stroke-width:0.8;\"/>\r\n   </g>\r\n   <g id=\"patch_6\">\r\n    <path d=\"M 43.78125 7.2 \r\nL 378.58125 7.2 \r\n\" style=\"fill:none;stroke:#000000;stroke-linecap:square;stroke-linejoin:miter;stroke-width:0.8;\"/>\r\n   </g>\r\n   <g id=\"legend_1\">\r\n    <g id=\"patch_7\">\r\n     <path d=\"M 300.440625 219.64 \r\nL 371.58125 219.64 \r\nQ 373.58125 219.64 373.58125 217.64 \r\nL 373.58125 189.005625 \r\nQ 373.58125 187.005625 371.58125 187.005625 \r\nL 300.440625 187.005625 \r\nQ 298.440625 187.005625 298.440625 189.005625 \r\nL 298.440625 217.64 \r\nQ 298.440625 219.64 300.440625 219.64 \r\nz\r\n\" style=\"fill:#ffffff;opacity:0.8;stroke:#cccccc;stroke-linejoin:miter;\"/>\r\n    </g>\r\n    <g id=\"line2d_15\">\r\n     <path d=\"M 302.440625 195.104062 \r\nL 322.440625 195.104062 \r\n\" style=\"fill:none;stroke:#1f77b4;stroke-linecap:square;stroke-width:1.5;\"/>\r\n    </g>\r\n    <g id=\"line2d_16\"/>\r\n    <g id=\"text_15\">\r\n     <!-- Loss -->\r\n     <g transform=\"translate(330.440625 198.604062)scale(0.1 -0.1)\">\r\n      <use xlink:href=\"#DejaVuSans-4c\"/>\r\n      <use x=\"53.962891\" xlink:href=\"#DejaVuSans-6f\"/>\r\n      <use x=\"115.144531\" xlink:href=\"#DejaVuSans-73\"/>\r\n      <use x=\"167.244141\" xlink:href=\"#DejaVuSans-73\"/>\r\n     </g>\r\n    </g>\r\n    <g id=\"line2d_17\">\r\n     <path d=\"M 302.440625 209.782187 \r\nL 322.440625 209.782187 \r\n\" style=\"fill:none;stroke:#ff7f0e;stroke-linecap:square;stroke-width:1.5;\"/>\r\n    </g>\r\n    <g id=\"line2d_18\"/>\r\n    <g id=\"text_16\">\r\n     <!-- val_loss -->\r\n     <g transform=\"translate(330.440625 213.282187)scale(0.1 -0.1)\">\r\n      <defs>\r\n       <path d=\"M 191 3500 \r\nL 800 3500 \r\nL 1894 563 \r\nL 2988 3500 \r\nL 3597 3500 \r\nL 2284 0 \r\nL 1503 0 \r\nL 191 3500 \r\nz\r\n\" id=\"DejaVuSans-76\" transform=\"scale(0.015625)\"/>\r\n       <path d=\"M 2194 1759 \r\nQ 1497 1759 1228 1600 \r\nQ 959 1441 959 1056 \r\nQ 959 750 1161 570 \r\nQ 1363 391 1709 391 \r\nQ 2188 391 2477 730 \r\nQ 2766 1069 2766 1631 \r\nL 2766 1759 \r\nL 2194 1759 \r\nz\r\nM 3341 1997 \r\nL 3341 0 \r\nL 2766 0 \r\nL 2766 531 \r\nQ 2569 213 2275 61 \r\nQ 1981 -91 1556 -91 \r\nQ 1019 -91 701 211 \r\nQ 384 513 384 1019 \r\nQ 384 1609 779 1909 \r\nQ 1175 2209 1959 2209 \r\nL 2766 2209 \r\nL 2766 2266 \r\nQ 2766 2663 2505 2880 \r\nQ 2244 3097 1772 3097 \r\nQ 1472 3097 1187 3025 \r\nQ 903 2953 641 2809 \r\nL 641 3341 \r\nQ 956 3463 1253 3523 \r\nQ 1550 3584 1831 3584 \r\nQ 2591 3584 2966 3190 \r\nQ 3341 2797 3341 1997 \r\nz\r\n\" id=\"DejaVuSans-61\" transform=\"scale(0.015625)\"/>\r\n       <path d=\"M 603 4863 \r\nL 1178 4863 \r\nL 1178 0 \r\nL 603 0 \r\nL 603 4863 \r\nz\r\n\" id=\"DejaVuSans-6c\" transform=\"scale(0.015625)\"/>\r\n       <path d=\"M 3263 -1063 \r\nL 3263 -1509 \r\nL -63 -1509 \r\nL -63 -1063 \r\nL 3263 -1063 \r\nz\r\n\" id=\"DejaVuSans-5f\" transform=\"scale(0.015625)\"/>\r\n      </defs>\r\n      <use xlink:href=\"#DejaVuSans-76\"/>\r\n      <use x=\"59.179688\" xlink:href=\"#DejaVuSans-61\"/>\r\n      <use x=\"120.458984\" xlink:href=\"#DejaVuSans-6c\"/>\r\n      <use x=\"148.242188\" xlink:href=\"#DejaVuSans-5f\"/>\r\n      <use x=\"198.242188\" xlink:href=\"#DejaVuSans-6c\"/>\r\n      <use x=\"226.025391\" xlink:href=\"#DejaVuSans-6f\"/>\r\n      <use x=\"287.207031\" xlink:href=\"#DejaVuSans-73\"/>\r\n      <use x=\"339.306641\" xlink:href=\"#DejaVuSans-73\"/>\r\n     </g>\r\n    </g>\r\n   </g>\r\n  </g>\r\n </g>\r\n <defs>\r\n  <clipPath id=\"p15ff60fa18\">\r\n   <rect height=\"217.44\" width=\"334.8\" x=\"43.78125\" y=\"7.2\"/>\r\n  </clipPath>\r\n </defs>\r\n</svg>\r\n",
      "image/png": "[encoded data removed]"
     },
     "metadata": {
      "needs_background": "light"
     }
    }
   ],
   "source": [
    "plot_history(history)\n",
    "model.evaluate(test_X, y_test)"
   ]
  },
  {
   "cell_type": "code",
   "execution_count": null,
   "metadata": {},
   "outputs": [],
   "source": []
  }
 ],
 "metadata": {
  "interpreter": {
   "hash": "50af46669fc1fbf4a481a8ca2944115fd3a2e5a871b7b13ed20079dadcd15667"
  },
  "kernelspec": {
   "name": "python3",
   "display_name": "Python 3.9.6 64-bit (windows store)"
  },
  "language_info": {
   "codemirror_mode": {
    "name": "ipython",
    "version": 3
   },
   "file_extension": ".py",
   "mimetype": "text/x-python",
   "name": "python",
   "nbconvert_exporter": "python",
   "pygments_lexer": "ipython3",
   "version": "3.9.6"
  },
  "metadata": {
   "interpreter": {
    "hash": "50af46669fc1fbf4a481a8ca2944115fd3a2e5a871b7b13ed20079dadcd15667"
   }
  }
 },
 "nbformat": 4,
 "nbformat_minor": 2
}
